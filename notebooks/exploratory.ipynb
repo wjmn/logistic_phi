{
 "cells": [
  {
   "cell_type": "markdown",
   "metadata": {},
   "source": [
    "# Setup"
   ]
  },
  {
   "cell_type": "code",
   "execution_count": 1,
   "metadata": {},
   "outputs": [],
   "source": [
    "import pyphi\n",
    "import numpy as np\n",
    "import scipy.io as sio\n",
    "from scipy import stats\n",
    "import matplotlib.pyplot as plt\n",
    "import pandas as pd\n",
    "import itertools\n",
    "import patsy\n",
    "from sklearn.linear_model import LogisticRegression\n",
    "from sklearn.preprocessing import binarize"
   ]
  },
  {
   "cell_type": "code",
   "execution_count": 2,
   "metadata": {},
   "outputs": [],
   "source": [
    "import warnings\n",
    "warnings.filterwarnings(\"ignore\")\n",
    "# UNCOMMENT ABOVE TO CHECK DEPRECATIONS"
   ]
  },
  {
   "cell_type": "code",
   "execution_count": 3,
   "metadata": {},
   "outputs": [],
   "source": [
    "%matplotlib inline"
   ]
  },
  {
   "cell_type": "code",
   "execution_count": 4,
   "metadata": {},
   "outputs": [
    {
     "name": "stdout",
     "output_type": "stream",
     "text": [
      "Pixiedust database opened successfully\n"
     ]
    },
    {
     "data": {
      "text/html": [
       "\n",
       "        <div style=\"margin:10px\">\n",
       "            <a href=\"https://github.com/ibm-watson-data-lab/pixiedust\" target=\"_new\">\n",
       "                <img src=\"https://github.com/ibm-watson-data-lab/pixiedust/raw/master/docs/_static/pd_icon32.png\" style=\"float:left;margin-right:10px\"/>\n",
       "            </a>\n",
       "            <span>Pixiedust version 1.1.15</span>\n",
       "        </div>\n",
       "        "
      ],
      "text/plain": [
       "<IPython.core.display.HTML object>"
      ]
     },
     "metadata": {},
     "output_type": "display_data"
    }
   ],
   "source": [
    "import pixiedust"
   ]
  },
  {
   "cell_type": "code",
   "execution_count": 5,
   "metadata": {},
   "outputs": [],
   "source": [
    "pyphi.config.PROGRESS_BARS = False"
   ]
  },
  {
   "cell_type": "markdown",
   "metadata": {},
   "source": [
    "## Immutables"
   ]
  },
  {
   "cell_type": "code",
   "execution_count": 6,
   "metadata": {},
   "outputs": [],
   "source": [
    "RAW_DATA_DIR = \"../data/raw/\"\n",
    "SAMPLE_DATA_FILE = \"split2250_bipolarRerefType1_lineNoiseRemoved_postPuffpreStim.mat\""
   ]
  },
  {
   "cell_type": "code",
   "execution_count": 7,
   "metadata": {},
   "outputs": [],
   "source": [
    "FLY_DATA = sio.loadmat(RAW_DATA_DIR + SAMPLE_DATA_FILE).get(\"fly_data\")"
   ]
  },
  {
   "cell_type": "markdown",
   "metadata": {},
   "source": [
    "# Processing Functions"
   ]
  },
  {
   "cell_type": "code",
   "execution_count": 49,
   "metadata": {},
   "outputs": [],
   "source": [
    "def gen_log_reg(data, tau=1):\n",
    "    \"\"\" Generate logistic regression for binarised past and present states.\n",
    "    \n",
    "    Args:\n",
    "        data (array): (timepoints, channels, trials) array of binarised data.\n",
    "                      The data will pool each timepoint step as a separate trial.\n",
    "        tau (int): Time lag between present and next state.\n",
    "                      \n",
    "    Returns: \n",
    "        List of Logistic regressions (fitted) for each channel.\n",
    "    \"\"\"\n",
    "    \n",
    "    n_timepoints, n_channels, n_trials = data.shape\n",
    "    \n",
    "    presents = data[:n_timepoints - tau, :, :]\\\n",
    "                .transpose(2, 0, 1)\\\n",
    "                .reshape((n_trials * (n_timepoints - tau), n_channels))\n",
    "    nexts = data[tau:, :, :]\\\n",
    "                .transpose(2, 0, 1)\\\n",
    "                .reshape((n_trials * (n_timepoints - tau), n_channels))\n",
    "    \n",
    "    # TODO find faster way to construct dict\n",
    "    data_dict = {\"x{}\".format(i_x): presents[:, i_x] for \\\n",
    "                i_x in range(n_channels)}\n",
    "    \n",
    "    patsy_str = \"*\".join([\"x{}\".format(i_x) for i_x in range(n_channels)])\n",
    "    \n",
    "    X_dmatrix = patsy.dmatrix(patsy_str, data_dict)\n",
    "    Xs = X_dmatrix[:, 1:] # exclude intercept term\n",
    "    \n",
    "    models = []\n",
    "    \n",
    "    for i_c in range(n_channels):\n",
    "        y = nexts[:, i_c]\n",
    "        lr = LogisticRegression(solver='lbfgs')\n",
    "        model = lr.fit(Xs, y)\n",
    "        models.append(model)\n",
    "    \n",
    "    return models"
   ]
  },
  {
   "cell_type": "code",
   "execution_count": 50,
   "metadata": {},
   "outputs": [],
   "source": [
    "def models_to_tpm(models, n_channels):\n",
    "    \"\"\" Converts a logistic regression model to a TPM\n",
    "    \n",
    "    Args:\n",
    "        models: List of fitted logistic regression models.\n",
    "        n_channels (int): Number of channels used to generate model.\n",
    "        \n",
    "    Returns:\n",
    "        A numpy array as a TPM.\n",
    "    \"\"\"\n",
    "    \n",
    "    tpm_shape = [2] * n_channels + [n_channels]\n",
    "    \n",
    "    tpm = np.zeros(tpm_shape)\n",
    "    \n",
    "    for state in itertools.product((0, 1), repeat=n_channels):\n",
    "        for i_m, model in enumerate(models):\n",
    "            state_arr = np.array(state)\n",
    "            data_dict = {\"x{}\".format(i_x): state_arr[i_x] for \\\n",
    "                        i_x in range(n_channels)}\n",
    "            patsy_str = \"*\".join([\"x{}\".format(i_x) for i_x in range(n_channels)])\n",
    "            state_dmatrix = patsy.dmatrix(patsy_str, data_dict)\n",
    "            state_interact = state_dmatrix[:, 1:]\n",
    "            tpm[state + (i_m,)] = model.predict_proba(state_interact)[0][1]\n",
    "    \n",
    "    return tpm"
   ]
  },
  {
   "cell_type": "code",
   "execution_count": 51,
   "metadata": {},
   "outputs": [],
   "source": [
    "def tpm_log_reg(data, tau=1):\n",
    "    \"\"\" Generate tpm using log regression for binarised past and present states.\n",
    "    \n",
    "    Args:\n",
    "        data (array): (timepoints, channels, trials) array of binarised data.\n",
    "                      The data will pool each timepoint step as a separate trial.\n",
    "                      \n",
    "    Returns: \n",
    "        TPM for the input data.\n",
    "    \"\"\"\n",
    "    \n",
    "    _, n_channels, _ = data.shape\n",
    "    \n",
    "    return models_to_tpm(gen_log_reg(data, tau=tau), n_channels)"
   ]
  },
  {
   "cell_type": "markdown",
   "metadata": {},
   "source": [
    "# Testing"
   ]
  },
  {
   "cell_type": "markdown",
   "metadata": {},
   "source": [
    "## Generated Data (Deterministic)"
   ]
  },
  {
   "cell_type": "code",
   "execution_count": 52,
   "metadata": {},
   "outputs": [],
   "source": [
    "def det_generate(tpm, n_timepoints, n_channels, n_trials):\n",
    "    \n",
    "    states = list(itertools.product((0, 1), repeat=n_channels))\n",
    "    \n",
    "    samples = np.zeros((1 + n_timepoints, n_channels, (2 ** n_channels) * n_trials))\n",
    "    \n",
    "    for i_s, state in enumerate(states * n_trials):\n",
    "        samples[0, :, i_s] = np.array(state)\n",
    "        \n",
    "        for i_t in range(n_timepoints):\n",
    "            curr_state = tuple(samples[i_t, :, i_s].astype(int))\n",
    "            value = tpm[curr_state]\n",
    "            samples[i_t + 1, :, i_s] = value\n",
    "    \n",
    "    return samples"
   ]
  },
  {
   "cell_type": "code",
   "execution_count": 53,
   "metadata": {},
   "outputs": [],
   "source": [
    "test_shape = [2] * 3 + [3]\n",
    "test_tpm = np.zeros(test_shape)\n",
    "\n",
    "test_tpm[(0, 0, 0)] = np.array([0, 0, 0])\n",
    "test_tpm[(0, 0, 1)] = np.array([1, 1, 0])\n",
    "test_tpm[(0, 1, 0)] = np.array([1, 0, 1])\n",
    "test_tpm[(0, 1, 1)] = np.array([1, 1, 1])\n",
    "test_tpm[(1, 0, 0)] = np.array([0, 0, 1])\n",
    "test_tpm[(1, 0, 1)] = np.array([1, 1, 1])\n",
    "test_tpm[(1, 1, 0)] = np.array([1, 0, 0])\n",
    "test_tpm[(1, 1, 1)] = np.array([1, 1, 0])"
   ]
  },
  {
   "cell_type": "code",
   "execution_count": 54,
   "metadata": {},
   "outputs": [],
   "source": [
    "network_tpm_in = pyphi.Network(test_tpm)"
   ]
  },
  {
   "cell_type": "code",
   "execution_count": 55,
   "metadata": {},
   "outputs": [],
   "source": [
    "test_state = (1, 0, 0)"
   ]
  },
  {
   "cell_type": "code",
   "execution_count": 56,
   "metadata": {},
   "outputs": [],
   "source": [
    "subsystem_in = pyphi.Subsystem(network_tpm_in, test_state)"
   ]
  },
  {
   "cell_type": "code",
   "execution_count": 57,
   "metadata": {},
   "outputs": [
    {
     "data": {
      "text/plain": [
       "2.3125"
      ]
     },
     "execution_count": 57,
     "metadata": {},
     "output_type": "execute_result"
    }
   ],
   "source": [
    "pyphi.compute.phi(subsystem_in)"
   ]
  },
  {
   "cell_type": "markdown",
   "metadata": {},
   "source": [
    "### 10 Trials"
   ]
  },
  {
   "cell_type": "code",
   "execution_count": 58,
   "metadata": {},
   "outputs": [],
   "source": [
    "test_samples_10_trials = det_generate(test_tpm, 100, 3, 10)"
   ]
  },
  {
   "cell_type": "code",
   "execution_count": 59,
   "metadata": {
    "pixiedust": {
     "displayParams": {}
    }
   },
   "outputs": [],
   "source": [
    "out_tpm_10_trials = tpm_log_reg(test_samples_10_trials).round(decimals=1)"
   ]
  },
  {
   "cell_type": "code",
   "execution_count": 60,
   "metadata": {
    "scrolled": true
   },
   "outputs": [
    {
     "name": "stdout",
     "output_type": "stream",
     "text": [
      "STATE = (0, 0, 0), IN_TPM = [0. 0. 0.], OUT_TPM = [0. 0. 0.]\n",
      "STATE = (0, 0, 1), IN_TPM = [1. 1. 0.], OUT_TPM = [1. 1. 0.]\n",
      "STATE = (0, 1, 0), IN_TPM = [1. 0. 1.], OUT_TPM = [0.9 0.  0.1]\n",
      "STATE = (0, 1, 1), IN_TPM = [1. 1. 1.], OUT_TPM = [1.  1.  0.5]\n",
      "STATE = (1, 0, 0), IN_TPM = [0. 0. 1.], OUT_TPM = [0. 0. 1.]\n",
      "STATE = (1, 0, 1), IN_TPM = [1. 1. 1.], OUT_TPM = [1. 1. 1.]\n",
      "STATE = (1, 1, 0), IN_TPM = [1. 0. 0.], OUT_TPM = [1. 0. 0.]\n",
      "STATE = (1, 1, 1), IN_TPM = [1. 1. 0.], OUT_TPM = [1. 1. 0.]\n"
     ]
    }
   ],
   "source": [
    "for state in itertools.product((0, 1), repeat=3):\n",
    "    print(\"STATE = {}, IN_TPM = {}, OUT_TPM = {}\".format(state, \n",
    "                                                         test_tpm[state], \n",
    "                                                         out_tpm_10_trials[state]))"
   ]
  },
  {
   "cell_type": "code",
   "execution_count": 61,
   "metadata": {},
   "outputs": [],
   "source": [
    "network_tpm_out_10 = pyphi.Network(out_tpm_10_trials)"
   ]
  },
  {
   "cell_type": "code",
   "execution_count": 62,
   "metadata": {},
   "outputs": [],
   "source": [
    "subsystem_out_10 = pyphi.Subsystem(network_tpm_out_10, test_state)"
   ]
  },
  {
   "cell_type": "code",
   "execution_count": 63,
   "metadata": {},
   "outputs": [
    {
     "data": {
      "text/plain": [
       "0.881276"
      ]
     },
     "execution_count": 63,
     "metadata": {},
     "output_type": "execute_result"
    }
   ],
   "source": [
    "pyphi.compute.phi(subsystem_out_10)"
   ]
  },
  {
   "cell_type": "markdown",
   "metadata": {},
   "source": [
    "### 100 Trials"
   ]
  },
  {
   "cell_type": "code",
   "execution_count": 64,
   "metadata": {},
   "outputs": [],
   "source": [
    "test_samples_100_trials = det_generate(test_tpm, 100, 3, 100)"
   ]
  },
  {
   "cell_type": "code",
   "execution_count": 65,
   "metadata": {},
   "outputs": [],
   "source": [
    "out_tpm_100_trials = tpm_log_reg(test_samples_100_trials).round(decimals=1)"
   ]
  },
  {
   "cell_type": "code",
   "execution_count": 66,
   "metadata": {},
   "outputs": [
    {
     "name": "stdout",
     "output_type": "stream",
     "text": [
      "STATE = (0, 0, 0), IN_TPM = [0. 0. 0.], OUT_TPM = [0. 0. 0.]\n",
      "STATE = (0, 0, 1), IN_TPM = [1. 1. 0.], OUT_TPM = [1. 1. 0.]\n",
      "STATE = (0, 1, 0), IN_TPM = [1. 0. 1.], OUT_TPM = [1.  0.  0.8]\n",
      "STATE = (0, 1, 1), IN_TPM = [1. 1. 1.], OUT_TPM = [1.  1.  0.9]\n",
      "STATE = (1, 0, 0), IN_TPM = [0. 0. 1.], OUT_TPM = [0. 0. 1.]\n",
      "STATE = (1, 0, 1), IN_TPM = [1. 1. 1.], OUT_TPM = [1. 1. 1.]\n",
      "STATE = (1, 1, 0), IN_TPM = [1. 0. 0.], OUT_TPM = [1. 0. 0.]\n",
      "STATE = (1, 1, 1), IN_TPM = [1. 1. 0.], OUT_TPM = [1. 1. 0.]\n"
     ]
    }
   ],
   "source": [
    "for state in itertools.product((0, 1), repeat=3):\n",
    "    print(\"STATE = {}, IN_TPM = {}, OUT_TPM = {}\".format(state, \n",
    "                                                         test_tpm[state], \n",
    "                                                         out_tpm_100_trials[state]))"
   ]
  },
  {
   "cell_type": "markdown",
   "metadata": {},
   "source": [
    "> As a note, it seems when the number of trials is low and a certain state does not occur frequently, the transition probability from that state is quite poorly estimated (as can be seen from the comparison from 10 trials and 50 trials above). "
   ]
  },
  {
   "cell_type": "code",
   "execution_count": 43,
   "metadata": {},
   "outputs": [],
   "source": [
    "network_tpm_out_100 = pyphi.Network(out_tpm_100_trials)"
   ]
  },
  {
   "cell_type": "code",
   "execution_count": 44,
   "metadata": {},
   "outputs": [],
   "source": [
    "subsystem_out_100 = pyphi.Subsystem(network_tpm_out_100, test_state)"
   ]
  },
  {
   "cell_type": "code",
   "execution_count": 45,
   "metadata": {},
   "outputs": [
    {
     "data": {
      "text/plain": [
       "1.779672"
      ]
     },
     "execution_count": 45,
     "metadata": {},
     "output_type": "execute_result"
    }
   ],
   "source": [
    "pyphi.compute.phi(subsystem_out_100)"
   ]
  },
  {
   "cell_type": "markdown",
   "metadata": {},
   "source": [
    "## Fly Data"
   ]
  },
  {
   "cell_type": "code",
   "execution_count": 29,
   "metadata": {},
   "outputs": [
    {
     "data": {
      "text/plain": [
       "(2250, 15, 8, 13, 2)"
      ]
     },
     "execution_count": 29,
     "metadata": {},
     "output_type": "execute_result"
    }
   ],
   "source": [
    "FLY_DATA.shape"
   ]
  },
  {
   "cell_type": "markdown",
   "metadata": {},
   "source": [
    "The shape of the data corresponds to:\n",
    "\n",
    "- 2250 time samples (at 1000Hz)\n",
    "- 15 channels (bipolar re-referenced)\n",
    "- 8 \"trials\" (from one trial cut into smaller trials)\n",
    "- 13 flies\n",
    "- 2 conditions (awake and anaesthetised respectively)\n",
    "\n",
    "The reference paper is at https://doi.org/10.1523/ENEURO.0329-17.2018"
   ]
  },
  {
   "cell_type": "code",
   "execution_count": 30,
   "metadata": {},
   "outputs": [],
   "source": [
    "n_samples, n_channels, n_trials, n_flies, n_conds = FLY_DATA.shape"
   ]
  },
  {
   "cell_type": "markdown",
   "metadata": {},
   "source": [
    "Let's just subset some example data."
   ]
  },
  {
   "cell_type": "code",
   "execution_count": 31,
   "metadata": {},
   "outputs": [],
   "source": [
    "n_test_ch = 2"
   ]
  },
  {
   "cell_type": "code",
   "execution_count": 32,
   "metadata": {},
   "outputs": [],
   "source": [
    "exdata = FLY_DATA[:, 0:n_test_ch, :, 0, :]"
   ]
  },
  {
   "cell_type": "code",
   "execution_count": 33,
   "metadata": {},
   "outputs": [
    {
     "data": {
      "text/plain": [
       "(2250, 2, 8, 2)"
      ]
     },
     "execution_count": 33,
     "metadata": {},
     "output_type": "execute_result"
    }
   ],
   "source": [
    "exdata.shape"
   ]
  },
  {
   "cell_type": "markdown",
   "metadata": {},
   "source": [
    "This is already roughly in the shape we need it to be (except the last dimension)."
   ]
  },
  {
   "cell_type": "markdown",
   "metadata": {},
   "source": [
    "### Binarisation"
   ]
  },
  {
   "cell_type": "code",
   "execution_count": 34,
   "metadata": {},
   "outputs": [],
   "source": [
    "meds = [np.median(exdata[:, c, :, :]) for c in range(n_test_ch)]"
   ]
  },
  {
   "cell_type": "code",
   "execution_count": 35,
   "metadata": {},
   "outputs": [
    {
     "data": {
      "text/plain": [
       "[-12.676574489555772, -24.131163939693938]"
      ]
     },
     "execution_count": 35,
     "metadata": {},
     "output_type": "execute_result"
    }
   ],
   "source": [
    "meds"
   ]
  },
  {
   "cell_type": "code",
   "execution_count": 36,
   "metadata": {},
   "outputs": [],
   "source": [
    "exdata_bins = [np.where(exdata[:, i_ch, :, :] > meds[i_ch], 1, 0) for i_ch in range(n_test_ch)]"
   ]
  },
  {
   "cell_type": "code",
   "execution_count": 37,
   "metadata": {},
   "outputs": [],
   "source": [
    "exdata_bin = np.stack(exdata_bins, axis=1)"
   ]
  },
  {
   "cell_type": "code",
   "execution_count": 38,
   "metadata": {
    "scrolled": true
   },
   "outputs": [
    {
     "data": {
      "text/plain": [
       "(2250, 2, 8, 2)"
      ]
     },
     "execution_count": 38,
     "metadata": {},
     "output_type": "execute_result"
    }
   ],
   "source": [
    "exdata_bin.shape"
   ]
  },
  {
   "cell_type": "code",
   "execution_count": 39,
   "metadata": {},
   "outputs": [
    {
     "data": {
      "text/plain": [
       "<matplotlib.image.AxesImage at 0x1a1b16e6a0>"
      ]
     },
     "execution_count": 39,
     "metadata": {},
     "output_type": "execute_result"
    },
    {
     "data": {
      "image/png": "[encoded data removed]",
      "text/plain": [
       "<Figure size 432x288 with 2 Axes>"
      ]
     },
     "metadata": {
      "needs_background": "light"
     },
     "output_type": "display_data"
    }
   ],
   "source": [
    "plt.subplot(211)\n",
    "plt.imshow(exdata_bin[:, 0, :, 0].transpose(), aspect='auto', cmap='binary')\n",
    "plt.subplot(212)\n",
    "plt.imshow(exdata_bin[:, 0, :, 1].transpose(), aspect='auto', cmap='binary')"
   ]
  },
  {
   "cell_type": "code",
   "execution_count": 40,
   "metadata": {},
   "outputs": [
    {
     "name": "stdout",
     "output_type": "stream",
     "text": [
      "0.49344444444444446\n",
      "0.5065555555555555\n"
     ]
    }
   ],
   "source": [
    "print(np.mean(exdata_bin[:, :, :, 0]))\n",
    "print(np.mean(exdata_bin[:, :, :, 1]))"
   ]
  },
  {
   "cell_type": "markdown",
   "metadata": {},
   "source": [
    "### Example Calculation: Per State"
   ]
  },
  {
   "cell_type": "markdown",
   "metadata": {},
   "source": [
    "Let us try as an example:\n",
    "\n",
    "- Median binarisation per channel per fly\n",
    "- Time-bins of 4 samples\n",
    "- For the first two channels\n",
    "- For the first fly\n",
    "- For BOTH awake and anaesthetised conditions"
   ]
  },
  {
   "cell_type": "code",
   "execution_count": 41,
   "metadata": {},
   "outputs": [],
   "source": [
    "time_bin_width = 8"
   ]
  },
  {
   "cell_type": "markdown",
   "metadata": {},
   "source": [
    "> TODO: How should the state be determined for a given bin? (currently just taking the mode for each node across all trials and all samples within a time bin)"
   ]
  },
  {
   "cell_type": "code",
   "execution_count": 42,
   "metadata": {
    "scrolled": false
   },
   "outputs": [
    {
     "name": "stdout",
     "output_type": "stream",
     "text": [
      "SAMPLE AT TIME 0 DONE\n",
      "SAMPLE AT TIME 200 DONE\n",
      "SAMPLE AT TIME 400 DONE\n",
      "SAMPLE AT TIME 600 DONE\n",
      "SAMPLE AT TIME 800 DONE\n",
      "SAMPLE AT TIME 1000 DONE\n",
      "SAMPLE AT TIME 1200 DONE\n",
      "SAMPLE AT TIME 1400 DONE\n",
      "SAMPLE AT TIME 1600 DONE\n",
      "SAMPLE AT TIME 1800 DONE\n",
      "SAMPLE AT TIME 2000 DONE\n",
      "SAMPLE AT TIME 2200 DONE\n",
      "CPU times: user 36.4 s, sys: 31.5 s, total: 1min 7s\n",
      "Wall time: 1min 45s\n"
     ]
    }
   ],
   "source": [
    "%%time\n",
    "# phis is (samples, conds) matrix of phi values\n",
    "phis = np.zeros((n_samples - time_bin_width, n_conds))\n",
    "\n",
    "for i_s in range(0, n_samples - time_bin_width, time_bin_width): # skip every time_bin_width for testing\n",
    "    exdata_binned = exdata_bin[i_s:i_s+time_bin_width, :, :, :]\n",
    "    \n",
    "    for i_cond in range(n_conds):\n",
    "        tpm = tpm_log_reg(exdata_binned[:, :, :, i_cond])\n",
    "        network = pyphi.Network(tpm)\n",
    "        state = np.array([stats.mode(exdata_binned[:, i_ch, :, i_cond], axis=None).mode for \\\n",
    "                       i_ch in range(n_test_ch)])\n",
    "        state = state.flatten()\n",
    "        subsystem = pyphi.Subsystem(network, state)\n",
    "\n",
    "        phi = pyphi.compute.phi(subsystem)\n",
    "        \n",
    "        phis[i_s, i_cond] = phi\n",
    "    \n",
    "    if i_s % 100 == 0:\n",
    "        print(\"SAMPLE AT TIME {} DONE\".format(i_s))"
   ]
  },
  {
   "cell_type": "code",
   "execution_count": 43,
   "metadata": {},
   "outputs": [],
   "source": [
    "test_phi_file = \"../data/processed/fly_phi_test\"\n",
    "np.save(test_phi_file, phis)\n",
    "# phis = np.load(test_phi_file + \".npy\")"
   ]
  },
  {
   "cell_type": "code",
   "execution_count": 44,
   "metadata": {},
   "outputs": [
    {
     "data": {
      "text/plain": [
       "array([[0.000143, 0.012089],\n",
       "       [0.      , 0.      ],\n",
       "       [0.      , 0.      ],\n",
       "       ...,\n",
       "       [0.      , 0.      ],\n",
       "       [0.007289, 0.00584 ],\n",
       "       [0.      , 0.      ]])"
      ]
     },
     "execution_count": 44,
     "metadata": {},
     "output_type": "execute_result"
    }
   ],
   "source": [
    "phis"
   ]
  },
  {
   "cell_type": "code",
   "execution_count": 45,
   "metadata": {},
   "outputs": [
    {
     "name": "stdout",
     "output_type": "stream",
     "text": [
      "[0.00110212 0.00094659]\n"
     ]
    }
   ],
   "source": [
    "means = np.mean(phis, axis=0)\n",
    "print(means)"
   ]
  },
  {
   "cell_type": "code",
   "execution_count": 46,
   "metadata": {},
   "outputs": [
    {
     "name": "stdout",
     "output_type": "stream",
     "text": [
      "[0.00450499 0.00434083]\n"
     ]
    }
   ],
   "source": [
    "stds = np.std(phis, axis=0)\n",
    "print(stds)"
   ]
  },
  {
   "cell_type": "code",
   "execution_count": 47,
   "metadata": {},
   "outputs": [
    {
     "data": {
      "text/plain": [
       "[<matplotlib.lines.Line2D at 0x1a1b366668>]"
      ]
     },
     "execution_count": 47,
     "metadata": {},
     "output_type": "execute_result"
    },
    {
     "data": {
      "image/png": "[encoded data removed]",
      "text/plain": [
       "<Figure size 432x288 with 1 Axes>"
      ]
     },
     "metadata": {
      "needs_background": "light"
     },
     "output_type": "display_data"
    }
   ],
   "source": [
    "plt.plot(phis[:, 0])\n",
    "plt.plot(phis[:, 1])"
   ]
  },
  {
   "cell_type": "markdown",
   "metadata": {},
   "source": [
    "### Example Calculation: Across All Samples"
   ]
  },
  {
   "cell_type": "code",
   "execution_count": 48,
   "metadata": {},
   "outputs": [],
   "source": [
    "tpms = [tpm_log_reg(exdata_bin[:, :, :, i]) for i in range(n_conds)]"
   ]
  },
  {
   "cell_type": "code",
   "execution_count": 49,
   "metadata": {},
   "outputs": [],
   "source": [
    "networks = [pyphi.Network(tpm) for tpm in tpms]"
   ]
  },
  {
   "cell_type": "code",
   "execution_count": 50,
   "metadata": {},
   "outputs": [
    {
     "name": "stdout",
     "output_type": "stream",
     "text": [
      "NUMBER OF CHANNELS INCLUDED: 2\n",
      "CONDITION 0\n",
      "----------\n",
      "STATE = (0, 0), PHI = 0.00367\n",
      "STATE = (0, 1), PHI = 0.005275\n",
      "STATE = (1, 0), PHI = 0.003518\n",
      "STATE = (1, 1), PHI = 0.008638\n",
      "-----------\n",
      "\n",
      "\n",
      "CONDITION 1\n",
      "----------\n",
      "STATE = (0, 0), PHI = 0.004134\n",
      "STATE = (0, 1), PHI = 0.000603\n",
      "STATE = (1, 0), PHI = 0.000655\n",
      "STATE = (1, 1), PHI = 0.005319\n",
      "-----------\n",
      "\n",
      "\n"
     ]
    }
   ],
   "source": [
    "print(\"NUMBER OF CHANNELS INCLUDED: {}\".format(n_test_ch))\n",
    "\n",
    "states = list(itertools.product((0, 1), repeat=n_test_ch))\n",
    "\n",
    "for i_n, network in enumerate(networks):\n",
    "    print(\"CONDITION {}\\n----------\".format(i_n))\n",
    "    for state in states:\n",
    "        subsystem = pyphi.Subsystem(network, state)\n",
    "        print(\"STATE = {}, PHI = {}\".format(state, pyphi.compute.phi(subsystem)))\n",
    "    print(\"-----------\\n\\n\")"
   ]
  },
  {
   "cell_type": "markdown",
   "metadata": {},
   "source": [
    "For a test run of 4 channels:\n",
    "\n",
    "```\n",
    "\n",
    "CONDITION 0\n",
    "----------\n",
    "\n",
    "STATE = (0, 0, 0, 0), PHI = 0.021758\n",
    "STATE = (0, 0, 0, 1), PHI = 0.028135\n",
    "STATE = (0, 0, 1, 0), PHI = 0.029401\n",
    "STATE = (0, 0, 1, 1), PHI = 0.021155\n",
    "STATE = (0, 1, 0, 0), PHI = 0.025647\n",
    "STATE = (0, 1, 0, 1), PHI = 0.02143\n",
    "STATE = (0, 1, 1, 0), PHI = 0.027238\n",
    "STATE = (0, 1, 1, 1), PHI = 0.022308\n",
    "STATE = (1, 0, 0, 0), PHI = 0.021724\n",
    "STATE = (1, 0, 0, 1), PHI = 0.027762\n",
    "STATE = (1, 0, 1, 0), PHI = 0.02208\n",
    "STATE = (1, 0, 1, 1), PHI = 0.025907\n",
    "STATE = (1, 1, 0, 0), PHI = 0.012662\n",
    "STATE = (1, 1, 0, 1), PHI = 0.020735\n",
    "STATE = (1, 1, 1, 0), PHI = 0.023346\n",
    "STATE = (1, 1, 1, 1), PHI = 0.029959\n",
    "-----------\n",
    "\n",
    "\n",
    "CONDITION 1\n",
    "----------\n",
    "\n",
    "STATE = (0, 0, 0, 0), PHI = 0.007771\n",
    "STATE = (0, 0, 0, 1), PHI = 0.013678\n",
    "STATE = (0, 0, 1, 0), PHI = 0.014339\n",
    "STATE = (0, 0, 1, 1), PHI = 0.006793\n",
    "STATE = (0, 1, 0, 0), PHI = 0.009207\n",
    "STATE = (0, 1, 0, 1), PHI = 0.005924\n",
    "STATE = (0, 1, 1, 0), PHI = 0.011182\n",
    "STATE = (0, 1, 1, 1), PHI = 0.003663\n",
    "STATE = (1, 0, 0, 0), PHI = 0.004655\n",
    "STATE = (1, 0, 0, 1), PHI = 0.008968\n",
    "STATE = (1, 0, 1, 0), PHI = 0.011975\n",
    "STATE = (1, 0, 1, 1), PHI = 0.007841\n",
    "STATE = (1, 1, 0, 0), PHI = 0.00485\n",
    "STATE = (1, 1, 0, 1), PHI = 0.013608\n",
    "STATE = (1, 1, 1, 0), PHI = 0.012587\n",
    "STATE = (1, 1, 1, 1), PHI = 0.008769\n",
    "-----------\n",
    "```\n"
   ]
  }
 ],
 "metadata": {
  "kernelspec": {
   "display_name": "Python 3",
   "language": "python",
   "name": "python3"
  },
  "language_info": {
   "codemirror_mode": {
    "name": "ipython",
    "version": 3
   },
   "file_extension": ".py",
   "mimetype": "text/x-python",
   "name": "python",
   "nbconvert_exporter": "python",
   "pygments_lexer": "ipython3",
   "version": "3.6.8"
  }
 },
 "nbformat": 4,
 "nbformat_minor": 2
}
