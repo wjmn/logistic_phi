{
 "cells": [
  {
   "cell_type": "markdown",
   "metadata": {},
   "source": [
    "# Setup"
   ]
  },
  {
   "cell_type": "code",
   "execution_count": 111,
   "metadata": {},
   "outputs": [],
   "source": [
    "import pyphi\n",
    "import numpy as np\n",
    "import scipy.io as sio\n",
    "from scipy import stats\n",
    "import matplotlib.pyplot as plt\n",
    "import pandas as pd\n",
    "import itertools\n",
    "import patsy\n",
    "from sklearn.linear_model import LogisticRegression\n",
    "from sklearn.preprocessing import binarize"
   ]
  },
  {
   "cell_type": "code",
   "execution_count": 64,
   "metadata": {},
   "outputs": [],
   "source": [
    "import warnings\n",
    "warnings.filterwarnings(\"ignore\")\n",
    "# UNCOMMENT ABOVE TO CHECK DEPRECATIONS"
   ]
  },
  {
   "cell_type": "code",
   "execution_count": 2,
   "metadata": {},
   "outputs": [],
   "source": [
    "%matplotlib inline"
   ]
  },
  {
   "cell_type": "code",
   "execution_count": 3,
   "metadata": {},
   "outputs": [
    {
     "name": "stdout",
     "output_type": "stream",
     "text": [
      "Pixiedust database opened successfully\n"
     ]
    },
    {
     "data": {
      "text/html": [
       "\n",
       "        <div style=\"margin:10px\">\n",
       "            <a href=\"https://github.com/ibm-watson-data-lab/pixiedust\" target=\"_new\">\n",
       "                <img src=\"https://github.com/ibm-watson-data-lab/pixiedust/raw/master/docs/_static/pd_icon32.png\" style=\"float:left;margin-right:10px\"/>\n",
       "            </a>\n",
       "            <span>Pixiedust version 1.1.15</span>\n",
       "        </div>\n",
       "        "
      ],
      "text/plain": [
       "<IPython.core.display.HTML object>"
      ]
     },
     "metadata": {},
     "output_type": "display_data"
    }
   ],
   "source": [
    "import pixiedust"
   ]
  },
  {
   "cell_type": "code",
   "execution_count": 328,
   "metadata": {},
   "outputs": [],
   "source": [
    "pyphi.config.PROGRESS_BARS = False"
   ]
  },
  {
   "cell_type": "markdown",
   "metadata": {},
   "source": [
    "## Immutables"
   ]
  },
  {
   "cell_type": "code",
   "execution_count": 4,
   "metadata": {},
   "outputs": [],
   "source": [
    "RAW_DATA_DIR = \"../data/raw/\"\n",
    "SAMPLE_DATA_FILE = \"split2250_bipolarRerefType1_lineNoiseRemoved_postPuffpreStim.mat\""
   ]
  },
  {
   "cell_type": "code",
   "execution_count": 5,
   "metadata": {},
   "outputs": [],
   "source": [
    "FLY_DATA = sio.loadmat(RAW_DATA_DIR + SAMPLE_DATA_FILE).get(\"fly_data\")"
   ]
  },
  {
   "cell_type": "markdown",
   "metadata": {},
   "source": [
    "# Processing Functions"
   ]
  },
  {
   "cell_type": "code",
   "execution_count": 6,
   "metadata": {},
   "outputs": [],
   "source": [
    "def gen_log_reg(data):\n",
    "    \"\"\" Generate logistic regression for binarised past and present states.\n",
    "    \n",
    "    Args:\n",
    "        data (array): (timepoints, channels, trials) array of binarised data.\n",
    "                      The data will pool each timepoint step as a separate trial.\n",
    "                      \n",
    "    Returns: \n",
    "        List of Logistic regressions (fitted) for each channel.\n",
    "    \"\"\"\n",
    "    \n",
    "    n_timepoints, n_channels, n_trials = data.shape\n",
    "    \n",
    "    samples = np.zeros((n_channels * 2, (n_trials * (n_timepoints - 1))))\n",
    "    \n",
    "    for i_p in range(n_timepoints - 1):\n",
    "        sliced = data[i_p:i_p+2, :, :]\n",
    "        new_sample = sliced.reshape((n_channels * 2, n_trials))\n",
    "        samples[:, i_p * n_trials:(i_p+1)*n_trials] = new_sample\n",
    "    \n",
    "    #X = samples[0:n_channels, :].transpose()\n",
    "    \n",
    "    # TODO find faster way to construct dict\n",
    "    data_dict = {\"x{}\".format(i_x): samples[i_x] for \\\n",
    "                i_x in range(n_channels)}\n",
    "    \n",
    "    patsy_str = \"*\".join([\"x{}\".format(i_x) for i_x in range(n_channels)])\n",
    "    \n",
    "    X_dmatrix = patsy.dmatrix(patsy_str, data_dict)\n",
    "    Xs = X_dmatrix[:, 1:] # exclude intercept term\n",
    "    \n",
    "    models = []\n",
    "    \n",
    "    for i_c in range(n_channels):\n",
    "        y = samples[n_channels + i_c]\n",
    "        lr = LogisticRegression(solver='lbfgs')\n",
    "        model = lr.fit(Xs, y)\n",
    "        models.append(model)\n",
    "    \n",
    "    return models"
   ]
  },
  {
   "cell_type": "code",
   "execution_count": 7,
   "metadata": {},
   "outputs": [],
   "source": [
    "def models_to_tpm(models, n_channels):\n",
    "    \"\"\" Converts a logistic regression model to a TPM\n",
    "    \n",
    "    Args:\n",
    "        models: List of fitted logistic regression models.\n",
    "        n_channels (int): Number of channels used to generate model.\n",
    "        \n",
    "    Returns:\n",
    "        A numpy array as a TPM.\n",
    "    \"\"\"\n",
    "    \n",
    "    tpm_shape = [2] * n_channels + [n_channels]\n",
    "    \n",
    "    tpm = np.zeros(tpm_shape)\n",
    "    \n",
    "    for state in itertools.product((0, 1), repeat=n_channels):\n",
    "        for i_m, model in enumerate(models):\n",
    "            state_arr = np.array(state)\n",
    "            data_dict = {\"x{}\".format(i_x): state_arr[i_x] for \\\n",
    "                        i_x in range(n_channels)}\n",
    "            patsy_str = \"*\".join([\"x{}\".format(i_x) for i_x in range(n_channels)])\n",
    "            state_dmatrix = patsy.dmatrix(patsy_str, data_dict)\n",
    "            state_interact = state_dmatrix[:, 1:]\n",
    "            tpm[state + (i_m,)] = model.predict_proba(state_interact)[0][1]\n",
    "    \n",
    "    return tpm"
   ]
  },
  {
   "cell_type": "code",
   "execution_count": 8,
   "metadata": {},
   "outputs": [],
   "source": [
    "def tpm_log_reg(data):\n",
    "    \"\"\" Generate tpm using log regression for binarised past and present states.\n",
    "    \n",
    "    Args:\n",
    "        data (array): (timepoints, channels, trials) array of binarised data.\n",
    "                      The data will pool each timepoint step as a separate trial.\n",
    "                      \n",
    "    Returns: \n",
    "        TPM for the input data.\n",
    "    \"\"\"\n",
    "    \n",
    "    _, n_channels, _ = data.shape\n",
    "    \n",
    "    return models_to_tpm(gen_log_reg(data), n_channels)"
   ]
  },
  {
   "cell_type": "markdown",
   "metadata": {},
   "source": [
    "# Testing"
   ]
  },
  {
   "cell_type": "markdown",
   "metadata": {},
   "source": [
    "## Generated Data (Deterministic)"
   ]
  },
  {
   "cell_type": "code",
   "execution_count": 9,
   "metadata": {},
   "outputs": [],
   "source": [
    "def det_generate(tpm, n_timepoints, n_channels, n_trials):\n",
    "    \n",
    "    states = list(itertools.product((0, 1), repeat=n_channels))\n",
    "    \n",
    "    samples = np.zeros((1 + n_timepoints, n_channels, (2 ** n_channels) * n_trials))\n",
    "    \n",
    "    for i_s, state in enumerate(states * n_trials):\n",
    "        samples[0, :, i_s] = np.array(state)\n",
    "        \n",
    "        for i_t in range(n_timepoints):\n",
    "            curr_state = tuple(samples[i_t, :, i_s].astype(int))\n",
    "            value = tpm[curr_state]\n",
    "            samples[i_t + 1, :, i_s] = value\n",
    "    \n",
    "    return samples"
   ]
  },
  {
   "cell_type": "code",
   "execution_count": 17,
   "metadata": {},
   "outputs": [],
   "source": [
    "test_shape = [2] * 3 + [3]\n",
    "test_tpm = np.zeros(test_shape)\n",
    "\n",
    "test_tpm[(0, 0, 0)] = np.array([0, 0, 0])\n",
    "test_tpm[(1, 0, 0)] = np.array([0, 0, 1])\n",
    "test_tpm[(0, 1, 0)] = np.array([1, 0, 1])\n",
    "test_tpm[(1, 1, 0)] = np.array([1, 0, 0])\n",
    "test_tpm[(0, 0, 1)] = np.array([1, 1, 0])\n",
    "test_tpm[(1, 0, 1)] = np.array([1, 1, 1])\n",
    "test_tpm[(0, 1, 1)] = np.array([1, 1, 1])\n",
    "test_tpm[(1, 1, 1)] = np.array([1, 1, 0])"
   ]
  },
  {
   "cell_type": "code",
   "execution_count": 44,
   "metadata": {},
   "outputs": [],
   "source": [
    "network_tpm_in = pyphi.Network(test_tpm)"
   ]
  },
  {
   "cell_type": "code",
   "execution_count": 58,
   "metadata": {},
   "outputs": [],
   "source": [
    "test_state = (1, 0, 0)"
   ]
  },
  {
   "cell_type": "code",
   "execution_count": 59,
   "metadata": {},
   "outputs": [],
   "source": [
    "subsystem_in = pyphi.Subsystem(network_tpm_in, test_state)"
   ]
  },
  {
   "cell_type": "code",
   "execution_count": 65,
   "metadata": {},
   "outputs": [
    {
     "name": "stderr",
     "output_type": "stream",
     "text": [
      "                                                                 \r"
     ]
    },
    {
     "data": {
      "text/plain": [
       "2.3125"
      ]
     },
     "execution_count": 65,
     "metadata": {},
     "output_type": "execute_result"
    }
   ],
   "source": [
    "pyphi.compute.phi(subsystem_in)"
   ]
  },
  {
   "cell_type": "markdown",
   "metadata": {},
   "source": [
    "### 10 Trials"
   ]
  },
  {
   "cell_type": "code",
   "execution_count": 18,
   "metadata": {},
   "outputs": [],
   "source": [
    "test_samples_10_trials = det_generate(test_tpm, 100, 3, 10)"
   ]
  },
  {
   "cell_type": "code",
   "execution_count": 164,
   "metadata": {
    "pixiedust": {
     "displayParams": {}
    }
   },
   "outputs": [],
   "source": [
    "out_tpm_10_trials = tpm_log_reg(test_samples_10_trials).round(decimals=1)"
   ]
  },
  {
   "cell_type": "code",
   "execution_count": 165,
   "metadata": {
    "scrolled": true
   },
   "outputs": [
    {
     "name": "stdout",
     "output_type": "stream",
     "text": [
      "STATE = (0, 0, 0), IN_TPM = [0. 0. 0.], OUT_TPM = [0. 0. 0.]\n",
      "STATE = (0, 0, 1), IN_TPM = [1. 1. 0.], OUT_TPM = [1. 1. 0.]\n",
      "STATE = (0, 1, 0), IN_TPM = [1. 0. 1.], OUT_TPM = [0.9 0.  0.1]\n",
      "STATE = (0, 1, 1), IN_TPM = [1. 1. 1.], OUT_TPM = [1.  1.  0.5]\n",
      "STATE = (1, 0, 0), IN_TPM = [0. 0. 1.], OUT_TPM = [0. 0. 1.]\n",
      "STATE = (1, 0, 1), IN_TPM = [1. 1. 1.], OUT_TPM = [1. 1. 1.]\n",
      "STATE = (1, 1, 0), IN_TPM = [1. 0. 0.], OUT_TPM = [1. 0. 0.]\n",
      "STATE = (1, 1, 1), IN_TPM = [1. 1. 0.], OUT_TPM = [1. 1. 0.]\n"
     ]
    }
   ],
   "source": [
    "for state in itertools.product((0, 1), repeat=3):\n",
    "    print(\"STATE = {}, IN_TPM = {}, OUT_TPM = {}\".format(state, \n",
    "                                                         test_tpm[state], \n",
    "                                                         out_tpm_10_trials[state]))"
   ]
  },
  {
   "cell_type": "code",
   "execution_count": 66,
   "metadata": {},
   "outputs": [],
   "source": [
    "network_tpm_out_10 = pyphi.Network(out_tpm_10_trials)"
   ]
  },
  {
   "cell_type": "code",
   "execution_count": 67,
   "metadata": {},
   "outputs": [],
   "source": [
    "subsystem_out_10 = pyphi.Subsystem(network_tpm_out_10, test_state)"
   ]
  },
  {
   "cell_type": "code",
   "execution_count": 68,
   "metadata": {},
   "outputs": [
    {
     "name": "stderr",
     "output_type": "stream",
     "text": [
      "                                                                 \r"
     ]
    },
    {
     "data": {
      "text/plain": [
       "2.3125"
      ]
     },
     "execution_count": 68,
     "metadata": {},
     "output_type": "execute_result"
    }
   ],
   "source": [
    "pyphi.compute.phi(subsystem_in)"
   ]
  },
  {
   "cell_type": "markdown",
   "metadata": {},
   "source": [
    "### 50 Trials"
   ]
  },
  {
   "cell_type": "code",
   "execution_count": 21,
   "metadata": {},
   "outputs": [],
   "source": [
    "test_samples_50_trials = det_generate(test_tpm, 100, 3, 50)"
   ]
  },
  {
   "cell_type": "code",
   "execution_count": 22,
   "metadata": {},
   "outputs": [],
   "source": [
    "out_tpm_50_trials = tpm_log_reg(test_samples_50_trials).round(decimals=1)"
   ]
  },
  {
   "cell_type": "code",
   "execution_count": 23,
   "metadata": {},
   "outputs": [
    {
     "name": "stdout",
     "output_type": "stream",
     "text": [
      "STATE = (0, 0, 0), IN_TPM = [0. 0. 0.], OUT_TPM = [0. 0. 0.]\n",
      "STATE = (0, 0, 1), IN_TPM = [1. 1. 0.], OUT_TPM = [1. 1. 0.]\n",
      "STATE = (0, 1, 0), IN_TPM = [1. 0. 1.], OUT_TPM = [0.9 0.  0.6]\n",
      "STATE = (0, 1, 1), IN_TPM = [1. 1. 1.], OUT_TPM = [1.  1.  0.9]\n",
      "STATE = (1, 0, 0), IN_TPM = [0. 0. 1.], OUT_TPM = [0. 0. 1.]\n",
      "STATE = (1, 0, 1), IN_TPM = [1. 1. 1.], OUT_TPM = [1. 1. 1.]\n",
      "STATE = (1, 1, 0), IN_TPM = [1. 0. 0.], OUT_TPM = [1. 0. 0.]\n",
      "STATE = (1, 1, 1), IN_TPM = [1. 1. 0.], OUT_TPM = [1. 1. 0.]\n"
     ]
    }
   ],
   "source": [
    "for state in itertools.product((0, 1), repeat=3):\n",
    "    print(\"STATE = {}, IN_TPM = {}, OUT_TPM = {}\".format(state, \n",
    "                                                         test_tpm[state], \n",
    "                                                         out_tpm_50_trials[state]))"
   ]
  },
  {
   "cell_type": "markdown",
   "metadata": {},
   "source": [
    "> As a note, it seems when the number of trials is low and a certain state does not occur frequently, the transition probability from that state is quite poorly estimated (as can be seen from the comparison from 10 trials and 50 trials above). "
   ]
  },
  {
   "cell_type": "code",
   "execution_count": 69,
   "metadata": {},
   "outputs": [],
   "source": [
    "network_tpm_out_50 = pyphi.Network(out_tpm_50_trials)"
   ]
  },
  {
   "cell_type": "code",
   "execution_count": 70,
   "metadata": {},
   "outputs": [],
   "source": [
    "subsystem_out_50 = pyphi.Subsystem(network_tpm_out_50, test_state)"
   ]
  },
  {
   "cell_type": "code",
   "execution_count": 71,
   "metadata": {},
   "outputs": [
    {
     "name": "stderr",
     "output_type": "stream",
     "text": [
      "                                                                 \r"
     ]
    },
    {
     "data": {
      "text/plain": [
       "2.3125"
      ]
     },
     "execution_count": 71,
     "metadata": {},
     "output_type": "execute_result"
    }
   ],
   "source": [
    "pyphi.compute.phi(subsystem_in)"
   ]
  },
  {
   "cell_type": "markdown",
   "metadata": {},
   "source": [
    "## Fly Data"
   ]
  },
  {
   "cell_type": "code",
   "execution_count": 120,
   "metadata": {},
   "outputs": [
    {
     "data": {
      "text/plain": [
       "(2250, 15, 8, 13, 2)"
      ]
     },
     "execution_count": 120,
     "metadata": {},
     "output_type": "execute_result"
    }
   ],
   "source": [
    "FLY_DATA.shape"
   ]
  },
  {
   "cell_type": "markdown",
   "metadata": {},
   "source": [
    "The shape of the data corresponds to:\n",
    "\n",
    "- 2250 time samples (at 1000Hz)\n",
    "- 15 channels (bipolar re-referenced)\n",
    "- 8 \"trials\" (from one trial cut into smaller trials)\n",
    "- 13 flies\n",
    "- 2 conditions (awake and anaesthetised respectively)\n",
    "\n",
    "The reference paper is at https://doi.org/10.1523/ENEURO.0329-17.2018"
   ]
  },
  {
   "cell_type": "code",
   "execution_count": 336,
   "metadata": {},
   "outputs": [],
   "source": [
    "n_samples, n_channels, n_trials, n_flies, n_conds = FLY_DATA.shape"
   ]
  },
  {
   "cell_type": "markdown",
   "metadata": {},
   "source": [
    "Let's just subset some example data."
   ]
  },
  {
   "cell_type": "code",
   "execution_count": 333,
   "metadata": {},
   "outputs": [],
   "source": [
    "n_test_ch = 2"
   ]
  },
  {
   "cell_type": "code",
   "execution_count": 334,
   "metadata": {},
   "outputs": [],
   "source": [
    "exdata = FLY_DATA[:, 0:n_test_ch, :, 0, :]"
   ]
  },
  {
   "cell_type": "code",
   "execution_count": 335,
   "metadata": {},
   "outputs": [
    {
     "data": {
      "text/plain": [
       "(2250, 2, 8, 2)"
      ]
     },
     "execution_count": 335,
     "metadata": {},
     "output_type": "execute_result"
    }
   ],
   "source": [
    "exdata.shape"
   ]
  },
  {
   "cell_type": "markdown",
   "metadata": {},
   "source": [
    "This is already roughly in the shape we need it to be (except the last dimension)."
   ]
  },
  {
   "cell_type": "markdown",
   "metadata": {},
   "source": [
    "### Binarisation"
   ]
  },
  {
   "cell_type": "code",
   "execution_count": 337,
   "metadata": {},
   "outputs": [],
   "source": [
    "meds = [np.median(exdata[:, c, :, :]) for c in range(n_test_ch)]"
   ]
  },
  {
   "cell_type": "code",
   "execution_count": 338,
   "metadata": {},
   "outputs": [
    {
     "data": {
      "text/plain": [
       "[-12.676574489555772, -24.131163939693938]"
      ]
     },
     "execution_count": 338,
     "metadata": {},
     "output_type": "execute_result"
    }
   ],
   "source": [
    "meds"
   ]
  },
  {
   "cell_type": "code",
   "execution_count": 339,
   "metadata": {},
   "outputs": [],
   "source": [
    "exdata_bins = [np.where(exdata[:, i_ch, :, :] > meds[i_ch], 1, 0) for i_ch in range(n_test_ch)]"
   ]
  },
  {
   "cell_type": "code",
   "execution_count": 340,
   "metadata": {},
   "outputs": [],
   "source": [
    "exdata_bin = np.stack(exdata_bins, axis=1)"
   ]
  },
  {
   "cell_type": "code",
   "execution_count": 341,
   "metadata": {
    "scrolled": true
   },
   "outputs": [
    {
     "data": {
      "text/plain": [
       "(2250, 2, 8, 2)"
      ]
     },
     "execution_count": 341,
     "metadata": {},
     "output_type": "execute_result"
    }
   ],
   "source": [
    "exdata_bin.shape"
   ]
  },
  {
   "cell_type": "markdown",
   "metadata": {},
   "source": [
    "### Example Calculation: Per State"
   ]
  },
  {
   "cell_type": "markdown",
   "metadata": {},
   "source": [
    "Let us try as an example:\n",
    "\n",
    "- Median binarisation per channel per fly\n",
    "- Time-bins of 4 samples\n",
    "- For the first two channels\n",
    "- For the first fly\n",
    "- For BOTH awake and anaesthetised conditions"
   ]
  },
  {
   "cell_type": "code",
   "execution_count": 342,
   "metadata": {},
   "outputs": [],
   "source": [
    "time_bin_width = 8"
   ]
  },
  {
   "cell_type": "markdown",
   "metadata": {},
   "source": [
    "> TODO: How should the state be determined for a given bin? (currently just taking the mode for each node across all trials and all samples within a time bin)"
   ]
  },
  {
   "cell_type": "code",
   "execution_count": 343,
   "metadata": {
    "scrolled": false
   },
   "outputs": [
    {
     "name": "stdout",
     "output_type": "stream",
     "text": [
      "0 DONE\n",
      "200 DONE\n",
      "400 DONE\n",
      "600 DONE\n",
      "800 DONE\n",
      "1000 DONE\n",
      "1200 DONE\n",
      "1400 DONE\n",
      "1600 DONE\n",
      "1800 DONE\n",
      "2000 DONE\n",
      "2200 DONE\n",
      "CPU times: user 39.1 s, sys: 41 s, total: 1min 20s\n",
      "Wall time: 7min 24s\n"
     ]
    }
   ],
   "source": [
    "%%time\n",
    "# phis is (samples, conds) matrix of phi values\n",
    "phis = np.zeros((n_samples - time_bin_width, n_conds))\n",
    "\n",
    "for i_s in range(0, n_samples - time_bin_width, time_bin_width): # skip every time_bin_width for testing\n",
    "    exdata_binned = exdata_bin[i_s:i_s+time_bin_width, :, :, :]\n",
    "    \n",
    "    for i_cond in range(n_conds):\n",
    "        tpm = tpm_log_reg(exdata_binned[:, :, :, i_cond])\n",
    "        network = pyphi.Network(tpm)\n",
    "        state = np.array([stats.mode(exdata_binned[:, i_ch, :, i_cond], axis=None).mode for \\\n",
    "                       i_ch in range(n_test_ch)])\n",
    "        state = state.flatten()\n",
    "        subsystem = pyphi.Subsystem(network, state)\n",
    "\n",
    "        phi = pyphi.compute.phi(subsystem)\n",
    "        \n",
    "        phis[i_s, i_cond] = phi\n",
    "    \n",
    "    if i_s % 100 == 0:\n",
    "        print(\"SAMPLE AT TIME {} DONE\".format(i_s))"
   ]
  },
  {
   "cell_type": "code",
   "execution_count": 345,
   "metadata": {},
   "outputs": [],
   "source": [
    "test_phi_file = \"../data/processed/fly_phi_test\"\n",
    "np.save(test_phi_file, phis)\n",
    "# phis = np.load(test_phi_file + \".npy\")"
   ]
  },
  {
   "cell_type": "code",
   "execution_count": 346,
   "metadata": {},
   "outputs": [
    {
     "data": {
      "text/plain": [
       "array([[0.000143, 0.012089],\n",
       "       [0.      , 0.      ],\n",
       "       [0.      , 0.      ],\n",
       "       ...,\n",
       "       [0.      , 0.      ],\n",
       "       [0.007289, 0.00584 ],\n",
       "       [0.      , 0.      ]])"
      ]
     },
     "execution_count": 346,
     "metadata": {},
     "output_type": "execute_result"
    }
   ],
   "source": [
    "phis"
   ]
  },
  {
   "cell_type": "code",
   "execution_count": 347,
   "metadata": {},
   "outputs": [
    {
     "name": "stdout",
     "output_type": "stream",
     "text": [
      "MEAN 0.0011021177520071364, STD 0.004504986495157258\n"
     ]
    }
   ],
   "source": [
    "print(\"MEAN {}, STD {}\".format(np.mean([row[0] for row in phis]), np.std([row[0] for row in phis])))"
   ]
  },
  {
   "cell_type": "code",
   "execution_count": 348,
   "metadata": {},
   "outputs": [
    {
     "name": "stdout",
     "output_type": "stream",
     "text": [
      "MEAN 0.0009465923282783228, STD 0.004340826884860773\n"
     ]
    }
   ],
   "source": [
    "print(\"MEAN {}, STD {}\".format(np.mean([row[1] for row in phis]), np.std([row[1] for row in phis])))"
   ]
  },
  {
   "cell_type": "code",
   "execution_count": 349,
   "metadata": {},
   "outputs": [
    {
     "data": {
      "text/plain": [
       "[<matplotlib.lines.Line2D at 0x1a358316a0>]"
      ]
     },
     "execution_count": 349,
     "metadata": {},
     "output_type": "execute_result"
    },
    {
     "data": {
      "image/png": "[encoded data removed]",
      "text/plain": [
       "<Figure size 432x288 with 1 Axes>"
      ]
     },
     "metadata": {
      "needs_background": "light"
     },
     "output_type": "display_data"
    }
   ],
   "source": [
    "plt.plot([row[0] for row in phis])\n",
    "plt.plot([row[1] for row in phis])"
   ]
  },
  {
   "cell_type": "markdown",
   "metadata": {},
   "source": [
    "### Example Calculation: Across All Samples"
   ]
  },
  {
   "cell_type": "code",
   "execution_count": 350,
   "metadata": {},
   "outputs": [],
   "source": [
    "tpms = [tpm_log_reg(exdata_bin[:, :, :, i]) for i in range(n_conds)]"
   ]
  },
  {
   "cell_type": "code",
   "execution_count": 351,
   "metadata": {},
   "outputs": [],
   "source": [
    "networks = [pyphi.Network(tpm) for tpm in tpms]"
   ]
  },
  {
   "cell_type": "code",
   "execution_count": 352,
   "metadata": {},
   "outputs": [
    {
     "name": "stdout",
     "output_type": "stream",
     "text": [
      "NUMBER OF CHANNELS INCLUDED: 2\n",
      "CONDITION 0\n",
      "----------\n",
      "\n",
      "STATE = (0, 0), PHI = 0.00367\n",
      "STATE = (0, 1), PHI = 0.005275\n",
      "STATE = (1, 0), PHI = 0.003518\n",
      "STATE = (1, 1), PHI = 0.008638\n",
      "-----------\n",
      "\n",
      "\n",
      "CONDITION 1\n",
      "----------\n",
      "\n",
      "STATE = (0, 0), PHI = 0.004134\n",
      "STATE = (0, 1), PHI = 0.000603\n",
      "STATE = (1, 0), PHI = 0.000655\n",
      "STATE = (1, 1), PHI = 0.005319\n",
      "-----------\n",
      "\n",
      "\n"
     ]
    }
   ],
   "source": [
    "print(\"NUMBER OF CHANNELS INCLUDED: {}\".format(n_test_ch))\n",
    "\n",
    "states = list(itertools.product((0, 1), repeat=n_test_ch))\n",
    "\n",
    "for i_n, network in enumerate(networks):\n",
    "    print(\"CONDITION {}\\n----------\".format(i_n))\n",
    "    for state in states:\n",
    "        subsystem = pyphi.Subsystem(network, state)\n",
    "        print(\"STATE = {}, PHI = {}\".format(state, pyphi.compute.phi(subsystem)))\n",
    "    print(\"-----------\\n\\n\")"
   ]
  },
  {
   "cell_type": "markdown",
   "metadata": {},
   "source": [
    "For a test run of 4 channels:\n",
    "\n",
    "```\n",
    "\n",
    "CONDITION 0\n",
    "----------\n",
    "\n",
    "STATE = (0, 0, 0, 0), PHI = 0.021758\n",
    "STATE = (0, 0, 0, 1), PHI = 0.028135\n",
    "STATE = (0, 0, 1, 0), PHI = 0.029401\n",
    "STATE = (0, 0, 1, 1), PHI = 0.021155\n",
    "STATE = (0, 1, 0, 0), PHI = 0.025647\n",
    "STATE = (0, 1, 0, 1), PHI = 0.02143\n",
    "STATE = (0, 1, 1, 0), PHI = 0.027238\n",
    "STATE = (0, 1, 1, 1), PHI = 0.022308\n",
    "STATE = (1, 0, 0, 0), PHI = 0.021724\n",
    "STATE = (1, 0, 0, 1), PHI = 0.027762\n",
    "STATE = (1, 0, 1, 0), PHI = 0.02208\n",
    "STATE = (1, 0, 1, 1), PHI = 0.025907\n",
    "STATE = (1, 1, 0, 0), PHI = 0.012662\n",
    "STATE = (1, 1, 0, 1), PHI = 0.020735\n",
    "STATE = (1, 1, 1, 0), PHI = 0.023346\n",
    "STATE = (1, 1, 1, 1), PHI = 0.029959\n",
    "-----------\n",
    "\n",
    "\n",
    "CONDITION 1\n",
    "----------\n",
    "\n",
    "STATE = (0, 0, 0, 0), PHI = 0.007771\n",
    "STATE = (0, 0, 0, 1), PHI = 0.013678\n",
    "STATE = (0, 0, 1, 0), PHI = 0.014339\n",
    "STATE = (0, 0, 1, 1), PHI = 0.006793\n",
    "STATE = (0, 1, 0, 0), PHI = 0.009207\n",
    "STATE = (0, 1, 0, 1), PHI = 0.005924\n",
    "STATE = (0, 1, 1, 0), PHI = 0.011182\n",
    "STATE = (0, 1, 1, 1), PHI = 0.003663\n",
    "STATE = (1, 0, 0, 0), PHI = 0.004655\n",
    "STATE = (1, 0, 0, 1), PHI = 0.008968\n",
    "STATE = (1, 0, 1, 0), PHI = 0.011975\n",
    "STATE = (1, 0, 1, 1), PHI = 0.007841\n",
    "STATE = (1, 1, 0, 0), PHI = 0.00485\n",
    "STATE = (1, 1, 0, 1), PHI = 0.013608\n",
    "STATE = (1, 1, 1, 0), PHI = 0.012587\n",
    "STATE = (1, 1, 1, 1), PHI = 0.008769\n",
    "-----------\n",
    "```\n"
   ]
  },
  {
   "cell_type": "code",
   "execution_count": null,
   "metadata": {},
   "outputs": [],
   "source": []
  }
 ],
 "metadata": {
  "kernelspec": {
   "display_name": "Python 3",
   "language": "python",
   "name": "python3"
  },
  "language_info": {
   "codemirror_mode": {
    "name": "ipython",
    "version": 3
   },
   "file_extension": ".py",
   "mimetype": "text/x-python",
   "name": "python",
   "nbconvert_exporter": "python",
   "pygments_lexer": "ipython3",
   "version": "3.6.8"
  }
 },
 "nbformat": 4,
 "nbformat_minor": 2
}
