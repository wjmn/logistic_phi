{
 "cells": [
  {
   "cell_type": "markdown",
   "metadata": {},
   "source": [
    "# Setup"
   ]
  },
  {
   "cell_type": "code",
   "execution_count": 1,
   "metadata": {},
   "outputs": [],
   "source": [
    "#%%writefile ../scripts/parallel_phi/phi_tpm_log_reg.py\n",
    "\n",
    "import pyphi\n",
    "import numpy as np\n",
    "import itertools\n",
    "import patsy\n",
    "from sklearn.linear_model import LogisticRegression"
   ]
  },
  {
   "cell_type": "code",
   "execution_count": 2,
   "metadata": {},
   "outputs": [],
   "source": [
    "import scipy.io as sio\n",
    "from scipy import stats\n",
    "import matplotlib.pyplot as plt\n",
    "import pandas as pd\n",
    "from sklearn.preprocessing import binarize"
   ]
  },
  {
   "cell_type": "code",
   "execution_count": 3,
   "metadata": {},
   "outputs": [],
   "source": [
    "import warnings\n",
    "warnings.filterwarnings(\"ignore\")\n",
    "# UNCOMMENT ABOVE TO CHECK DEPRECATIONS"
   ]
  },
  {
   "cell_type": "code",
   "execution_count": 4,
   "metadata": {},
   "outputs": [],
   "source": [
    "%matplotlib inline"
   ]
  },
  {
   "cell_type": "code",
   "execution_count": 5,
   "metadata": {},
   "outputs": [],
   "source": [
    "plt.rcParams['figure.figsize'] = [10, 5]"
   ]
  },
  {
   "cell_type": "code",
   "execution_count": 4,
   "metadata": {},
   "outputs": [
    {
     "name": "stdout",
     "output_type": "stream",
     "text": [
      "Pixiedust database opened successfully\n"
     ]
    },
    {
     "data": {
      "text/html": [
       "\n",
       "        <div style=\"margin:10px\">\n",
       "            <a href=\"https://github.com/ibm-watson-data-lab/pixiedust\" target=\"_new\">\n",
       "                <img src=\"https://github.com/ibm-watson-data-lab/pixiedust/raw/master/docs/_static/pd_icon32.png\" style=\"float:left;margin-right:10px\"/>\n",
       "            </a>\n",
       "            <span>Pixiedust version 1.1.15</span>\n",
       "        </div>\n",
       "        "
      ],
      "text/plain": [
       "<IPython.core.display.HTML object>"
      ]
     },
     "metadata": {},
     "output_type": "display_data"
    }
   ],
   "source": [
    "import pixiedust"
   ]
  },
  {
   "cell_type": "code",
   "execution_count": 6,
   "metadata": {},
   "outputs": [],
   "source": [
    "pyphi.config.PROGRESS_BARS = False"
   ]
  },
  {
   "cell_type": "markdown",
   "metadata": {},
   "source": [
    "## Immutables"
   ]
  },
  {
   "cell_type": "code",
   "execution_count": 7,
   "metadata": {},
   "outputs": [],
   "source": [
    "RAW_DATA_DIR = \"../data/raw/\"\n",
    "SAMPLE_DATA_FILE = \"split2250_bipolarRerefType1_lineNoiseRemoved_postPuffpreStim.mat\""
   ]
  },
  {
   "cell_type": "code",
   "execution_count": 8,
   "metadata": {},
   "outputs": [],
   "source": [
    "FLY_DATA = sio.loadmat(RAW_DATA_DIR + SAMPLE_DATA_FILE).get(\"fly_data\")"
   ]
  },
  {
   "cell_type": "markdown",
   "metadata": {},
   "source": [
    "# Processing Functions"
   ]
  },
  {
   "cell_type": "code",
   "execution_count": 11,
   "metadata": {},
   "outputs": [],
   "source": [
    "#%%writefile ../scripts/parallel_phi/phi_tpm_log_reg.py -a\n",
    "def gen_log_reg(data, tau=1, interaction_order=0):\n",
    "    \"\"\" Generate logistic regression for binarised past and present states.\n",
    "    \n",
    "    Args:\n",
    "        data (array): (timepoints, channels, trials) array of binarised data.\n",
    "                      The data will pool each timepoint step as a separate trial.\n",
    "        tau (int): Time lag between present and next state.\n",
    "        interaction_order (int): Order of interaction terms to be used.\n",
    "                                 If 0, ALL interaction terms are included.\n",
    "                                 If 1, NO interaction terms are included (i.e. all input order 1).\n",
    "                                 If 2, interaction terms e.g. x1:x2 are included etc.\n",
    "                      \n",
    "    Returns: \n",
    "        List of Logistic regressions (fitted) for each channel.\n",
    "    \"\"\"\n",
    "    \n",
    "    n_timepoints, n_channels, n_trials = data.shape\n",
    "    \n",
    "    if interaction_order > n_channels:\n",
    "        raise ValueError(\"Interaction order must not exceed number of channels.\")\n",
    "    \n",
    "    presents = data[:n_timepoints - tau, :, :]\\\n",
    "                .transpose(2, 0, 1)\\\n",
    "                .reshape((n_trials * (n_timepoints - tau), n_channels))\n",
    "    nexts = data[tau:, :, :]\\\n",
    "                .transpose(2, 0, 1)\\\n",
    "                .reshape((n_trials * (n_timepoints - tau), n_channels))\n",
    "    \n",
    "    # ----------------------------------------------------------------------------\n",
    "    # FOR TESTING ONLY \n",
    "    # Once a \"method\" has been decided, the extraneous code can be removed.\n",
    "    # ----------------------------------------------------------------------------\n",
    "    \n",
    "    x_vars = [\"x{}\".format(i_x) for i_x in range(n_channels)]\n",
    "    \n",
    "    if interaction_order == 0:\n",
    "        data_dict = {\"x{}\".format(i_x): presents[:, i_x] for \\\n",
    "                    i_x in range(n_channels)}\n",
    "\n",
    "        patsy_str = \"*\".join(x_vars)\n",
    "\n",
    "        X_dmatrix = patsy.dmatrix(patsy_str, data_dict)\n",
    "        Xs = X_dmatrix[:, 1:] # exclude intercept term\n",
    "    elif interaction_order == 1:\n",
    "        Xs = presents\n",
    "    else:\n",
    "        data_dict = {\"x{}\".format(i_x): presents[:, i_x] for \\\n",
    "            i_x in range(n_channels)}\n",
    "        patsy_str = \" + \".join(x_vars)\n",
    "        for i_o in range(2, interaction_order + 1):\n",
    "            combinations = itertools.combinations(x_vars, i_o)\n",
    "            comb_strs = map(\":\".join, combinations)\n",
    "            patsy_str += \" + \" + \" + \".join(comb_strs)\n",
    "            X_dmatrix = patsy.dmatrix(patsy_str, data_dict)\n",
    "            Xs = X_dmatrix[:, 1:] # exclude intercept term\n",
    "    \n",
    "    # ----------------------------------------------------------------------------\n",
    "    \n",
    "    models = []\n",
    "    \n",
    "    for i_c in range(n_channels):\n",
    "        y = nexts[:, i_c]\n",
    "        lr = LogisticRegression(solver='lbfgs')\n",
    "        model = lr.fit(Xs, y)\n",
    "        models.append(model)\n",
    "    \n",
    "    return models"
   ]
  },
  {
   "cell_type": "code",
   "execution_count": 13,
   "metadata": {},
   "outputs": [],
   "source": [
    "#%%writefile ../scripts/parallel_phi/phi_tpm_log_reg.py -a\n",
    "def models_to_tpm(models, n_channels, interaction_order=0):\n",
    "    \"\"\" Converts a logistic regression model to a TPM\n",
    "    \n",
    "    Args:\n",
    "        models: List of fitted logistic regression models.\n",
    "        n_channels (int): Number of channels used to generate model.\n",
    "        interaction_order (int): Order of interaction terms used to define model.\n",
    "        \n",
    "    Returns:\n",
    "        A numpy array as a TPM.\n",
    "    \"\"\"\n",
    "    \n",
    "    tpm_shape = [2] * n_channels + [n_channels]\n",
    "    \n",
    "    tpm = np.zeros(tpm_shape)\n",
    "    \n",
    "    for state in itertools.product((0, 1), repeat=n_channels):\n",
    "        for i_m, model in enumerate(models):\n",
    "            state_arr = np.array(state)\n",
    "            \n",
    "            # ----------------------------------------------------------------------------\n",
    "            # FOR TESTING ONLY \n",
    "            # Once a \"method\" has been decided, extraneous code can be removed.\n",
    "            # ----------------------------------------------------------------------------\n",
    "            x_vars = [\"x{}\".format(i_x) for i_x in range(n_channels)]\n",
    "            \n",
    "            if interaction_order == 0:\n",
    "                data_dict = {\"x{}\".format(i_x): state_arr[i_x] for \\\n",
    "                            i_x in range(n_channels)}\n",
    "                patsy_str = \"*\".join(x_vars)\n",
    "                state_dmatrix = patsy.dmatrix(patsy_str, data_dict)\n",
    "                state_all = state_dmatrix[:, 1:]\n",
    "            elif interaction_order == 1:\n",
    "                state_all = state_arr.reshape(1, -1)\n",
    "            else:\n",
    "                data_dict = {\"x{}\".format(i_x): state_arr[i_x] for \\\n",
    "                    i_x in range(n_channels)}\n",
    "                patsy_str = \" + \".join(x_vars)\n",
    "                for i_o in range(2, interaction_order + 1):\n",
    "                    combinations = itertools.combinations(x_vars, i_o)\n",
    "                    comb_strs = map(\":\".join, combinations)\n",
    "                    patsy_str += \" + \" + \" + \".join(comb_strs)\n",
    "                    state_dmatrix = patsy.dmatrix(patsy_str, data_dict)\n",
    "                    state_all = state_dmatrix[:, 1:] # exclude intercept term\n",
    "            tpm[state + (i_m,)] = model.predict_proba(state_all)[0][1]\n",
    "            # ----------------------------------------------------------------------------\n",
    "    \n",
    "    return tpm"
   ]
  },
  {
   "cell_type": "code",
   "execution_count": 15,
   "metadata": {},
   "outputs": [],
   "source": [
    "#%%writefile ../scripts/parallel_phi/phi_tpm_log_reg.py -a\n",
    "def tpm_log_reg(data, tau=1, interaction_order=0):\n",
    "    \"\"\" Generate tpm using log regression for binarised past and present states.\n",
    "    \n",
    "    Args:\n",
    "        data (array): (timepoints, channels, trials) array of binarised data.\n",
    "                      The data will pool each timepoint step as a separate trial.\n",
    "                      Will also accept (timepoints, channels) 2D array.\n",
    "                      \n",
    "    Returns: \n",
    "        TPM for the input data.\n",
    "    \"\"\"\n",
    "    \n",
    "    if len(data.shape) == 2:\n",
    "        data = np.expand_dims(data, axis=-1) # adds trial axis, 1 \"trial\"\n",
    "    \n",
    "    n_timepoints, n_channels, n_trials = data.shape\n",
    "    \n",
    "    models = gen_log_reg(data, tau, interaction_order)\n",
    "    \n",
    "    tpm = models_to_tpm(models, n_channels, interaction_order)\n",
    "    \n",
    "    state_counter = np.zeros(2 ** n_channels)\n",
    "    \n",
    "    pooled = data.transpose(2, 0, 1).reshape(n_timepoints * n_trials, n_channels)\n",
    "    \n",
    "    for i_s in range(2 ** n_channels):\n",
    "        state = pyphi.convert.le_index2state(i_s, n_channels)\n",
    "        state_count = (pooled == np.array(state)).all(axis=-1).sum()\n",
    "        state_counter[i_s] = state_count\n",
    "    \n",
    "    return pyphi.convert.to_2dimensional(tpm), state_counter"
   ]
  },
  {
   "cell_type": "markdown",
   "metadata": {},
   "source": [
    "# Testing"
   ]
  },
  {
   "cell_type": "markdown",
   "metadata": {},
   "source": [
    "## Generated Data (Deterministic)"
   ]
  },
  {
   "cell_type": "code",
   "execution_count": 16,
   "metadata": {},
   "outputs": [],
   "source": [
    "def det_generate(tpm, n_timepoints, n_channels, n_trials):\n",
    "    \n",
    "    states = list(itertools.product((0, 1), repeat=n_channels))\n",
    "    \n",
    "    samples = np.zeros((1 + n_timepoints, n_channels, (2 ** n_channels) * n_trials))\n",
    "    \n",
    "    for i_s, state in enumerate(states * n_trials):\n",
    "        samples[0, :, i_s] = np.array(state)\n",
    "        \n",
    "        for i_t in range(n_timepoints):\n",
    "            curr_state = tuple(samples[i_t, :, i_s].astype(int))\n",
    "            value = tpm[curr_state]\n",
    "            samples[i_t + 1, :, i_s] = value\n",
    "    \n",
    "    return samples"
   ]
  },
  {
   "cell_type": "code",
   "execution_count": 17,
   "metadata": {},
   "outputs": [],
   "source": [
    "test_shape = [2] * 3 + [3]\n",
    "test_tpm = np.zeros(test_shape)\n",
    "\n",
    "test_tpm[(0, 0, 0)] = np.array([0, 0, 0])\n",
    "test_tpm[(1, 0, 0)] = np.array([0, 0, 1])\n",
    "test_tpm[(0, 1, 0)] = np.array([1, 0, 1])\n",
    "test_tpm[(1, 1, 0)] = np.array([1, 0, 0])\n",
    "test_tpm[(0, 0, 1)] = np.array([1, 1, 0])\n",
    "test_tpm[(1, 0, 1)] = np.array([1, 1, 1])\n",
    "test_tpm[(0, 1, 1)] = np.array([1, 1, 1])\n",
    "test_tpm[(1, 1, 1)] = np.array([1, 1, 0])"
   ]
  },
  {
   "cell_type": "code",
   "execution_count": 18,
   "metadata": {},
   "outputs": [],
   "source": [
    "network_tpm_in = pyphi.Network(test_tpm)"
   ]
  },
  {
   "cell_type": "code",
   "execution_count": 19,
   "metadata": {},
   "outputs": [],
   "source": [
    "test_state = (1, 0, 0)"
   ]
  },
  {
   "cell_type": "code",
   "execution_count": 20,
   "metadata": {},
   "outputs": [],
   "source": [
    "subsystem_in = pyphi.Subsystem(network_tpm_in, test_state)"
   ]
  },
  {
   "cell_type": "code",
   "execution_count": 21,
   "metadata": {},
   "outputs": [
    {
     "data": {
      "text/plain": [
       "2.3125"
      ]
     },
     "execution_count": 21,
     "metadata": {},
     "output_type": "execute_result"
    }
   ],
   "source": [
    "pyphi.compute.phi(subsystem_in)"
   ]
  },
  {
   "cell_type": "markdown",
   "metadata": {},
   "source": [
    "### 10 Trials"
   ]
  },
  {
   "cell_type": "code",
   "execution_count": 22,
   "metadata": {},
   "outputs": [],
   "source": [
    "test_samples_10_trials = det_generate(test_tpm, 100, 3, 10)"
   ]
  },
  {
   "cell_type": "code",
   "execution_count": 23,
   "metadata": {
    "pixiedust": {
     "displayParams": {}
    }
   },
   "outputs": [],
   "source": [
    "out_tpm_10_trials, state_counter_10_trials = tpm_log_reg(test_samples_10_trials, interaction_order=0)\n",
    "out_tpm_10_trials = out_tpm_10_trials.round(decimals=1)"
   ]
  },
  {
   "cell_type": "code",
   "execution_count": 24,
   "metadata": {
    "scrolled": true
   },
   "outputs": [
    {
     "name": "stdout",
     "output_type": "stream",
     "text": [
      "STATE = (0, 0, 0), IN_TPM = [0. 0. 0.], OUT_TPM = [0. 0. 0.]\n",
      "STATE = (1, 0, 0), IN_TPM = [0. 0. 1.], OUT_TPM = [0. 0. 1.]\n",
      "STATE = (0, 1, 0), IN_TPM = [1. 0. 1.], OUT_TPM = [0.9 0.  0.1]\n",
      "STATE = (1, 1, 0), IN_TPM = [1. 0. 0.], OUT_TPM = [1. 0. 0.]\n",
      "STATE = (0, 0, 1), IN_TPM = [1. 1. 0.], OUT_TPM = [1. 1. 0.]\n",
      "STATE = (1, 0, 1), IN_TPM = [1. 1. 1.], OUT_TPM = [1. 1. 1.]\n",
      "STATE = (0, 1, 1), IN_TPM = [1. 1. 1.], OUT_TPM = [1.  1.  0.5]\n",
      "STATE = (1, 1, 1), IN_TPM = [1. 1. 0.], OUT_TPM = [1. 1. 0.]\n"
     ]
    }
   ],
   "source": [
    "for i_state in range(2 ** 3):\n",
    "    state = pyphi.convert.le_index2state(i_state, 3)\n",
    "    print(\"STATE = {}, IN_TPM = {}, OUT_TPM = {}\".format(state, \n",
    "                                                         test_tpm[state], \n",
    "                                                         out_tpm_10_trials[i_state]))"
   ]
  },
  {
   "cell_type": "code",
   "execution_count": 25,
   "metadata": {},
   "outputs": [],
   "source": [
    "network_tpm_out_10 = pyphi.Network(out_tpm_10_trials)"
   ]
  },
  {
   "cell_type": "code",
   "execution_count": 26,
   "metadata": {},
   "outputs": [],
   "source": [
    "subsystem_out_10 = pyphi.Subsystem(network_tpm_out_10, test_state)"
   ]
  },
  {
   "cell_type": "code",
   "execution_count": 27,
   "metadata": {},
   "outputs": [
    {
     "data": {
      "text/plain": [
       "0.881276"
      ]
     },
     "execution_count": 27,
     "metadata": {},
     "output_type": "execute_result"
    }
   ],
   "source": [
    "pyphi.compute.phi(subsystem_out_10)"
   ]
  },
  {
   "cell_type": "code",
   "execution_count": 28,
   "metadata": {},
   "outputs": [
    {
     "name": "stdout",
     "output_type": "stream",
     "text": [
      "[1010. 2330.   10. 2340. 2320.   20.   10.   40.]\n"
     ]
    }
   ],
   "source": [
    "print(state_counter_10_trials)"
   ]
  },
  {
   "cell_type": "markdown",
   "metadata": {},
   "source": [
    "### 100 Trials"
   ]
  },
  {
   "cell_type": "code",
   "execution_count": 29,
   "metadata": {},
   "outputs": [],
   "source": [
    "test_samples_100_trials = det_generate(test_tpm, 100, 3, 100)"
   ]
  },
  {
   "cell_type": "code",
   "execution_count": 30,
   "metadata": {},
   "outputs": [],
   "source": [
    "out_tpm_100_trials, state_counter_100_trials = tpm_log_reg(test_samples_100_trials, tau=1, interaction_order=0)\n",
    "out_tpm_100_trials = out_tpm_100_trials.round(decimals=1)"
   ]
  },
  {
   "cell_type": "code",
   "execution_count": 31,
   "metadata": {},
   "outputs": [
    {
     "name": "stdout",
     "output_type": "stream",
     "text": [
      "STATE = (0, 0, 0), IN_TPM = [0. 0. 0.], OUT_TPM = [0. 0. 0.]\n",
      "STATE = (1, 0, 0), IN_TPM = [0. 0. 1.], OUT_TPM = [0. 0. 1.]\n",
      "STATE = (0, 1, 0), IN_TPM = [1. 0. 1.], OUT_TPM = [1.  0.  0.8]\n",
      "STATE = (1, 1, 0), IN_TPM = [1. 0. 0.], OUT_TPM = [1. 0. 0.]\n",
      "STATE = (0, 0, 1), IN_TPM = [1. 1. 0.], OUT_TPM = [1. 1. 0.]\n",
      "STATE = (1, 0, 1), IN_TPM = [1. 1. 1.], OUT_TPM = [1. 1. 1.]\n",
      "STATE = (0, 1, 1), IN_TPM = [1. 1. 1.], OUT_TPM = [1.  1.  0.9]\n",
      "STATE = (1, 1, 1), IN_TPM = [1. 1. 0.], OUT_TPM = [1. 1. 0.]\n"
     ]
    }
   ],
   "source": [
    "for i_state in range(2 ** 3):\n",
    "    state = pyphi.convert.le_index2state(i_state, 3)\n",
    "    print(\"STATE = {}, IN_TPM = {}, OUT_TPM = {}\".format(state, \n",
    "                                                         test_tpm[state], \n",
    "                                                         out_tpm_100_trials[i_state]))"
   ]
  },
  {
   "cell_type": "markdown",
   "metadata": {},
   "source": [
    "> As a note, it seems when the number of trials is low and a certain state does not occur frequently, the transition probability from that state is quite poorly estimated (as can be seen from the comparison from 10 trials and 50 trials above). "
   ]
  },
  {
   "cell_type": "code",
   "execution_count": 32,
   "metadata": {},
   "outputs": [],
   "source": [
    "network_tpm_out_100 = pyphi.Network(out_tpm_100_trials)"
   ]
  },
  {
   "cell_type": "code",
   "execution_count": 33,
   "metadata": {},
   "outputs": [],
   "source": [
    "subsystem_out_100 = pyphi.Subsystem(network_tpm_out_100, test_state)"
   ]
  },
  {
   "cell_type": "code",
   "execution_count": 34,
   "metadata": {},
   "outputs": [
    {
     "data": {
      "text/plain": [
       "1.779672"
      ]
     },
     "execution_count": 34,
     "metadata": {},
     "output_type": "execute_result"
    }
   ],
   "source": [
    "pyphi.compute.phi(subsystem_out_100)"
   ]
  },
  {
   "cell_type": "code",
   "execution_count": 35,
   "metadata": {},
   "outputs": [
    {
     "name": "stdout",
     "output_type": "stream",
     "text": [
      "[10100. 23300.   100. 23400. 23200.   200.   100.   400.]\n"
     ]
    }
   ],
   "source": [
    "print(state_counter_100_trials)"
   ]
  },
  {
   "cell_type": "markdown",
   "metadata": {},
   "source": [
    "## Fly Data"
   ]
  },
  {
   "cell_type": "code",
   "execution_count": 9,
   "metadata": {},
   "outputs": [
    {
     "data": {
      "text/plain": [
       "(2250, 15, 8, 13, 2)"
      ]
     },
     "execution_count": 9,
     "metadata": {},
     "output_type": "execute_result"
    }
   ],
   "source": [
    "FLY_DATA.shape"
   ]
  },
  {
   "cell_type": "markdown",
   "metadata": {},
   "source": [
    "The shape of the data corresponds to:\n",
    "\n",
    "- 2250 time samples (at 1000Hz)\n",
    "- 15 channels (bipolar re-referenced)\n",
    "- 8 \"trials\" (from one trial cut into smaller trials)\n",
    "- 13 flies\n",
    "- 2 conditions (awake and anaesthetised respectively)\n",
    "\n",
    "The reference paper is at https://doi.org/10.1523/ENEURO.0329-17.2018"
   ]
  },
  {
   "cell_type": "code",
   "execution_count": 10,
   "metadata": {},
   "outputs": [],
   "source": [
    "n_samples, n_channels, n_trials, n_flies, n_conds = FLY_DATA.shape"
   ]
  },
  {
   "cell_type": "markdown",
   "metadata": {},
   "source": [
    "This is already roughly in the shape we need it to be (except the last two dimensions, which we can loop over)."
   ]
  },
  {
   "cell_type": "markdown",
   "metadata": {},
   "source": [
    "### Binarisation"
   ]
  },
  {
   "cell_type": "markdown",
   "metadata": {},
   "source": [
    "Let's binarise using the median per channel, per fly."
   ]
  },
  {
   "cell_type": "code",
   "execution_count": 12,
   "metadata": {},
   "outputs": [],
   "source": [
    "meds = np.array([[np.median(FLY_DATA[:, c, :, f, :]) for c in range(n_channels)] for f in range(n_flies)])"
   ]
  },
  {
   "cell_type": "code",
   "execution_count": 13,
   "metadata": {},
   "outputs": [
    {
     "data": {
      "text/plain": [
       "(13, 15)"
      ]
     },
     "execution_count": 13,
     "metadata": {},
     "output_type": "execute_result"
    }
   ],
   "source": [
    "meds.shape"
   ]
  },
  {
   "cell_type": "markdown",
   "metadata": {},
   "source": [
    "So our `meds` array is a (fly, channel) array of medians.\n",
    "\n",
    "We can then binarise our `FLY_DATA` separately for each median."
   ]
  },
  {
   "cell_type": "code",
   "execution_count": 14,
   "metadata": {},
   "outputs": [],
   "source": [
    "data_binarised_list = [[np.where(FLY_DATA[:, c, :, f, :] > meds[f, c], 1, 0) for c in range(n_channels)] for f in range(n_flies)]"
   ]
  },
  {
   "cell_type": "markdown",
   "metadata": {},
   "source": [
    "And now we restack the data matrices back to our original shape."
   ]
  },
  {
   "cell_type": "code",
   "execution_count": 15,
   "metadata": {},
   "outputs": [],
   "source": [
    "data_binarised = np.stack(map(lambda x: np.stack(x, axis=1), data_binarised_list), axis=3)"
   ]
  },
  {
   "cell_type": "code",
   "execution_count": 16,
   "metadata": {
    "scrolled": true
   },
   "outputs": [
    {
     "data": {
      "text/plain": [
       "(2250, 15, 8, 13, 2)"
      ]
     },
     "execution_count": 16,
     "metadata": {},
     "output_type": "execute_result"
    }
   ],
   "source": [
    "data_binarised.shape"
   ]
  },
  {
   "cell_type": "markdown",
   "metadata": {},
   "source": [
    "Now we can visualise the binarised data for all trials, all channels, and all flies for a single condition."
   ]
  },
  {
   "cell_type": "markdown",
   "metadata": {},
   "source": [
    "Each subplot shows time on the x-axis and the channel on the y-axis. The \"whole-plot x-axis\" represents trials and the \"whole-plot y-axis\" represents different flies. "
   ]
  },
  {
   "cell_type": "markdown",
   "metadata": {},
   "source": [
    "So for condition 0, we can see:"
   ]
  },
  {
   "cell_type": "code",
   "execution_count": 71,
   "metadata": {},
   "outputs": [
    {
     "data": {
      "image/png": "[encoded data removed]",
      "text/plain": [
       "<Figure size 720x360 with 104 Axes>"
      ]
     },
     "metadata": {
      "needs_background": "light"
     },
     "output_type": "display_data"
    }
   ],
   "source": [
    "for i in range(n_trials * n_flies):\n",
    "    subplot_tuple = (n_flies, n_trials, i+1)\n",
    "    i_fly = i // n_flies\n",
    "    i_trial = i % n_trials\n",
    "    plt.subplot(*subplot_tuple)\n",
    "    plt.imshow(data_binarised[:, :, i_fly, i_trial, 0].transpose(), aspect='auto', cmap='binary')\n",
    "    plt.axis(\"off\")"
   ]
  },
  {
   "cell_type": "markdown",
   "metadata": {},
   "source": [
    "And for condition 1:"
   ]
  },
  {
   "cell_type": "code",
   "execution_count": 72,
   "metadata": {},
   "outputs": [
    {
     "data": {
      "image/png": "[encoded data removed]",
      "text/plain": [
       "<Figure size 720x360 with 104 Axes>"
      ]
     },
     "metadata": {
      "needs_background": "light"
     },
     "output_type": "display_data"
    }
   ],
   "source": [
    "for i in range(n_trials * n_flies):\n",
    "    subplot_tuple = (n_flies, n_trials, i+1)\n",
    "    i_fly = i // n_flies\n",
    "    i_trial = i % n_trials\n",
    "    plt.subplot(*subplot_tuple)\n",
    "    plt.imshow(data_binarised[:, :, i_fly, i_trial, 1].transpose(), aspect='auto', cmap='binary')\n",
    "    plt.axis(\"off\")"
   ]
  },
  {
   "cell_type": "markdown",
   "metadata": {},
   "source": [
    "And just to check if there's a difference between the mean value for each condition:"
   ]
  },
  {
   "cell_type": "code",
   "execution_count": 74,
   "metadata": {},
   "outputs": [
    {
     "name": "stdout",
     "output_type": "stream",
     "text": [
      "0.4979777777777778\n",
      "0.5020222222222223\n"
     ]
    }
   ],
   "source": [
    "print(np.mean(data_binarised[:, :, :, :, 0]))\n",
    "print(np.mean(data_binarised[:, :, :, :, 1]))"
   ]
  },
  {
   "cell_type": "markdown",
   "metadata": {},
   "source": [
    "Let's also save the binarised data."
   ]
  },
  {
   "cell_type": "code",
   "execution_count": 20,
   "metadata": {},
   "outputs": [],
   "source": [
    "data_binarised_file = \"../data/processed/fly_data_binarised\"\n",
    "\n",
    "# SAVE DATA\n",
    "#np.save(data_binarised_file, data_binarised)\n",
    "\n",
    "# LOAD DATA\n",
    "data_binarised = np.load(data_binarised_file + \".npy\")"
   ]
  },
  {
   "cell_type": "code",
   "execution_count": 22,
   "metadata": {},
   "outputs": [
    {
     "data": {
      "text/plain": [
       "(2250, 15, 8, 13, 2)"
      ]
     },
     "execution_count": 22,
     "metadata": {},
     "output_type": "execute_result"
    }
   ],
   "source": [
    "data_binarised.shape"
   ]
  },
  {
   "cell_type": "markdown",
   "metadata": {},
   "source": [
    "### Creating a Networks (Channel Set) File"
   ]
  },
  {
   "cell_type": "code",
   "execution_count": 135,
   "metadata": {},
   "outputs": [],
   "source": [
    "kwargs = {}\n",
    "kwargs[\"interaction_order\"] = 0"
   ]
  },
  {
   "cell_type": "code",
   "execution_count": 139,
   "metadata": {},
   "outputs": [
    {
     "name": "stdout",
     "output_type": "stream",
     "text": [
      "NO INTERACTION ORDER\n"
     ]
    }
   ],
   "source": [
    "if kwargs.get(\"interaction_ordefr\") == None:\n",
    "    print(\"NO INTERACTION ORDER\")"
   ]
  },
  {
   "cell_type": "code",
   "execution_count": 131,
   "metadata": {},
   "outputs": [],
   "source": [
    "def create_network_file(n_channels, n_test_channels):\n",
    "    combinations = itertools.combinations(range(n_channels), n_test_channels)\n",
    "    filename = \"../scripts/parallel_phi/networks_{}ch\".format(n_test_channels)\n",
    "    with open(filename, \"w+\") as outfile:\n",
    "        for i_c, combo in enumerate(combinations):\n",
    "            outfile.write(\"{},{}\\n\".format(i_c, \",\".join(map(str, combo))))"
   ]
  },
  {
   "cell_type": "code",
   "execution_count": 132,
   "metadata": {},
   "outputs": [],
   "source": [
    "for i in range(2, 5):\n",
    "    create_network_file(n_channels, i)"
   ]
  },
  {
   "cell_type": "markdown",
   "metadata": {},
   "source": [
    "### Calculating $\\Phi$"
   ]
  },
  {
   "cell_type": "markdown",
   "metadata": {},
   "source": [
    "> NB: This was moved to a script for execution in a parallel environment. The below may be out of date."
   ]
  },
  {
   "cell_type": "markdown",
   "metadata": {},
   "source": [
    "Let's loop through the data and calculate a per-trial, per-fly, per-condition $\\Phi$ value."
   ]
  },
  {
   "cell_type": "markdown",
   "metadata": {},
   "source": [
    "We want to try TPM generation by several methods:\n",
    "\n",
    "1. Directly calculating from the data (i.e. specifying a time lag and the subsequent transition from each raw state)\n",
    "2. Using logistic regression without any interaction terms\n",
    "3. Using logistic regression with interaction terms of an order up to the number of channels included. \n",
    "\n",
    "And we would like to repeat this for 2-channel, 3-channel and 4-channel $\\Phi$. "
   ]
  },
  {
   "cell_type": "markdown",
   "metadata": {},
   "source": [
    "We've already defined our logistic regression TPM functions - let's also load a TPM building function that directly works from the data written by Angus Leung."
   ]
  },
  {
   "cell_type": "code",
   "execution_count": 80,
   "metadata": {},
   "outputs": [],
   "source": [
    "%run ../scripts/parallel_phi/phi_functions.py"
   ]
  },
  {
   "cell_type": "code",
   "execution_count": 82,
   "metadata": {},
   "outputs": [
    {
     "name": "stdout",
     "output_type": "stream",
     "text": [
      "Help on function build_tpm_sbn in module __main__:\n",
      "\n",
      "build_tpm_sbn(data, tau, n_values)\n",
      "    Builds a state-by-node TPM, holding the probabilities of each node being \"on\" given some past\n",
      "    network states\n",
      "    \n",
      "    http://pyphi.readthedocs.io/en/stable/conventions.html?highlight=state%20by%20node\n",
      "    \n",
      "    Inputs:\n",
      "            fly_data = matrix (of discretised data) with dimensions (samples x channels)\n",
      "                    Holds data across which TPM should be built\n",
      "            tau = integer - the lag between current and future states\n",
      "                    e.g. 1 means that the current and future sample are adjacent\n",
      "                    e.g. 2 means that there is one sample between the current and future samples, etc.\n",
      "            n_values = number of states each *node* can be in (e.g. 2 for ON and OFF)\n",
      "    Outputs:\n",
      "            tpm = matrix with dimensions (n_values^channels x channels)\n",
      "                    Each row holds the probabilities of each channel being \"on\" in the future, given a past\n",
      "                    network state\n",
      "\n"
     ]
    }
   ],
   "source": [
    "help(build_tpm_sbn)"
   ]
  },
  {
   "cell_type": "markdown",
   "metadata": {},
   "source": [
    "Okay! Let's write a calculation function now."
   ]
  },
  {
   "cell_type": "code",
   "execution_count": 109,
   "metadata": {},
   "outputs": [],
   "source": [
    "def calculate_phis(data, n_test_channels, method, **kwargs):\n",
    "    \"\"\" Calculates and saves phi values for a given number of test_channels for a given method.\n",
    "    \n",
    "    Args:\n",
    "        data (np.ndarray): (samples, channels, trials, flies, conds) array of BINARISED data.\n",
    "        n_test_channels (int): Number of channels to consider at a time. Minimum 2.\n",
    "        method (string): Method used to generate TPM. \n",
    "                         Must be one of:\n",
    "                         - \"direct\"\n",
    "                         - \"logistic\" (requires kwarg interaction_order)\n",
    "    \n",
    "    Keyword Args:\n",
    "        interaction_order (int): Parameter used for logistic method for TPM calculation.\n",
    "    \n",
    "    Returns:\n",
    "        Nothing. \n",
    "        Instead, saves lists of dictionaries (per channel group) as .mat files with keys:\n",
    "            i_trial\n",
    "            i_fly\n",
    "            i_cond\n",
    "            state_phis\n",
    "            tpm\n",
    "            state_counts\n",
    "            channels\n",
    "    \n",
    "    \"\"\"\n",
    "    \n",
    "    n_samples, n_channels, n_trials, n_flies, n_conds = FLY_DATA.shape\n",
    "    \n",
    "    tau = 1\n",
    "    \n",
    "    results_dir = \"../data/processed/phis/\"\n",
    "    \n",
    "    ch_groups = itertools.combinations(range(n_channels), n_test_channels)\n",
    "    \n",
    "    if method == \"direct\":\n",
    "        method_str = method\n",
    "    elif method == \"logistic\":\n",
    "        interaction_order = kwargs.get(\"interaction_order\")\n",
    "        if not interaction_order:\n",
    "            raise ValueError(\"Must specify interaction_order if using logistic method.\") \n",
    "        method_str = method + str(interaction_order)\n",
    "    else:\n",
    "        raise ValueError(\"Method specified was not recognised\")\n",
    "    \n",
    "    # This deeply nested loop will take a long time...\n",
    "    for ch_group in ch_groups:\n",
    "        ch_group_results = []\n",
    "        data_slice = data[:, ch_group, :, :, :]\n",
    "        for cond in range(n_conds):\n",
    "            #print(\"CONDITION {}\".format(cond))\n",
    "            for fly in range(n_flies):\n",
    "                #print(\"  FLY {}\".format(fly))\n",
    "                for trial in range(n_trials):\n",
    "                    #print(\"    TRIAL {}\".format(trial))\n",
    "                    if method == \"direct\":\n",
    "                        tpm, state_counts = build_tpm_sbn(data_slice[:, :, trial, fly, cond], tau, 2)\n",
    "                    else:\n",
    "                        tpm, state_counts = tpm_log_reg(data_slice[:, :, trial, fly, cond], tau, interaction_order)\n",
    "                    \n",
    "                    n_states = n_test_channels ** 2\n",
    "                    \n",
    "                    network = pyphi.Network(tpm)\n",
    "                    phi = dict()\n",
    "                    state_sias = np.empty((n_states), dtype=object)\n",
    "                    state_phis = np.zeros((n_states))\n",
    "                    for state_index in range(n_states):\n",
    "                        state = pyphi.convert.le_index2state(state_index, n_test_channels)\n",
    "                        subsystem = pyphi.Subsystem(network, state)\n",
    "                        #sia = pyphi.compute.sia(subsystem)\n",
    "                        phi_val = pyphi.compute.phi(subsystem)\n",
    "                        state_phis[state_index] = phi_val\n",
    "                        #print('      STATE {}, PHI = {}'.format(state, phi_val))\n",
    "\n",
    "                    # Store only phi values for each state\n",
    "                    #phi['sias'] = state_sias\n",
    "                    phi['state_phis'] = state_phis\n",
    "                    phi['tpm'] = tpm\n",
    "                    phi['state_counts'] = state_counts\n",
    "                    phi['i_trial'] = trial\n",
    "                    phi['i_fly'] = fly\n",
    "                    phi['i_cond'] = cond\n",
    "                    phi['channels'] = ch_group\n",
    "                    \n",
    "                    ch_group_results.append(phi)\n",
    "\n",
    "\n",
    "        results_file = \"PHI_{}_METHOD_{}_CHS_{}.mat\".format(n_test_channels,\n",
    "                                                            method_str,\n",
    "                                                            \"-\".join(map(str, ch_group)))\n",
    "\n",
    "        sio.savemat(results_dir + results_file, {'ch_group_results': ch_group_results}, do_compression=True, long_field_names=True)\n",
    "        print('      SAVED {}\\n'.format(results_dir + results_file))"
   ]
  },
  {
   "cell_type": "markdown",
   "metadata": {},
   "source": [
    "Now we can run this for different parameters and time them."
   ]
  },
  {
   "cell_type": "markdown",
   "metadata": {},
   "source": [
    "#### 2-Channel $\\Phi$"
   ]
  },
  {
   "cell_type": "code",
   "execution_count": null,
   "metadata": {},
   "outputs": [],
   "source": [
    "%%time\n",
    "calculate_phis(data_binarised, 2, \"direct\")"
   ]
  },
  {
   "cell_type": "code",
   "execution_count": null,
   "metadata": {},
   "outputs": [],
   "source": [
    "%%time\n",
    "calculate_phis(data_binarised, 2, \"logistic\", interaction_order=1)"
   ]
  },
  {
   "cell_type": "code",
   "execution_count": null,
   "metadata": {},
   "outputs": [],
   "source": [
    "%%time\n",
    "calculate_phis(data_binarised, 2, \"logistic\", interaction_order=0)"
   ]
  },
  {
   "cell_type": "markdown",
   "metadata": {},
   "source": [
    "#### 3-Channel $\\Phi$"
   ]
  },
  {
   "cell_type": "code",
   "execution_count": null,
   "metadata": {},
   "outputs": [],
   "source": [
    "%%time\n",
    "calculate_phis(data_binarised, 3, \"direct\")"
   ]
  },
  {
   "cell_type": "code",
   "execution_count": null,
   "metadata": {},
   "outputs": [],
   "source": [
    "%%time\n",
    "calculate_phis(data_binarised, 3, \"logistic\", interaction_order=1)"
   ]
  },
  {
   "cell_type": "code",
   "execution_count": null,
   "metadata": {},
   "outputs": [],
   "source": [
    "%%time\n",
    "calculate_phis(data_binarised, 3, \"logistic\", interaction_order=2)"
   ]
  },
  {
   "cell_type": "code",
   "execution_count": null,
   "metadata": {},
   "outputs": [],
   "source": [
    "%%time\n",
    "calculate_phis(data_binarised, 3, \"logistic\", interaction_order=0)"
   ]
  },
  {
   "cell_type": "markdown",
   "metadata": {},
   "source": [
    "#### 4-Channel $\\Phi$"
   ]
  },
  {
   "cell_type": "code",
   "execution_count": null,
   "metadata": {},
   "outputs": [],
   "source": [
    "%%time\n",
    "calculate_phis(data_binarised, 4, \"direct\")"
   ]
  },
  {
   "cell_type": "code",
   "execution_count": null,
   "metadata": {},
   "outputs": [],
   "source": [
    "%%time\n",
    "calculate_phis(data_binarised, 4, \"logistic\", interaction_order=1)"
   ]
  },
  {
   "cell_type": "code",
   "execution_count": null,
   "metadata": {},
   "outputs": [],
   "source": [
    "%%time\n",
    "calculate_phis(data_binarised, 4, \"logistic\", interaction_order=2)"
   ]
  },
  {
   "cell_type": "code",
   "execution_count": null,
   "metadata": {},
   "outputs": [],
   "source": [
    "%%time\n",
    "calculate_phis(data_binarised, 4, \"logistic\", interaction_order=3)"
   ]
  },
  {
   "cell_type": "code",
   "execution_count": null,
   "metadata": {},
   "outputs": [],
   "source": [
    "%%time\n",
    "calculate_phis(data_binarised, 4, \"logistic\", interaction_order=0)"
   ]
  },
  {
   "cell_type": "markdown",
   "metadata": {},
   "source": [
    "### Decoding"
   ]
  },
  {
   "cell_type": "markdown",
   "metadata": {},
   "source": [
    "#### Reading the Processed Data"
   ]
  },
  {
   "cell_type": "markdown",
   "metadata": {},
   "source": [
    "Let's examine one channel group's data."
   ]
  },
  {
   "cell_type": "code",
   "execution_count": 172,
   "metadata": {},
   "outputs": [],
   "source": [
    "test_ch_group = sio.loadmat('../data/processed/phis/PHI_2_METHOD_direct_CHS_0-1.mat')"
   ]
  },
  {
   "cell_type": "code",
   "execution_count": 173,
   "metadata": {},
   "outputs": [],
   "source": [
    "test_ch_group_results = test_ch_group[\"ch_group_results\"]"
   ]
  },
  {
   "cell_type": "code",
   "execution_count": 174,
   "metadata": {},
   "outputs": [
    {
     "data": {
      "text/plain": [
       "(1, 208)"
      ]
     },
     "execution_count": 174,
     "metadata": {},
     "output_type": "execute_result"
    }
   ],
   "source": [
    "test_ch_group_results.shape"
   ]
  },
  {
   "cell_type": "markdown",
   "metadata": {},
   "source": [
    "The results can then be indexed by something of the form:\n",
    "    \n",
    "```\n",
    "test_ch_group_results[0, i_result]\n",
    "```"
   ]
  },
  {
   "cell_type": "code",
   "execution_count": 175,
   "metadata": {},
   "outputs": [
    {
     "data": {
      "text/plain": [
       "(1, 1)"
      ]
     },
     "execution_count": 175,
     "metadata": {},
     "output_type": "execute_result"
    }
   ],
   "source": [
    "test_ch_group_results[0, 0].shape"
   ]
  },
  {
   "cell_type": "markdown",
   "metadata": {},
   "source": [
    "We can then unbox this with\n",
    "```\n",
    "test_ch_group_results[0, i_result][0, 0]\n",
    "```"
   ]
  },
  {
   "cell_type": "code",
   "execution_count": 176,
   "metadata": {},
   "outputs": [
    {
     "data": {
      "text/plain": [
       "(array([[0.001286, 0.001372, 0.001118, 0.000137]]), array([[0.47453704, 0.41898148],\n",
       "       [0.58974359, 0.37321937],\n",
       "       [0.4811784 , 0.58919804],\n",
       "       [0.58134921, 0.62103175]]), array([[432.],\n",
       "       [702.],\n",
       "       [611.],\n",
       "       [504.]]), array([[0]]), array([[0]]), array([[0]]), array([[0, 1]]))"
      ]
     },
     "execution_count": 176,
     "metadata": {},
     "output_type": "execute_result"
    }
   ],
   "source": [
    "test_ch_group_results[0, 0][0, 0]"
   ]
  },
  {
   "cell_type": "markdown",
   "metadata": {},
   "source": [
    "To get the keys:"
   ]
  },
  {
   "cell_type": "code",
   "execution_count": 177,
   "metadata": {},
   "outputs": [
    {
     "data": {
      "text/plain": [
       "dtype([('state_phis', 'O'), ('tpm', 'O'), ('state_counts', 'O'), ('i_trial', 'O'), ('i_fly', 'O'), ('i_cond', 'O'), ('channels', 'O')])"
      ]
     },
     "execution_count": 177,
     "metadata": {},
     "output_type": "execute_result"
    }
   ],
   "source": [
    "test_ch_group_results[0, 0].dtype"
   ]
  },
  {
   "cell_type": "markdown",
   "metadata": {},
   "source": [
    "And therefore to read a field, we can use:\n",
    "```\n",
    "test_ch_group_results[0, i_result][0, 0][field][0]\n",
    "```"
   ]
  },
  {
   "cell_type": "code",
   "execution_count": 178,
   "metadata": {},
   "outputs": [
    {
     "data": {
      "text/plain": [
       "array([[0.47453704, 0.41898148],\n",
       "       [0.58974359, 0.37321937],\n",
       "       [0.4811784 , 0.58919804],\n",
       "       [0.58134921, 0.62103175]])"
      ]
     },
     "execution_count": 178,
     "metadata": {},
     "output_type": "execute_result"
    }
   ],
   "source": [
    "test_ch_group_results[0, 0][0, 0][\"tpm\"]"
   ]
  },
  {
   "cell_type": "markdown",
   "metadata": {},
   "source": [
    "We will need to unbox some of these as everything is stored as a 2D array."
   ]
  },
  {
   "cell_type": "code",
   "execution_count": 179,
   "metadata": {},
   "outputs": [
    {
     "data": {
      "text/plain": [
       "0"
      ]
     },
     "execution_count": 179,
     "metadata": {},
     "output_type": "execute_result"
    }
   ],
   "source": [
    "test_ch_group_results[0, 0][0, 0][\"i_fly\"][0, 0]"
   ]
  },
  {
   "cell_type": "code",
   "execution_count": 180,
   "metadata": {},
   "outputs": [
    {
     "data": {
      "text/plain": [
       "array([0.001286, 0.001372, 0.001118, 0.000137])"
      ]
     },
     "execution_count": 180,
     "metadata": {},
     "output_type": "execute_result"
    }
   ],
   "source": [
    "test_ch_group_results[0, 0][0, 0][\"state_phis\"][0]"
   ]
  },
  {
   "cell_type": "markdown",
   "metadata": {},
   "source": [
    "Let's write a function to get out values from this rather complicate data structure. \n",
    "\n",
    "It may be faster to just directly index when necessary, but this will help us remember how to properly unbox our values."
   ]
  },
  {
   "cell_type": "code",
   "execution_count": 103,
   "metadata": {},
   "outputs": [],
   "source": [
    "def extract_value(data, i_result, field):\n",
    "    \"\"\" Extracts a value from the ch_group_results data structure.\n",
    "    \n",
    "    Args:\n",
    "        data: The processed data structure from sio.loadmat[data_field]\n",
    "        i_result: The index of the result in the data structure.\n",
    "        field: A string, which must be one of:\n",
    "            - \"state_phis\"\n",
    "            - \"tpm\"\n",
    "            - \"state_counts\"\n",
    "            - \"i_trial\"\n",
    "            - \"i_fly\"\n",
    "            - \"i_cond\"\n",
    "            - \"channels\"\n",
    "            - \"all\"\n",
    "    \n",
    "    Returns:\n",
    "        A np.ndarray of the extracted data.\n",
    "    \n",
    "    \"\"\"\n",
    "    \n",
    "    if field == \"state_phis\" or field == \"state_counts\" or field == \"channels\":\n",
    "        return data[0, i_result][0, 0][field][0]\n",
    "    elif field == \"i_trial\" or field == \"i_cond\" or field == \"i_fly\":\n",
    "        return data[0, i_result][0, 0][field][0, 0]\n",
    "    elif field == \"tpm\":\n",
    "        return data[0, i_result][0, 0][field]\n",
    "    elif field == \"all\":\n",
    "        return data[0, i_result][0, 0]\n",
    "    else:\n",
    "        raise ValueError(\"Field not recognised in input data.\")"
   ]
  }
 ],
 "metadata": {
  "kernelspec": {
   "display_name": "Python 3",
   "language": "python",
   "name": "python3"
  },
  "language_info": {
   "codemirror_mode": {
    "name": "ipython",
    "version": 3
   },
   "file_extension": ".py",
   "mimetype": "text/x-python",
   "name": "python",
   "nbconvert_exporter": "python",
   "pygments_lexer": "ipython3",
   "version": "3.6.8"
  }
 },
 "nbformat": 4,
 "nbformat_minor": 2
}
