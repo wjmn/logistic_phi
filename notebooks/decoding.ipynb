{
 "cells": [
  {
   "cell_type": "markdown",
   "metadata": {},
   "source": [
    "# Setup"
   ]
  },
  {
   "cell_type": "code",
   "execution_count": 60,
   "metadata": {},
   "outputs": [],
   "source": [
    "import matplotlib.pyplot as plt\n",
    "from math import floor\n",
    "\n",
    "import numpy as np\n",
    "import scipy.io as sio\n",
    "\n",
    "import glob\n",
    "import os\n",
    "import re\n",
    "\n",
    "from sklearn.neighbors.nearest_centroid import NearestCentroid\n",
    "from sklearn.model_selection import cross_val_score\n",
    "\n",
    "plt.rcParams['figure.figsize'] = [15, 5]\n",
    "%matplotlib inline"
   ]
  },
  {
   "cell_type": "markdown",
   "metadata": {},
   "source": [
    "## Data"
   ]
  },
  {
   "cell_type": "code",
   "execution_count": 5,
   "metadata": {},
   "outputs": [],
   "source": [
    "data_binarised_file = \"../data/processed/fly_data_binarised\"\n",
    "data_binarised = np.load(data_binarised_file + \".npy\")"
   ]
  },
  {
   "cell_type": "code",
   "execution_count": 6,
   "metadata": {},
   "outputs": [
    {
     "data": {
      "text/plain": [
       "(2250, 15, 8, 13, 2)"
      ]
     },
     "execution_count": 6,
     "metadata": {},
     "output_type": "execute_result"
    }
   ],
   "source": [
    "data_binarised.shape"
   ]
  },
  {
   "cell_type": "code",
   "execution_count": 7,
   "metadata": {},
   "outputs": [],
   "source": [
    "n_samples, n_channels, n_trials, n_flies, n_conds = data_binarised.shape"
   ]
  },
  {
   "cell_type": "markdown",
   "metadata": {},
   "source": [
    "## Utility Functions"
   ]
  },
  {
   "cell_type": "code",
   "execution_count": 11,
   "metadata": {},
   "outputs": [],
   "source": [
    "def extract_value(data, i_result, field):\n",
    "    \"\"\" Extracts a value from the ch_group_results data structure.\n",
    "    \n",
    "    Args:\n",
    "        data: The processed data structure from sio.loadmat[data_field]\n",
    "        i_result: The index of the result in the data structure.\n",
    "        field: A string, which must be one of:\n",
    "            - \"state_phis\"\n",
    "            - \"tpm\"\n",
    "            - \"state_counts\"\n",
    "            - \"i_trial\"\n",
    "            - \"i_fly\"\n",
    "            - \"i_cond\"\n",
    "            - \"channels\"\n",
    "            - \"all\"\n",
    "    \n",
    "    Returns:\n",
    "        A np.ndarray of the extracted data.\n",
    "    \n",
    "    \"\"\"\n",
    "    \n",
    "    if field == \"state_phis\" or field == \"channels\" or field == \"state_counts\":\n",
    "        return data[0, i_result][0, 0][field].flatten()\n",
    "    elif field == \"i_trial\" or field == \"i_cond\" or field == \"i_fly\":\n",
    "        return data[0, i_result][0, 0][field][0, 0]\n",
    "    elif field == \"tpm\":\n",
    "        return data[0, i_result][0, 0][field]\n",
    "    elif field == \"all\":\n",
    "        return data[0, i_result][0, 0]\n",
    "    else:\n",
    "        raise ValueError(\"Field not recognised in input data.\")"
   ]
  },
  {
   "cell_type": "markdown",
   "metadata": {},
   "source": [
    "# Decoding"
   ]
  },
  {
   "cell_type": "markdown",
   "metadata": {},
   "source": [
    "## Across-Trials, Within-Fly, Across-Channel Groups"
   ]
  },
  {
   "cell_type": "markdown",
   "metadata": {},
   "source": [
    "This will give us 1 classification score for each fly (for each method).\n",
    "\n",
    "Each classification set will have `n_trials * n_conds = 16` samples. Each sample will have a multidimensional independent variable, with the number of dimensions equalling the number of channel groups."
   ]
  },
  {
   "cell_type": "code",
   "execution_count": 23,
   "metadata": {},
   "outputs": [],
   "source": [
    "decoding_results = []\n",
    "\n",
    "glob_str_all = \"../data/processed/phis/PHI_*.mat\"\n",
    "\n",
    "ch_nums = set(map(lambda x: int(re.search(r\"PHI_(\\d+)\", x).group(1)), glob.glob(glob_str_all)))\n",
    "\n",
    "# n_flies, n_trials and n_cond should have been defined beforehand but if not:\n",
    "#n_flies = 13\n",
    "#n_trials = 8\n",
    "#n_cond = 2\n",
    "\n",
    "for ch_num in ch_nums:\n",
    "\n",
    "    glob_str_ch_num = \"../data/processed/phis/PHI_{}_*.mat\".format(ch_num)\n",
    "    file_ch_num = glob.glob(glob_str_ch_num)\n",
    "    \n",
    "    methods = set(map(lambda x: re.search(r\"METHOD_(.*?)_\", x).group(1), file_ch_num))\n",
    "    \n",
    "    n_results = n_flies * n_trials * n_conds\n",
    "    \n",
    "    for method in methods:\n",
    "        glob_str_file = \"../data/processed/phis/PHI_{}_METHOD_{}*.mat\".format(ch_num, method)\n",
    "        file_list = glob.glob(glob_str_file)\n",
    "\n",
    "        pooled_xs = np.zeros((n_flies, n_results // n_flies, len(file_list)))\n",
    "        # Note ys should be the same across all files for a particular channel number\n",
    "\n",
    "        ys_all = np.zeros(n_results // n_flies)\n",
    "\n",
    "        for i_f, filename in enumerate(file_list):\n",
    "\n",
    "            file_results = sio.loadmat(filename)\n",
    "            data = file_results[\"ch_group_results\"]\n",
    "\n",
    "            for i_fly in range(n_flies):\n",
    "\n",
    "                xs_all = np.zeros(n_results // n_flies)\n",
    "\n",
    "                i_res = 0\n",
    "                for i_r in range(n_results):\n",
    "                    if extract_value(data, i_r, \"i_fly\") == i_fly:\n",
    "                        phis = extract_value(data, i_r, \"state_phis\")\n",
    "                        counts = extract_value(data, i_r, \"state_counts\")\n",
    "                        weighted_phi = (phis * (counts / counts.sum())).sum()\n",
    "                        xs_all[i_res] = weighted_phi\n",
    "                        if i_f == 0: # run this only once per method\n",
    "                            ys_all[i_res] = extract_value(data, i_r, \"i_cond\")\n",
    "                        i_res += 1\n",
    "\n",
    "                pooled_xs[i_fly, :, i_f] = xs_all\n",
    "\n",
    "        for i_fly in range(n_flies):\n",
    "\n",
    "            model = NearestCentroid()\n",
    "            scores = cross_val_score(model, pooled_xs[i_fly, :, :], ys_all, cv=3)\n",
    "\n",
    "            decoding_result = {}\n",
    "\n",
    "            decoding_result[\"i_fly\"] = i_fly\n",
    "            decoding_result[\"score_mean\"] = scores.mean()\n",
    "            decoding_result[\"score_std\"] = scores.std()\n",
    "            decoding_result[\"method\"] = method\n",
    "            decoding_result[\"ch_num\"] = ch_num\n",
    "\n",
    "            decoding_results.append(decoding_result)"
   ]
  },
  {
   "cell_type": "code",
   "execution_count": 62,
   "metadata": {},
   "outputs": [
    {
     "data": {
      "text/plain": [
       "[{'i_fly': 0,\n",
       "  'score_mean': 0.75,\n",
       "  'score_std': 0.0680413817439772,\n",
       "  'method': 'logistic2',\n",
       "  'ch_num': 2},\n",
       " {'i_fly': 1,\n",
       "  'score_mean': 0.8611111111111112,\n",
       "  'score_std': 0.10393492741038726,\n",
       "  'method': 'logistic2',\n",
       "  'ch_num': 2},\n",
       " {'i_fly': 2,\n",
       "  'score_mean': 0.9444444444444445,\n",
       "  'score_std': 0.0785674201318386,\n",
       "  'method': 'logistic2',\n",
       "  'ch_num': 2},\n",
       " {'i_fly': 3,\n",
       "  'score_mean': 0.6944444444444445,\n",
       "  'score_std': 0.14163943093313291,\n",
       "  'method': 'logistic2',\n",
       "  'ch_num': 2}]"
      ]
     },
     "execution_count": 62,
     "metadata": {},
     "output_type": "execute_result"
    }
   ],
   "source": [
    "decoding_results[0:4]"
   ]
  },
  {
   "cell_type": "code",
   "execution_count": 63,
   "metadata": {},
   "outputs": [
    {
     "data": {
      "image/png": "[encoded data removed]",
      "text/plain": [
       "<Figure size 432x288 with 1 Axes>"
      ]
     },
     "metadata": {
      "needs_background": "light"
     },
     "output_type": "display_data"
    }
   ],
   "source": [
    "#colors = [\"red\", \"blue\", \"green\"]\n",
    "\n",
    "n_methods = len(decoding_results) // n_flies\n",
    "\n",
    "w = 0.04\n",
    "\n",
    "mid_fly = n_flies // 2\n",
    "\n",
    "for i_fly in range(n_flies):\n",
    "    r_fly = [r for r in decoding_results if r.get(\"i_fly\") == i_fly]\n",
    "    x_pos = list(map(lambda x: x + ((i_fly - mid_fly) * (w*1.5)), range(n_methods)))\n",
    "    heights = [r.get(\"score_mean\") for r in r_fly]\n",
    "    if i_fly == mid_fly:\n",
    "        tick_labels = [\"{} ch {}\".format(r.get(\"ch_num\"), r.get(\"method\")) for r in r_fly]\n",
    "    else:\n",
    "        tick_labels = None\n",
    "    plt.bar(x_pos,\n",
    "            heights,\n",
    "            width = w,\n",
    "            tick_label = tick_labels,\n",
    "            #color = [colors[r.get(\"ch_num\") - 2] for r in r_fly],\n",
    "            yerr = [r.get(\"score_std\") for r in r_fly])\n",
    "    plt.ylim((0, 1))"
   ]
  },
  {
   "cell_type": "markdown",
   "metadata": {},
   "source": [
    "## Across-Trials, Across-Flies, Across-Channel Groups"
   ]
  },
  {
   "cell_type": "markdown",
   "metadata": {},
   "source": [
    "This will give us 1 classification score (for each method).\n",
    "\n",
    "Each classification set will have `n_trials * n_conds = 208` samples. Each sample will have a multidimensional independent variable, with the number of dimensions equalling the number of channel groups."
   ]
  },
  {
   "cell_type": "code",
   "execution_count": 12,
   "metadata": {},
   "outputs": [
    {
     "name": "stderr",
     "output_type": "stream",
     "text": [
      "/Users/wjmn/miniconda3/lib/python3.6/site-packages/sklearn/model_selection/_split.py:2053: FutureWarning: You should specify a value for 'cv' instead of relying on the default value. The default value will change from 3 to 5 in version 0.22.\n",
      "  warnings.warn(CV_WARNING, FutureWarning)\n",
      "/Users/wjmn/miniconda3/lib/python3.6/site-packages/sklearn/model_selection/_split.py:2053: FutureWarning: You should specify a value for 'cv' instead of relying on the default value. The default value will change from 3 to 5 in version 0.22.\n",
      "  warnings.warn(CV_WARNING, FutureWarning)\n",
      "/Users/wjmn/miniconda3/lib/python3.6/site-packages/sklearn/model_selection/_split.py:2053: FutureWarning: You should specify a value for 'cv' instead of relying on the default value. The default value will change from 3 to 5 in version 0.22.\n",
      "  warnings.warn(CV_WARNING, FutureWarning)\n"
     ]
    }
   ],
   "source": [
    "decoding_results = []\n",
    "\n",
    "glob_str_all = \"../data/processed/phis/PHI_*.mat\"\n",
    "\n",
    "ch_nums = set(map(lambda x: int(re.search(r\"PHI_(\\d+)\", x).group(1)), glob.glob(glob_str_all)))\n",
    "\n",
    "# n_flies, n_trials and n_cond should have been defined beforehand but if not:\n",
    "#n_flies = 13\n",
    "#n_trials = 8\n",
    "#n_cond = 2\n",
    "\n",
    "for ch_num in ch_nums:\n",
    "\n",
    "    glob_str_ch_num = \"../data/processed/phis/PHI_{}_*.mat\".format(ch_num)\n",
    "    file_ch_num = glob.glob(glob_str_ch_num)\n",
    "    \n",
    "    methods = set(map(lambda x: re.search(r\"METHOD_(.*?)_\", x).group(1), file_ch_num))\n",
    "    \n",
    "    n_results = n_flies * n_trials * n_conds\n",
    "\n",
    "    for method in methods:\n",
    "        glob_str_file = \"../data/processed/phis/PHI_{}_METHOD_{}*.mat\".format(ch_num, method)\n",
    "        file_list = glob.glob(glob_str_file)\n",
    "        \n",
    "        pooled_xs = np.zeros((n_results, len(file_list)))\n",
    "        # Note ys should be the same across all files for a particular channel number\n",
    "        \n",
    "        ys_all = np.zeros(n_results)\n",
    "                \n",
    "        for i_f, filename in enumerate(file_list):\n",
    "\n",
    "            file_results = sio.loadmat(filename)\n",
    "            data = file_results[\"ch_group_results\"]\n",
    "\n",
    "            xs_all = np.zeros(n_results)\n",
    "\n",
    "            for i_r in range(n_results):\n",
    "                phis = extract_value(data, i_r, \"state_phis\")\n",
    "                counts = extract_value(data, i_r, \"state_counts\")\n",
    "                weighted_phi = (phis * (counts / counts.sum())).sum()\n",
    "                xs_all[i_r] = weighted_phi\n",
    "                if i_f == 0:\n",
    "                    ys_all[i_r] = extract_value(data, i_r, \"i_cond\")\n",
    "            \n",
    "            pooled_xs[:, i_f] = xs_all\n",
    "\n",
    "        model = NearestCentroid()\n",
    "        scores = cross_val_score(model, pooled_xs, ys_all, cv=5)\n",
    "\n",
    "        decoding_result = {}\n",
    "\n",
    "        decoding_result[\"score_mean\"] = scores.mean()\n",
    "        decoding_result[\"score_std\"] = scores.std()\n",
    "        decoding_result[\"method\"] = method\n",
    "        decoding_result[\"ch_num\"] = ch_num\n",
    "\n",
    "        decoding_results.append(decoding_result)"
   ]
  },
  {
   "cell_type": "code",
   "execution_count": 13,
   "metadata": {},
   "outputs": [
    {
     "data": {
      "text/plain": [
       "[{'score_mean': 0.6205882352941177,\n",
       "  'score_std': 0.05499656001379745,\n",
       "  'method': 'logistic2',\n",
       "  'ch_num': 2},\n",
       " {'score_mean': 0.6253501400560224,\n",
       "  'score_std': 0.048266727347384394,\n",
       "  'method': 'direct',\n",
       "  'ch_num': 2},\n",
       " {'score_mean': 0.6394957983193277,\n",
       "  'score_std': 0.029646919084765022,\n",
       "  'method': 'logistic1',\n",
       "  'ch_num': 2}]"
      ]
     },
     "execution_count": 13,
     "metadata": {},
     "output_type": "execute_result"
    }
   ],
   "source": [
    "decoding_results"
   ]
  },
  {
   "cell_type": "code",
   "execution_count": 14,
   "metadata": {},
   "outputs": [
    {
     "data": {
      "text/plain": [
       "(0, 1)"
      ]
     },
     "execution_count": 14,
     "metadata": {},
     "output_type": "execute_result"
    },
    {
     "data": {
      "image/png": "[encoded data removed]",
      "text/plain": [
       "<Figure size 432x288 with 1 Axes>"
      ]
     },
     "metadata": {
      "needs_background": "light"
     },
     "output_type": "display_data"
    }
   ],
   "source": [
    "colors = [\"red\", \"blue\", \"green\"]\n",
    "\n",
    "plt.bar(range(len(decoding_results)),\n",
    "        [r.get(\"score_mean\") for r in decoding_results],\n",
    "        tick_label = [\"{} ch {}\".format(r.get(\"ch_num\"), r.get(\"method\")) for r in decoding_results],\n",
    "        color = [colors[r.get(\"ch_num\") - 2] for r in decoding_results],\n",
    "        yerr = [r.get(\"score_std\") for r in decoding_results])\n",
    "plt.ylim((0, 1))"
   ]
  }
 ],
 "metadata": {
  "kernelspec": {
   "display_name": "Python 3",
   "language": "python",
   "name": "python3"
  },
  "language_info": {
   "codemirror_mode": {
    "name": "ipython",
    "version": 3
   },
   "file_extension": ".py",
   "mimetype": "text/x-python",
   "name": "python",
   "nbconvert_exporter": "python",
   "pygments_lexer": "ipython3",
   "version": "3.6.8"
  }
 },
 "nbformat": 4,
 "nbformat_minor": 2
}
