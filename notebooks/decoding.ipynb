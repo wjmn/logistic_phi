{
 "cells": [
  {
   "cell_type": "markdown",
   "metadata": {},
   "source": [
    "# TODOs"
   ]
  },
  {
   "cell_type": "markdown",
   "metadata": {},
   "source": [
    "Fixes:\n",
    "- n_states fix (for 3-channel phi)\n",
    "- incomplete direct method"
   ]
  },
  {
   "cell_type": "markdown",
   "metadata": {},
   "source": [
    "Missing data for the following channel triads for \"direct\" and \"logistic3\" method:"
   ]
  },
  {
   "cell_type": "code",
   "execution_count": 10,
   "metadata": {},
   "outputs": [],
   "source": [
    "missing = set({'0-5-12',\n",
    " '0-5-13',\n",
    " '0-5-14',\n",
    " '0-6-7',\n",
    " '1-2-4',\n",
    " '1-2-5',\n",
    " '1-2-6',\n",
    " '1-2-7',\n",
    " '1-5-12',\n",
    " '10-11-14',\n",
    " '10-12-13',\n",
    " '10-12-14',\n",
    " '10-13-14',\n",
    " '3-4-13',\n",
    " '3-4-14',\n",
    " '3-5-6',\n",
    " '3-5-7',\n",
    " '5-8-10',\n",
    " '5-8-11',\n",
    " '5-8-12',\n",
    " '5-8-13',\n",
    " '6-7-10',\n",
    " '6-7-14',\n",
    " '6-8-10',\n",
    " '6-8-11',\n",
    " '6-8-9'}\n",
    ")"
   ]
  },
  {
   "cell_type": "code",
   "execution_count": 6,
   "metadata": {},
   "outputs": [],
   "source": [
    "with open(\"../scripts/parallel_phi/networks_3ch\") as infile:\n",
    "    networks_3ch = infile.read().rstrip().splitlines()"
   ]
  },
  {
   "cell_type": "code",
   "execution_count": 14,
   "metadata": {},
   "outputs": [
    {
     "name": "stdout",
     "output_type": "stream",
     "text": [
      "52,0,5,12\n",
      "53,0,5,13\n",
      "54,0,5,14\n",
      "55,0,6,7\n",
      "92,1,2,4\n",
      "93,1,2,5\n",
      "94,1,2,6\n",
      "95,1,2,7\n",
      "130,1,5,12\n",
      "243,3,4,13\n",
      "244,3,4,14\n",
      "245,3,5,6\n",
      "246,3,5,7\n",
      "351,5,8,10\n",
      "352,5,8,11\n",
      "353,5,8,12\n",
      "354,5,8,13\n",
      "373,6,7,10\n",
      "377,6,7,14\n",
      "378,6,8,9\n",
      "379,6,8,10\n",
      "380,6,8,11\n",
      "447,10,11,14\n",
      "448,10,12,13\n",
      "449,10,12,14\n",
      "450,10,13,14\n"
     ]
    }
   ],
   "source": [
    "for network in networks_3ch:\n",
    "    if \"-\".join(network.split(\",\")[1:]) in missing:\n",
    "        print(network)"
   ]
  },
  {
   "cell_type": "markdown",
   "metadata": {},
   "source": [
    "# Setup"
   ]
  },
  {
   "cell_type": "code",
   "execution_count": 29,
   "metadata": {},
   "outputs": [],
   "source": [
    "import matplotlib.pyplot as plt\n",
    "from math import floor\n",
    "\n",
    "import numpy as np\n",
    "import scipy.io as sio\n",
    "\n",
    "import glob\n",
    "import os\n",
    "import re\n",
    "\n",
    "import itertools\n",
    "\n",
    "from sklearn.neighbors.nearest_centroid import NearestCentroid\n",
    "from sklearn.model_selection import cross_val_score\n",
    "\n",
    "plt.rcParams['figure.figsize'] = [15, 5]\n",
    "%matplotlib inline"
   ]
  },
  {
   "cell_type": "markdown",
   "metadata": {},
   "source": [
    "A useful toggle-code cell will help make this notebook tidier."
   ]
  },
  {
   "cell_type": "code",
   "execution_count": 3,
   "metadata": {},
   "outputs": [],
   "source": [
    "from IPython.display import HTML"
   ]
  },
  {
   "cell_type": "code",
   "execution_count": 16,
   "metadata": {},
   "outputs": [
    {
     "data": {
      "text/html": [
       "<script>\n",
       "code_show=true; \n",
       "function code_toggle() {\n",
       " if (code_show){\n",
       " $('div.input').hide();\n",
       " } else {\n",
       " $('div.input').show();\n",
       " }\n",
       " code_show = !code_show\n",
       "} \n",
       "$( document ).ready(code_toggle);\n",
       "</script>\n",
       "<a href=\"javascript:code_toggle()\"><h1>Toggle Code Visibility</h1></a>."
      ],
      "text/plain": [
       "<IPython.core.display.HTML object>"
      ]
     },
     "execution_count": 16,
     "metadata": {},
     "output_type": "execute_result"
    }
   ],
   "source": [
    "HTML('''<script>\n",
    "code_show=true; \n",
    "function code_toggle() {\n",
    " if (code_show){\n",
    " $('div.input').hide();\n",
    " } else {\n",
    " $('div.input').show();\n",
    " }\n",
    " code_show = !code_show\n",
    "} \n",
    "$( document ).ready(code_toggle);\n",
    "</script>\n",
    "<a href=\"javascript:code_toggle()\"><h1>Toggle Code Visibility</h1></a>.''')"
   ]
  },
  {
   "cell_type": "markdown",
   "metadata": {},
   "source": [
    "## Data"
   ]
  },
  {
   "cell_type": "code",
   "execution_count": 4,
   "metadata": {},
   "outputs": [],
   "source": [
    "data_binarised_file = \"../data/processed/fly_data_binarised\"\n",
    "data_binarised = np.load(data_binarised_file + \".npy\")"
   ]
  },
  {
   "cell_type": "code",
   "execution_count": 5,
   "metadata": {},
   "outputs": [
    {
     "data": {
      "text/plain": [
       "(2250, 15, 8, 13, 2)"
      ]
     },
     "execution_count": 5,
     "metadata": {},
     "output_type": "execute_result"
    }
   ],
   "source": [
    "data_binarised.shape"
   ]
  },
  {
   "cell_type": "code",
   "execution_count": 6,
   "metadata": {},
   "outputs": [],
   "source": [
    "n_samples, n_channels, n_trials, n_flies, n_conds = data_binarised.shape"
   ]
  },
  {
   "cell_type": "markdown",
   "metadata": {},
   "source": [
    "## Utility Functions"
   ]
  },
  {
   "cell_type": "code",
   "execution_count": 7,
   "metadata": {},
   "outputs": [],
   "source": [
    "def extract_value(data, i_result, field):\n",
    "    \"\"\" Extracts a value from the ch_group_results data structure.\n",
    "    \n",
    "    Args:\n",
    "        data: The processed data structure from sio.loadmat[data_field]\n",
    "        i_result: The index of the result in the data structure.\n",
    "        field: A string, which must be one of:\n",
    "            - \"state_phis\"\n",
    "            - \"tpm\"\n",
    "            - \"state_counts\"\n",
    "            - \"i_trial\"\n",
    "            - \"i_fly\"\n",
    "            - \"i_cond\"\n",
    "            - \"channels\"\n",
    "            - \"all\"\n",
    "    \n",
    "    Returns:\n",
    "        A np.ndarray of the extracted data.\n",
    "    \n",
    "    \"\"\"\n",
    "    \n",
    "    if field == \"state_phis\" or field == \"channels\" or field == \"state_counts\":\n",
    "        return data[0, i_result][0, 0][field].flatten()\n",
    "    elif field == \"i_trial\" or field == \"i_cond\" or field == \"i_fly\":\n",
    "        return data[0, i_result][0, 0][field][0, 0]\n",
    "    elif field == \"tpm\":\n",
    "        return data[0, i_result][0, 0][field]\n",
    "    elif field == \"all\":\n",
    "        return data[0, i_result][0, 0]\n",
    "    else:\n",
    "        raise ValueError(\"Field not recognised in input data.\")"
   ]
  },
  {
   "cell_type": "markdown",
   "metadata": {},
   "source": [
    "# Control Data"
   ]
  },
  {
   "cell_type": "markdown",
   "metadata": {},
   "source": [
    "Let's use the Pearson's correlation coefficient between every pair of 2 channels as a control measure for decoding."
   ]
  },
  {
   "cell_type": "code",
   "execution_count": 49,
   "metadata": {},
   "outputs": [
    {
     "name": "stdout",
     "output_type": "stream",
     "text": [
      "CPU times: user 5.53 s, sys: 33.7 ms, total: 5.56 s\n",
      "Wall time: 5.58 s\n"
     ]
    }
   ],
   "source": [
    "%%time\n",
    "cs = itertools.combinations(range(15), 2)\n",
    "\n",
    "control_data = []\n",
    "\n",
    "for c in cs:\n",
    "    data_c = {}\n",
    "    data_c[\"ch_group\"] = c\n",
    "\n",
    "    data = []\n",
    "    \n",
    "    for i_trial in range(n_trials):\n",
    "        for i_fly in range(n_flies):\n",
    "            for i_cond in range(n_conds):\n",
    "                coeff = np.corrcoef(data_binarised[:, c[0], i_trial, i_fly, i_cond],\n",
    "                                    data_binarised[:, c[1], i_trial, i_fly, i_cond]\n",
    "                                   )\n",
    "                data_dict = {}\n",
    "                data_dict[\"i_trial\"] = i_trial\n",
    "                data_dict[\"i_fly\"] = i_fly\n",
    "                data_dict[\"i_cond\"] = i_cond\n",
    "                data_dict[\"corr_coef\"] = coeff[0, 1]\n",
    "                data.append(data_dict)\n",
    "    data_c[\"data\"] = data\n",
    "    \n",
    "    control_data.append(data_c)"
   ]
  },
  {
   "cell_type": "markdown",
   "metadata": {},
   "source": [
    "# Decoding"
   ]
  },
  {
   "cell_type": "markdown",
   "metadata": {},
   "source": [
    "## Decoding Functions"
   ]
  },
  {
   "cell_type": "code",
   "execution_count": 17,
   "metadata": {},
   "outputs": [],
   "source": [
    "def pool_samples(ch_num, across_flies=True):\n",
    "    \n",
    "    method_results = []\n",
    "    \n",
    "    glob_str_ch_num = \"../data/processed/phis/PHI_{}*.mat\".format(ch_num)\n",
    "    files_ch_num = glob.glob(glob_str_ch_num)\n",
    "    \n",
    "    methods = set(map(lambda x: re.search(r\"METHOD_(.*?)_\", x).group(1), files_ch_num))\n",
    "    \n",
    "    for method in methods:\n",
    "        glob_str_file = \"../data/processed/phis/PHI_{}_METHOD_{}*.mat\".format(ch_num, method)\n",
    "        file_list = glob.glob(glob_str_file)\n",
    "        \n",
    "        if across_flies:\n",
    "            ch_results = np.zeros((n_trials * n_conds * n_flies , len(file_list)))\n",
    "        else:\n",
    "            ch_results = np.zeros((n_trials * n_conds, n_flies, len(file_list)))\n",
    "\n",
    "        ch_groups = list(map(lambda x: re.findall(r\"\\d+\", x.split(\"CHS_\")[1]), file_list))\n",
    "        \n",
    "        for i_f, filename in enumerate(file_list):\n",
    "            \n",
    "            file_results = sio.loadmat(filename)\n",
    "            data = file_results[\"ch_group_results\"]\n",
    "            \n",
    "            xs = np.zeros((n_trials * n_conds, n_flies))\n",
    "            \n",
    "            if i_f == 0: # only run once, should be same for all\n",
    "                ys = np.zeros((n_trials * n_conds, n_flies))\n",
    "            \n",
    "            n_results = data.shape[1]\n",
    "            \n",
    "            for i_r in range(n_results):\n",
    "                i_trial = extract_value(data, i_r, \"i_trial\")\n",
    "                i_fly = extract_value(data, i_r, \"i_fly\")\n",
    "                \n",
    "                phis = extract_value(data, i_r, \"state_phis\")\n",
    "                counts = extract_value(data, i_r, \"state_counts\")\n",
    "                if ch_num == 3: # this run had a superfluous state\n",
    "                    phis = phis[:-1]\n",
    "                weighted_phi = (phis * (counts / counts.sum())).sum()\n",
    "                \n",
    "                i_cond = extract_value(data, i_r, \"i_cond\")\n",
    "                \n",
    "                xs[i_trial + (i_cond * n_trials), i_fly] = weighted_phi\n",
    "                if i_f == 0:\n",
    "                    ys[i_trial + (i_cond * n_trials), i_fly] = i_cond\n",
    "            \n",
    "            if across_flies:\n",
    "                xs = xs.transpose().flatten()\n",
    "                ch_results[:, i_f] = xs\n",
    "                if i_f == 0:\n",
    "                    ys = ys.transpose().flatten()\n",
    "            else:\n",
    "                ch_results[:, :, i_f] = xs\n",
    "            \n",
    "        method_result = {\"method\": method,\n",
    "                         \"xs\": ch_results,\n",
    "                         \"ys\": ys,\n",
    "                         \"ch_num\": ch_num\n",
    "                        }\n",
    "        method_results.append(method_result)\n",
    "    return method_results, ch_groups"
   ]
  },
  {
   "cell_type": "code",
   "execution_count": 99,
   "metadata": {},
   "outputs": [],
   "source": [
    "def conduct_cv(method_results, ch_groups, ch_num, across_flies=True, multi_channel=True):\n",
    "    decoding_results = []\n",
    "    for i, method_result in enumerate(method_results):\n",
    "        \n",
    "        print(\"DECODING FOR {} CH {}\".format(ch_num, method_result[\"method\"]))\n",
    "        \n",
    "        xs = method_result[\"xs\"]\n",
    "        ys = method_result[\"ys\"]\n",
    "        \n",
    "        model = NearestCentroid()\n",
    "    \n",
    "        if across_flies:\n",
    "            if multi_channel:\n",
    "                decoding_result = {k:method_result[k] for k in method_result.keys() if k not in [\"xs\", \"ys\", \"ch_groups\"]}\n",
    "                scores = cross_val_score(model, xs, ys, cv=3)\n",
    "                decoding_result[\"scores\"] = scores\n",
    "                decoding_result[\"score_mean\"] = scores.mean()\n",
    "                decoding_result[\"score_std\"] = scores.std()\n",
    "                decoding_results.append(decoding_result)\n",
    "            else:\n",
    "                for i_ch in range(xs.shape[1]):\n",
    "                    decoding_result = {k:method_result[k] for k in method_result.keys() if k not in [\"xs\", \"ys\", \"ch_groups\"]}\n",
    "                    scores = cross_val_score(model, xs[:, i_ch].reshape(-1, 1), ys, cv=3)\n",
    "                    decoding_result[\"scores\"] = scores\n",
    "                    decoding_result[\"score_mean\"] = scores.mean()\n",
    "                    decoding_result[\"score_std\"] = scores.std()\n",
    "                    try:\n",
    "                        decoding_result[\"ch_group\"] = ch_groups[i_ch]\n",
    "                        decoding_results.append(decoding_result)\n",
    "                    except:\n",
    "                        continue\n",
    "        else:\n",
    "            if multi_channel:\n",
    "                for i_fly in range(xs.shape[1]):\n",
    "                    decoding_result = {k:method_result[k] for k in method_result.keys() if k not in [\"xs\", \"ys\", \"ch_groups\"]}\n",
    "                    scores = cross_val_score(model, xs[:, i_fly, :], ys[:, i_fly], cv=3)\n",
    "                    decoding_result[\"scores\"] = scores\n",
    "                    decoding_result[\"score_mean\"] = scores.mean()\n",
    "                    decoding_result[\"score_std\"] = scores.std()\n",
    "                    decoding_result[\"i_fly\"] = i_fly\n",
    "                    decoding_results.append(decoding_result)\n",
    "            else:\n",
    "                print(xs.shape[2])\n",
    "                for i_fly in range(xs.shape[1]):\n",
    "                    for i_ch in range(xs.shape[2]):\n",
    "                        decoding_result = {k:method_result[k] for k in method_result.keys() if k not in [\"xs\", \"ys\", \"ch_groups\"]}\n",
    "                        scores = cross_val_score(model, xs[:, i_fly, i_ch].reshape(-1, 1), ys[:, i_fly], cv=3)\n",
    "                        decoding_result[\"scores\"] = scores\n",
    "                        decoding_result[\"score_mean\"] = scores.mean()\n",
    "                        decoding_result[\"score_std\"] = scores.std()\n",
    "                        decoding_result[\"i_fly\"] = i_fly\n",
    "                        try:\n",
    "                            decoding_result[\"ch_group\"] = ch_groups[i_ch]\n",
    "                            decoding_results.append(decoding_result)\n",
    "                        except:\n",
    "                            continue\n",
    "    return decoding_results"
   ]
  },
  {
   "cell_type": "code",
   "execution_count": 100,
   "metadata": {},
   "outputs": [],
   "source": [
    "def get_decoding_results(ch_num, across_flies=True, multi_channel=True):\n",
    "    method_results, ch_groups = pool_samples(ch_num, across_flies=across_flies)\n",
    "    print(\"POOLED XS, DECODING NOW\")\n",
    "    decoding_results = conduct_cv(method_results, \n",
    "                                  ch_groups,\n",
    "                                  ch_num,\n",
    "                                  across_flies=across_flies, \n",
    "                                  multi_channel=multi_channel)\n",
    "    return decoding_results, ch_groups"
   ]
  },
  {
   "cell_type": "markdown",
   "metadata": {},
   "source": [
    "## Across-Trials, Within-Fly, Within-Channel Groups"
   ]
  },
  {
   "cell_type": "markdown",
   "metadata": {},
   "source": [
    "This will give us 1 classification score for each fly, for each channel group (for each method).\n",
    "\n",
    "Each classification set will have `n_trials * n_conds = 16` samples."
   ]
  },
  {
   "cell_type": "code",
   "execution_count": 101,
   "metadata": {
    "scrolled": true
   },
   "outputs": [
    {
     "name": "stdout",
     "output_type": "stream",
     "text": [
      "POOLED XS, DECODING NOW\n",
      "DECODING FOR 2 CH direct\n",
      "105\n",
      "DECODING FOR 2 CH logistic1\n",
      "105\n",
      "DECODING FOR 2 CH logistic2\n",
      "105\n",
      "POOLED XS, DECODING NOW\n",
      "DECODING FOR 3 CH direct\n",
      "429\n",
      "DECODING FOR 3 CH logistic1\n",
      "455\n",
      "DECODING FOR 3 CH logistic2\n",
      "455\n",
      "DECODING FOR 3 CH logistic3\n",
      "429\n",
      "CPU times: user 3min 29s, sys: 2.6 s, total: 3min 31s\n",
      "Wall time: 3min 35s\n"
     ]
    }
   ],
   "source": [
    "%%time\n",
    "all_results = []\n",
    "all_ch_groups = []\n",
    "\n",
    "for i in range(2, 4):\n",
    "    result, ch_groups = get_decoding_results(i, across_flies=False, multi_channel=False)\n",
    "    all_results.append(result)\n",
    "    all_ch_groups.append(ch_groups)"
   ]
  },
  {
   "cell_type": "code",
   "execution_count": 128,
   "metadata": {},
   "outputs": [
    {
     "name": "stdout",
     "output_type": "stream",
     "text": [
      "2.direct\n",
      "2.logistic1\n",
      "2.logistic2\n",
      "3.direct\n",
      "3.logistic1\n",
      "3.logistic2\n",
      "3.logistic3\n"
     ]
    },
    {
     "data": {
      "image/png": "[encoded data removed]",
      "text/plain": [
       "<Figure size 720x1080 with 14 Axes>"
      ]
     },
     "metadata": {
      "needs_background": "light"
     },
     "output_type": "display_data"
    }
   ],
   "source": [
    "ch_nums = [2, 3]\n",
    "\n",
    "fig, axes = plt.subplots(4, len(ch_nums), figsize=(10,15))\n",
    "\n",
    "for i_ch, ch_num in enumerate(ch_nums):\n",
    "    result_ch = all_results[i_ch]\n",
    "    methods = set([r[\"method\"] for r in result_ch])\n",
    "    ch_groups = all_ch_groups[i_ch]\n",
    "    n_methods = len(methods)\n",
    "    for i_m, method in enumerate(methods):\n",
    "        print(\"{}.{}\".format(ch_num, method))\n",
    "        fig.add_subplot(4, len(ch_nums), (i_m + 1) * (i_ch + 1), frameon=False)\n",
    "        n_ch_groups = len(ch_groups)\n",
    "        if (method == \"direct\" or method == \"logistic3\") and ch_num == 3: # incomplete results\n",
    "            n_ch_groups = 429\n",
    "        results = np.zeros((n_ch_groups, n_flies))\n",
    "        for i_f in range(n_flies):\n",
    "            ch_filtered = [r[\"score_mean\"] for r in result_ch if \\\n",
    "                           (r[\"i_fly\"] == i_f and \\\n",
    "                            r[\"method\"] == method)\n",
    "                            ]\n",
    "            results[:, i_f] = np.array(ch_filtered)\n",
    "        plt.grid(False)\n",
    "        axes[i_m, i_ch].axis(\"off\")\n",
    "        im = plt.imshow(results, aspect=\"auto\", vmin=0.5, vmax=1, cmap=\"Greys\")\n",
    "        plt.ylabel(method)\n",
    "        #plt.colorbar()\n",
    "        #if i_m == 0:\n",
    "        #    plt.yticks(np.arange(len(ch_groups)), ch_groups)\n",
    "        #else:\n",
    "        #    plt.yticks\n",
    "#fig.colorbar(im, ax=axes.ravel().tolist())"
   ]
  },
  {
   "cell_type": "markdown",
   "metadata": {},
   "source": [
    "## Across-Trials, Across-Fly, Within-Channel Groups"
   ]
  },
  {
   "cell_type": "markdown",
   "metadata": {},
   "source": [
    "This will give us 1 classification score for each channel group (for each method).\n",
    "\n",
    "Each classification set will have `n_trials * n_conds * n_flies = 208` samples. "
   ]
  },
  {
   "cell_type": "code",
   "execution_count": null,
   "metadata": {
    "scrolled": true
   },
   "outputs": [],
   "source": [
    "all_results = []\n",
    "\n",
    "for i in range(2, 4):\n",
    "    all_results += get_decoding_results(i, across_flies=True, multi_channel=False)"
   ]
  },
  {
   "cell_type": "markdown",
   "metadata": {},
   "source": [
    "## Across-Trials, Within-Fly, Across-Channel Groups"
   ]
  },
  {
   "cell_type": "markdown",
   "metadata": {},
   "source": [
    "This will give us 1 classification score for each fly (for each method).\n",
    "\n",
    "Each classification set will have `n_trials * n_conds = 16` samples. Each sample will have a multidimensional independent variable, with the number of dimensions equalling the number of channel groups."
   ]
  },
  {
   "cell_type": "code",
   "execution_count": null,
   "metadata": {
    "scrolled": true
   },
   "outputs": [],
   "source": [
    "all_results = []\n",
    "\n",
    "for i in range(2, 4):\n",
    "    all_results += get_decoding_results(i, across_flies=False, multi_channel=True)"
   ]
  },
  {
   "cell_type": "code",
   "execution_count": 62,
   "metadata": {
    "scrolled": true
   },
   "outputs": [
    {
     "data": {
      "text/plain": [
       "[{'i_fly': 0,\n",
       "  'score_mean': 0.75,\n",
       "  'score_std': 0.0680413817439772,\n",
       "  'method': 'logistic2',\n",
       "  'ch_num': 2},\n",
       " {'i_fly': 1,\n",
       "  'score_mean': 0.8611111111111112,\n",
       "  'score_std': 0.10393492741038726,\n",
       "  'method': 'logistic2',\n",
       "  'ch_num': 2},\n",
       " {'i_fly': 2,\n",
       "  'score_mean': 0.9444444444444445,\n",
       "  'score_std': 0.0785674201318386,\n",
       "  'method': 'logistic2',\n",
       "  'ch_num': 2},\n",
       " {'i_fly': 3,\n",
       "  'score_mean': 0.6944444444444445,\n",
       "  'score_std': 0.14163943093313291,\n",
       "  'method': 'logistic2',\n",
       "  'ch_num': 2}]"
      ]
     },
     "execution_count": 62,
     "metadata": {},
     "output_type": "execute_result"
    }
   ],
   "source": [
    "decoding_results[0:4]"
   ]
  },
  {
   "cell_type": "code",
   "execution_count": 63,
   "metadata": {},
   "outputs": [
    {
     "data": {
      "image/png": "[encoded data removed]",
      "text/plain": [
       "<Figure size 432x288 with 1 Axes>"
      ]
     },
     "metadata": {
      "needs_background": "light"
     },
     "output_type": "display_data"
    }
   ],
   "source": [
    "#colors = [\"red\", \"blue\", \"green\"]\n",
    "\n",
    "n_methods = len(decoding_results) // n_flies\n",
    "\n",
    "w = 0.04\n",
    "\n",
    "mid_fly = n_flies // 2\n",
    "\n",
    "for i_fly in range(n_flies):\n",
    "    r_fly = [r for r in decoding_results if r.get(\"i_fly\") == i_fly]\n",
    "    x_pos = list(map(lambda x: x + ((i_fly - mid_fly) * (w*1.5)), range(n_methods)))\n",
    "    heights = [r.get(\"score_mean\") for r in r_fly]\n",
    "    if i_fly == mid_fly:\n",
    "        tick_labels = [\"{} ch {}\".format(r.get(\"ch_num\"), r.get(\"method\")) for r in r_fly]\n",
    "    else:\n",
    "        tick_labels = None\n",
    "    plt.bar(x_pos,\n",
    "            heights,\n",
    "            width = w,\n",
    "            tick_label = tick_labels,\n",
    "            #color = [colors[r.get(\"ch_num\") - 2] for r in r_fly],\n",
    "            yerr = [r.get(\"score_std\") for r in r_fly])\n",
    "    plt.ylim((0, 1))"
   ]
  },
  {
   "cell_type": "markdown",
   "metadata": {},
   "source": [
    "## Across-Trials, Across-Flies, Across-Channel Groups"
   ]
  },
  {
   "cell_type": "markdown",
   "metadata": {},
   "source": [
    "This will give us 1 classification score (for each method).\n",
    "\n",
    "Each classification set will have `n_trials * n_conds = 208` samples. Each sample will have a multidimensional independent variable, with the number of dimensions equalling the number of channel groups."
   ]
  },
  {
   "cell_type": "code",
   "execution_count": null,
   "metadata": {
    "scrolled": true
   },
   "outputs": [],
   "source": [
    "all_results = []\n",
    "\n",
    "for i in range(2, 4):\n",
    "    all_results += get_decoding_results(i, across_flies=True, multi_channel=True)"
   ]
  },
  {
   "cell_type": "code",
   "execution_count": 12,
   "metadata": {},
   "outputs": [
    {
     "name": "stderr",
     "output_type": "stream",
     "text": [
      "/Users/wjmn/miniconda3/lib/python3.6/site-packages/sklearn/model_selection/_split.py:2053: FutureWarning: You should specify a value for 'cv' instead of relying on the default value. The default value will change from 3 to 5 in version 0.22.\n",
      "  warnings.warn(CV_WARNING, FutureWarning)\n",
      "/Users/wjmn/miniconda3/lib/python3.6/site-packages/sklearn/model_selection/_split.py:2053: FutureWarning: You should specify a value for 'cv' instead of relying on the default value. The default value will change from 3 to 5 in version 0.22.\n",
      "  warnings.warn(CV_WARNING, FutureWarning)\n",
      "/Users/wjmn/miniconda3/lib/python3.6/site-packages/sklearn/model_selection/_split.py:2053: FutureWarning: You should specify a value for 'cv' instead of relying on the default value. The default value will change from 3 to 5 in version 0.22.\n",
      "  warnings.warn(CV_WARNING, FutureWarning)\n"
     ]
    }
   ],
   "source": []
  },
  {
   "cell_type": "code",
   "execution_count": 13,
   "metadata": {},
   "outputs": [
    {
     "data": {
      "text/plain": [
       "[{'score_mean': 0.6205882352941177,\n",
       "  'score_std': 0.05499656001379745,\n",
       "  'method': 'logistic2',\n",
       "  'ch_num': 2},\n",
       " {'score_mean': 0.6253501400560224,\n",
       "  'score_std': 0.048266727347384394,\n",
       "  'method': 'direct',\n",
       "  'ch_num': 2},\n",
       " {'score_mean': 0.6394957983193277,\n",
       "  'score_std': 0.029646919084765022,\n",
       "  'method': 'logistic1',\n",
       "  'ch_num': 2}]"
      ]
     },
     "execution_count": 13,
     "metadata": {},
     "output_type": "execute_result"
    }
   ],
   "source": [
    "decoding_results"
   ]
  },
  {
   "cell_type": "code",
   "execution_count": 14,
   "metadata": {},
   "outputs": [
    {
     "data": {
      "text/plain": [
       "(0, 1)"
      ]
     },
     "execution_count": 14,
     "metadata": {},
     "output_type": "execute_result"
    },
    {
     "data": {
      "image/png": "[encoded data removed]",
      "text/plain": [
       "<Figure size 432x288 with 1 Axes>"
      ]
     },
     "metadata": {
      "needs_background": "light"
     },
     "output_type": "display_data"
    }
   ],
   "source": [
    "colors = [\"red\", \"blue\", \"green\"]\n",
    "\n",
    "plt.bar(range(len(decoding_results)),\n",
    "        [r.get(\"score_mean\") for r in decoding_results],\n",
    "        tick_label = [\"{} ch {}\".format(r.get(\"ch_num\"), r.get(\"method\")) for r in decoding_results],\n",
    "        color = [colors[r.get(\"ch_num\") - 2] for r in decoding_results],\n",
    "        yerr = [r.get(\"score_std\") for r in decoding_results])\n",
    "plt.ylim((0, 1))"
   ]
  }
 ],
 "metadata": {
  "kernelspec": {
   "display_name": "Python 3",
   "language": "python",
   "name": "python3"
  },
  "language_info": {
   "codemirror_mode": {
    "name": "ipython",
    "version": 3
   },
   "file_extension": ".py",
   "mimetype": "text/x-python",
   "name": "python",
   "nbconvert_exporter": "python",
   "pygments_lexer": "ipython3",
   "version": "3.6.8"
  }
 },
 "nbformat": 4,
 "nbformat_minor": 2
}
