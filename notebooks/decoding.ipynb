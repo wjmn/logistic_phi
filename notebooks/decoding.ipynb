{
 "cells": [
  {
   "cell_type": "markdown",
   "metadata": {
    "slideshow": {
     "slide_type": "slide"
    }
   },
   "source": [
    "# Setup"
   ]
  },
  {
   "cell_type": "code",
   "execution_count": 35,
   "metadata": {
    "slideshow": {
     "slide_type": "fragment"
    }
   },
   "outputs": [
    {
     "data": {
      "text/html": [
       "<style>\n",
       "\n",
       ".CodeMirror {\n",
       "    width: 70vw;\n",
       "}\n",
       "\n",
       ".container {\n",
       "    width: 70% !important;\n",
       "}\n",
       "\n",
       ".rendered_html {\n",
       "  font-size:1em;\n",
       "}\n",
       ".rendered_html table, .rendered_html th, .rendered_html tr, .rendered_html td {\n",
       "     font-size: 100%;\n",
       "}\n",
       "\n",
       "</style>\n"
      ],
      "text/plain": [
       "<IPython.core.display.HTML object>"
      ]
     },
     "metadata": {},
     "output_type": "display_data"
    }
   ],
   "source": [
    "%%html\n",
    "<style>\n",
    "\n",
    ".CodeMirror {\n",
    "    width: 70vw;\n",
    "}\n",
    "\n",
    ".container {\n",
    "    width: 70% !important;\n",
    "}\n",
    "\n",
    ".rendered_html {\n",
    "  font-size:1em;\n",
    "}\n",
    ".rendered_html table, .rendered_html th, .rendered_html tr, .rendered_html td {\n",
    "     font-size: 100%;\n",
    "}\n",
    "\n",
    "</style>"
   ]
  },
  {
   "cell_type": "code",
   "execution_count": 36,
   "metadata": {
    "slideshow": {
     "slide_type": "subslide"
    }
   },
   "outputs": [],
   "source": [
    "import matplotlib.pyplot as plt\n",
    "from math import floor\n",
    "\n",
    "import numpy as np\n",
    "import scipy.io as sio\n",
    "import pandas as pd"
   ]
  },
  {
   "cell_type": "code",
   "execution_count": 37,
   "metadata": {},
   "outputs": [],
   "source": [
    "import glob\n",
    "import os\n",
    "import re\n",
    "\n",
    "import itertools\n",
    "\n",
    "from sklearn.neighbors.nearest_centroid import NearestCentroid\n",
    "from sklearn.model_selection import cross_val_score\n",
    "\n",
    "import pylab\n",
    "plt.rcParams['figure.figsize'] = [15, 5]\n",
    "%matplotlib inline"
   ]
  },
  {
   "cell_type": "markdown",
   "metadata": {
    "slideshow": {
     "slide_type": "skip"
    }
   },
   "source": [
    "To allow interaction:"
   ]
  },
  {
   "cell_type": "code",
   "execution_count": 38,
   "metadata": {
    "slideshow": {
     "slide_type": "-"
    }
   },
   "outputs": [],
   "source": [
    "from __future__ import print_function\n",
    "from ipywidgets import interact, interactive, fixed, interact_manual\n",
    "import ipywidgets as widgets"
   ]
  },
  {
   "cell_type": "markdown",
   "metadata": {
    "slideshow": {
     "slide_type": "subslide"
    }
   },
   "source": [
    "A useful toggle-code cell will help make this notebook tidier."
   ]
  },
  {
   "cell_type": "code",
   "execution_count": 21,
   "metadata": {
    "slideshow": {
     "slide_type": "fragment"
    }
   },
   "outputs": [],
   "source": [
    "from IPython.display import HTML"
   ]
  },
  {
   "cell_type": "code",
   "execution_count": 22,
   "metadata": {
    "scrolled": false,
    "slideshow": {
     "slide_type": "fragment"
    }
   },
   "outputs": [
    {
     "data": {
      "text/html": [
       "<script>\n",
       "code_show=true; \n",
       "function code_toggle() {\n",
       " if (code_show){\n",
       " $('div.input').hide();\n",
       " } else {\n",
       " $('div.input').show();\n",
       " }\n",
       " code_show = !code_show\n",
       "} \n",
       "$( document ).ready(code_toggle);\n",
       "</script>\n",
       "<a href=\"javascript:code_toggle()\"><h1>Toggle Code Visibility</h1></a>."
      ],
      "text/plain": [
       "<IPython.core.display.HTML object>"
      ]
     },
     "execution_count": 22,
     "metadata": {},
     "output_type": "execute_result"
    }
   ],
   "source": [
    "HTML('''<script>\n",
    "code_show=true; \n",
    "function code_toggle() {\n",
    " if (code_show){\n",
    " $('div.input').hide();\n",
    " } else {\n",
    " $('div.input').show();\n",
    " }\n",
    " code_show = !code_show\n",
    "} \n",
    "$( document ).ready(code_toggle);\n",
    "</script>\n",
    "<a href=\"javascript:code_toggle()\"><h1>Toggle Code Visibility</h1></a>.''')"
   ]
  },
  {
   "cell_type": "markdown",
   "metadata": {
    "slideshow": {
     "slide_type": "subslide"
    }
   },
   "source": [
    "Load the processed data below to skip the preprocessing steps."
   ]
  },
  {
   "cell_type": "code",
   "execution_count": 39,
   "metadata": {
    "slideshow": {
     "slide_type": "fragment"
    }
   },
   "outputs": [],
   "source": [
    "with pd.HDFStore('../data/processed/ddata.h5') as store:\n",
    "    ddata = store['ddata']\n",
    "    \n",
    "with pd.HDFStore('../data/processed/decoding.h5') as store:\n",
    "    w_fly_w_ch = store['w_fly_w_ch']\n",
    "    a_fly_w_ch = store['a_fly_w_ch']\n",
    "    w_fly_a_ch = store['w_fly_a_ch']\n",
    "    a_fly_a_ch = store['a_fly_a_ch']"
   ]
  },
  {
   "cell_type": "markdown",
   "metadata": {
    "slideshow": {
     "slide_type": "subslide"
    }
   },
   "source": [
    "## Data"
   ]
  },
  {
   "cell_type": "code",
   "execution_count": 40,
   "metadata": {
    "slideshow": {
     "slide_type": "fragment"
    }
   },
   "outputs": [],
   "source": [
    "data_binarised_file = \"../data/processed/fly_data_binarised\"\n",
    "data_binarised = np.load(data_binarised_file + \".npy\")"
   ]
  },
  {
   "cell_type": "code",
   "execution_count": 41,
   "metadata": {
    "slideshow": {
     "slide_type": "fragment"
    }
   },
   "outputs": [
    {
     "data": {
      "text/plain": [
       "(2250, 15, 8, 13, 2)"
      ]
     },
     "execution_count": 41,
     "metadata": {},
     "output_type": "execute_result"
    }
   ],
   "source": [
    "data_binarised.shape"
   ]
  },
  {
   "cell_type": "code",
   "execution_count": 42,
   "metadata": {
    "slideshow": {
     "slide_type": "fragment"
    }
   },
   "outputs": [],
   "source": [
    "n_samples, n_channels, n_trials, n_flies, n_conds = data_binarised.shape"
   ]
  },
  {
   "cell_type": "markdown",
   "metadata": {
    "slideshow": {
     "slide_type": "subslide"
    }
   },
   "source": [
    "## Channel Sets"
   ]
  },
  {
   "cell_type": "code",
   "execution_count": 43,
   "metadata": {
    "slideshow": {
     "slide_type": "fragment"
    }
   },
   "outputs": [],
   "source": [
    "channel_sets = {}\n",
    "\n",
    "for i in range(2, 4):\n",
    "    channel_set = {}\n",
    "    combinations = itertools.combinations(range(n_channels), i)\n",
    "    for j, c in enumerate(combinations):\n",
    "        channel_set[j] = c\n",
    "    channel_sets[i] = channel_set\n",
    "\n",
    "channel_sets[4] = {i:(i, i+1, i+2, i+3) for i in range(12)}"
   ]
  },
  {
   "cell_type": "markdown",
   "metadata": {
    "slideshow": {
     "slide_type": "skip"
    }
   },
   "source": [
    "## $\\Phi$ Results DataFrame"
   ]
  },
  {
   "cell_type": "code",
   "execution_count": null,
   "metadata": {
    "scrolled": false,
    "slideshow": {
     "slide_type": "skip"
    }
   },
   "outputs": [],
   "source": [
    "%%time\n",
    "glob_str = \"../data/processed/phis/*\"\n",
    "\n",
    "files = glob.glob(glob_str)\n",
    "\n",
    "n_res_per_file = n_trials * n_flies * n_conds\n",
    "\n",
    "index = range(len(files) * n_res_per_file)\n",
    "columns = [\"method\", \"ch_num\", \"ch_set\", \"ch_group\", \"value\", \"i_cond\", \"i_fly\", \"i_trial\"]\n",
    "\n",
    "df = pd.DataFrame(index=index, columns=columns)\n",
    "\n",
    "for i, file in enumerate(files):\n",
    "    \n",
    "    if i % 200 == 0:\n",
    "        print(\"DONE {}\".format(i))\n",
    "    \n",
    "    method = re.search(r\"METHOD_(.*?)_\", file).group(1)\n",
    "    ch_num = int(re.search(r\"PHI_(\\d+)\", file).group(1))\n",
    "    ch_group = tuple(map(int, re.findall(r\"\\d+\", file.split(\"CHS_\")[1])))\n",
    "    ch_set = int(re.search(r\"CHSET_(\\d+)\", file).group(1))\n",
    "    \n",
    "    file_results = sio.loadmat(file)\n",
    "    data = file_results[\"ch_group_results\"]\n",
    "\n",
    "    n_results = data.shape[1]\n",
    "\n",
    "    for i_r in range(n_results):\n",
    "        i_trial = extract_value(data, i_r, \"i_trial\")\n",
    "        i_fly = extract_value(data, i_r, \"i_fly\")\n",
    "        i_cond = extract_value(data, i_r, \"i_cond\")\n",
    "\n",
    "        phis = extract_value(data, i_r, \"state_phis\")\n",
    "        counts = extract_value(data, i_r, \"state_counts\")\n",
    "        if ch_num == 3: # this run had a superfluous state\n",
    "            phis = phis[:-1]\n",
    "        weighted_phi = (phis * (counts / counts.sum())).sum()\n",
    "        \n",
    "        i_row = i * n_res_per_file + i_r\n",
    "        \n",
    "        df.iat[i_row, 0] = method\n",
    "        df.iat[i_row, 1] = ch_num\n",
    "        df.iat[i_row, 2] = ch_set\n",
    "        df.iat[i_row, 3] = ch_group\n",
    "        df.iat[i_row, 4] = weighted_phi\n",
    "        df.iat[i_row, 5] = i_cond        \n",
    "        df.iat[i_row, 6] = i_fly\n",
    "        df.iat[i_row, 7] = i_trial"
   ]
  },
  {
   "cell_type": "markdown",
   "metadata": {
    "slideshow": {
     "slide_type": "skip"
    }
   },
   "source": [
    "### Control Data"
   ]
  },
  {
   "cell_type": "markdown",
   "metadata": {
    "slideshow": {
     "slide_type": "skip"
    }
   },
   "source": [
    "Let's use the Pearson's correlation coefficient between every pair of 2 channels as a control measure for decoding."
   ]
  },
  {
   "cell_type": "code",
   "execution_count": 56,
   "metadata": {
    "scrolled": true,
    "slideshow": {
     "slide_type": "skip"
    }
   },
   "outputs": [
    {
     "name": "stdout",
     "output_type": "stream",
     "text": [
      "CPU times: user 9.61 s, sys: 164 ms, total: 9.77 s\n",
      "Wall time: 9.93 s\n"
     ]
    }
   ],
   "source": [
    "%%time\n",
    "cs = list(itertools.combinations(range(15), 2))\n",
    "\n",
    "index = range(len(cs) * n_trials * n_flies * n_conds)\n",
    "columns = [\"method\", \"ch_num\", \"ch_set\", \"ch_group\", \"value\", \"i_cond\", \"i_fly\", \"i_trial\"]\n",
    "\n",
    "control_data = pd.DataFrame(index=index, columns=columns)\n",
    "\n",
    "i_row = 0\n",
    "\n",
    "for i_combo, c in enumerate(cs):\n",
    "    \n",
    "    for i_trial in range(n_trials):\n",
    "        for i_fly in range(n_flies):\n",
    "            for i_cond in range(n_conds):\n",
    "                coeff = np.corrcoef(data_binarised[:, c[0], i_trial, i_fly, i_cond],\n",
    "                                    data_binarised[:, c[1], i_trial, i_fly, i_cond]\n",
    "                                   )\n",
    "                \n",
    "                control_data.iat[i_row, 0] = \"corr_coef\"\n",
    "                control_data.iat[i_row, 1] = 2\n",
    "                control_data.iat[i_row, 2] = i_combo\n",
    "                control_data.iat[i_row, 3] = tuple(c)\n",
    "                control_data.iat[i_row, 4] = coeff[0, 1]\n",
    "                control_data.iat[i_row, 5] = i_cond\n",
    "                control_data.iat[i_row, 6] = i_fly\n",
    "                control_data.iat[i_row, 7] = i_trial\n",
    "\n",
    "                i_row += 1"
   ]
  },
  {
   "cell_type": "code",
   "execution_count": 58,
   "metadata": {
    "slideshow": {
     "slide_type": "skip"
    }
   },
   "outputs": [],
   "source": [
    "ddata = df.append(control_data)"
   ]
  },
  {
   "cell_type": "markdown",
   "metadata": {
    "slideshow": {
     "slide_type": "skip"
    }
   },
   "source": [
    "### Storing Data"
   ]
  },
  {
   "cell_type": "code",
   "execution_count": null,
   "metadata": {
    "slideshow": {
     "slide_type": "skip"
    }
   },
   "outputs": [],
   "source": [
    "# SAVE\n",
    "#with pd.HDFStore('../data/processed/ddata.h5') as store:\n",
    "#    store['ddata'] = ddata"
   ]
  },
  {
   "cell_type": "code",
   "execution_count": 9,
   "metadata": {
    "slideshow": {
     "slide_type": "skip"
    }
   },
   "outputs": [],
   "source": [
    "# LOAD\n",
    "with pd.HDFStore('../data/processed/ddata.h5') as store:\n",
    "    ddata = store['ddata']"
   ]
  },
  {
   "cell_type": "markdown",
   "metadata": {
    "slideshow": {
     "slide_type": "skip"
    }
   },
   "source": [
    "## Utility Functions"
   ]
  },
  {
   "cell_type": "code",
   "execution_count": 73,
   "metadata": {
    "slideshow": {
     "slide_type": "skip"
    }
   },
   "outputs": [],
   "source": [
    "def extract_value(data, i_result, field):\n",
    "    \"\"\" Extracts a value from the ch_group_results data structure.\n",
    "    \n",
    "    Args:\n",
    "        data: The processed data structure from sio.loadmat[data_field]\n",
    "        i_result: The index of the result in the data structure.\n",
    "        field: A string, which must be one of:\n",
    "            - \"state_phis\"\n",
    "            - \"tpm\"\n",
    "            - \"state_counts\"\n",
    "            - \"i_trial\"\n",
    "            - \"i_fly\"\n",
    "            - \"i_cond\"\n",
    "            - \"channels\"\n",
    "            - \"all\"\n",
    "    \n",
    "    Returns:\n",
    "        A np.ndarray of the extracted data.\n",
    "    \n",
    "    \"\"\"\n",
    "    \n",
    "    if field == \"state_phis\" or field == \"channels\" or field == \"state_counts\":\n",
    "        return data[0, i_result][0, 0][field].flatten()\n",
    "    elif field == \"i_trial\" or field == \"i_cond\" or field == \"i_fly\":\n",
    "        return data[0, i_result][0, 0][field][0, 0]\n",
    "    elif field == \"tpm\":\n",
    "        return data[0, i_result][0, 0][field]\n",
    "    elif field == \"all\":\n",
    "        return data[0, i_result][0, 0]\n",
    "    else:\n",
    "        raise ValueError(\"Field not recognised in input data.\")"
   ]
  },
  {
   "cell_type": "markdown",
   "metadata": {
    "slideshow": {
     "slide_type": "skip"
    }
   },
   "source": [
    "# Decoding"
   ]
  },
  {
   "cell_type": "code",
   "execution_count": 47,
   "metadata": {
    "slideshow": {
     "slide_type": "subslide"
    }
   },
   "outputs": [],
   "source": [
    "ch_nums = [2, 3, 4] # list of channel group sizes\n",
    "\n",
    "methods_ch_nums = {}\n",
    "\n",
    "for ch_num in ch_nums:\n",
    "    methods = [\"direct\"]\n",
    "    if ch_num == 2:\n",
    "        methods.append(\"corr_coef\")\n",
    "    for i in range(1, ch_num+1):\n",
    "        methods.append(\"logistic{}\".format(i))\n",
    "    methods_ch_nums[ch_num] = methods"
   ]
  },
  {
   "cell_type": "markdown",
   "metadata": {
    "slideshow": {
     "slide_type": "slide"
    }
   },
   "source": [
    "## Across-Trials, Within-Fly, Within-Channel Groups"
   ]
  },
  {
   "cell_type": "markdown",
   "metadata": {
    "slideshow": {
     "slide_type": "fragment"
    }
   },
   "source": [
    "This will give us 1 classification score for each fly, for each channel group (for each method).\n",
    "\n",
    "Each classification set will have `n_trials * n_conds = 16` samples."
   ]
  },
  {
   "cell_type": "code",
   "execution_count": 44,
   "metadata": {
    "slideshow": {
     "slide_type": "fragment"
    }
   },
   "outputs": [],
   "source": [
    "def group_w_ch(d):\n",
    "    \n",
    "    xs = d[\"value\"]\n",
    "    xs_in = np.array(xs).astype(float).reshape(-1, 1)\n",
    "    ys = d[\"i_cond\"]\n",
    "    ys_in = np.array(ys).astype(int)\n",
    "    model = NearestCentroid()\n",
    "    \n",
    "    # assert(len(xs_in) == len(ys_in))\n",
    "\n",
    "    scores = cross_val_score(model, xs_in, ys_in, cv=3)\n",
    "    \n",
    "    data_dict = {\"score_mean\": scores.mean(),\n",
    "                 \"score_std\": scores.std(),\n",
    "                 \"n_samples\": len(xs_in)\n",
    "                }\n",
    "    \n",
    "    return pd.Series(data_dict)"
   ]
  },
  {
   "cell_type": "code",
   "execution_count": 165,
   "metadata": {
    "slideshow": {
     "slide_type": "skip"
    }
   },
   "outputs": [],
   "source": [
    "%%time\n",
    "#w_fly_w_ch = ddata.groupby([\"method\", \"ch_num\", \"ch_set\", \"i_fly\"]).apply(group_w_ch)"
   ]
  },
  {
   "cell_type": "code",
   "execution_count": 11,
   "metadata": {
    "slideshow": {
     "slide_type": "skip"
    }
   },
   "outputs": [],
   "source": [
    "# SAVE\n",
    "#with pd.HDFStore('../data/processed/decoding.h5') as store:\n",
    "#    store['w_fly_w_ch'] = w_fly_w_ch\n",
    "\n",
    "# LOAD\n",
    "with pd.HDFStore('../data/processed/decoding.h5') as store:\n",
    "    w_fly_w_ch = store['w_fly_w_ch']"
   ]
  },
  {
   "cell_type": "code",
   "execution_count": 45,
   "metadata": {
    "slideshow": {
     "slide_type": "fragment"
    }
   },
   "outputs": [],
   "source": [
    "def plot_w_fly_w_ch(ch_num, ch_set):\n",
    "\n",
    "    fig = plt.figure(figsize=(8, 4), dpi= 80)\n",
    "    \n",
    "    methods = methods_ch_nums[ch_num] # methods_ch_nums is global\n",
    "    n_methods = len(methods)\n",
    "    \n",
    "    w = 0.1\n",
    "    #mid_fly = n_flies // 2 # n_flies is global\n",
    "    mid_method = n_methods // 2\n",
    "    \n",
    "    for i_m, method in enumerate(methods):\n",
    "        \n",
    "        #d = w_fly_w_ch.loc[methods, ch_num, ch_set, i_fly]\n",
    "        d = w_fly_w_ch.loc[method, ch_num, ch_set]\n",
    "        \n",
    "        scores = d.score_mean.values\n",
    "        stds = d.score_std.values\n",
    "        x_pos = list(map(lambda x: x + ((i_m - mid_method) * (w*1.5)), range(n_flies)))\n",
    "        \n",
    "        \n",
    "        plt.title(\"PHI {} for Channel Group {}\".format(ch_num, \"-\".join(map(str, channel_sets[ch_num][ch_set]))))\n",
    "        plt.bar(x_pos,\n",
    "            scores,\n",
    "            width = w,\n",
    "            #tick_label = tick_labels,\n",
    "            #color = [colors[r.get(\"ch_num\") - 2] for r in r_fly],\n",
    "            #yerr = stds\n",
    "            label=method\n",
    "            )\n",
    "        plt.ylim((0, 1))   \n",
    "\n",
    "    plt.legend(loc=\"upper right\")"
   ]
  },
  {
   "cell_type": "code",
   "execution_count": 48,
   "metadata": {
    "slideshow": {
     "slide_type": "subslide"
    }
   },
   "outputs": [
    {
     "data": {
      "application/vnd.jupyter.widget-view+json": {
       "model_id": "a80fb9a2cd0f4a448fd2cfbac7362cd1",
       "version_major": 2,
       "version_minor": 0
      },
      "text/plain": [
       "interactive(children=(Select(description='ch_set', options=(0, 1, 2, 3, 4, 5, 6, 7, 8, 9, 10, 11, 12, 13, 14, …"
      ]
     },
     "metadata": {},
     "output_type": "display_data"
    },
    {
     "data": {
      "text/plain": [
       "<function __main__.plot_w_fly_w_ch(ch_num, ch_set)>"
      ]
     },
     "execution_count": 48,
     "metadata": {},
     "output_type": "execute_result"
    }
   ],
   "source": [
    "n_test = 2\n",
    "\n",
    "interact(plot_w_fly_w_ch, \n",
    "         ch_num=fixed(n_test),\n",
    "         ch_set=widgets.Select(options=channel_sets[n_test].keys(), value=0)\n",
    "        )"
   ]
  },
  {
   "cell_type": "code",
   "execution_count": 49,
   "metadata": {
    "slideshow": {
     "slide_type": "subslide"
    }
   },
   "outputs": [
    {
     "data": {
      "application/vnd.jupyter.widget-view+json": {
       "model_id": "9244272a8b4f474a853a1d7bbe64dc80",
       "version_major": 2,
       "version_minor": 0
      },
      "text/plain": [
       "interactive(children=(Select(description='ch_set', options=(0, 1, 2, 3, 4, 5, 6, 7, 8, 9, 10, 11, 12, 13, 14, …"
      ]
     },
     "metadata": {},
     "output_type": "display_data"
    },
    {
     "data": {
      "text/plain": [
       "<function __main__.plot_w_fly_w_ch(ch_num, ch_set)>"
      ]
     },
     "execution_count": 49,
     "metadata": {},
     "output_type": "execute_result"
    }
   ],
   "source": [
    "n_test = 3\n",
    "interact(plot_w_fly_w_ch, \n",
    "         ch_num=fixed(n_test),\n",
    "         ch_set=widgets.Select(options=channel_sets[n_test].keys(), value=0)\n",
    "        )"
   ]
  },
  {
   "cell_type": "code",
   "execution_count": 47,
   "metadata": {
    "slideshow": {
     "slide_type": "subslide"
    }
   },
   "outputs": [
    {
     "data": {
      "application/vnd.jupyter.widget-view+json": {
       "model_id": "b7affbd22a6b4e0f8e9c00ea9dab4671",
       "version_major": 2,
       "version_minor": 0
      },
      "text/plain": [
       "interactive(children=(Select(description='ch_set', options=(0, 1, 2, 3, 4, 5, 6, 7, 8, 9, 10, 11), value=0), O…"
      ]
     },
     "metadata": {},
     "output_type": "display_data"
    },
    {
     "data": {
      "text/plain": [
       "<function __main__.plot_w_fly_w_ch(ch_num, ch_set)>"
      ]
     },
     "execution_count": 47,
     "metadata": {},
     "output_type": "execute_result"
    },
    {
     "data": {
      "text/plain": [
       "<Figure size 640x320 with 0 Axes>"
      ]
     },
     "metadata": {},
     "output_type": "display_data"
    },
    {
     "data": {
      "text/plain": [
       "<Figure size 640x320 with 0 Axes>"
      ]
     },
     "metadata": {},
     "output_type": "display_data"
    },
    {
     "data": {
      "text/plain": [
       "<Figure size 640x320 with 0 Axes>"
      ]
     },
     "metadata": {},
     "output_type": "display_data"
    },
    {
     "data": {
      "text/plain": [
       "<Figure size 640x320 with 0 Axes>"
      ]
     },
     "metadata": {},
     "output_type": "display_data"
    },
    {
     "data": {
      "text/plain": [
       "<Figure size 640x320 with 0 Axes>"
      ]
     },
     "metadata": {},
     "output_type": "display_data"
    }
   ],
   "source": [
    "n_test = 4\n",
    "\n",
    "interact(plot_w_fly_w_ch, \n",
    "         ch_num=fixed(n_test),\n",
    "         ch_set=widgets.Select(options=channel_sets[n_test].keys(), value=0)\n",
    "        )"
   ]
  },
  {
   "cell_type": "markdown",
   "metadata": {},
   "source": [
    "## Across-Trials, Across-Fly, Within-Channel Groups"
   ]
  },
  {
   "cell_type": "markdown",
   "metadata": {},
   "source": [
    "This will give us 1 classification score for each channel group (for each method).\n",
    "\n",
    "Each classification set will have `n_trials * n_conds * n_flies = 208` samples. "
   ]
  },
  {
   "cell_type": "code",
   "execution_count": 49,
   "metadata": {},
   "outputs": [
    {
     "name": "stdout",
     "output_type": "stream",
     "text": [
      "CPU times: user 13.1 s, sys: 237 ms, total: 13.4 s\n",
      "Wall time: 13.3 s\n"
     ]
    }
   ],
   "source": [
    "%%time\n",
    "a_fly_w_ch = ddata.groupby([\"method\", \"ch_num\", \"ch_set\"]).apply(group_w_ch)"
   ]
  },
  {
   "cell_type": "code",
   "execution_count": 51,
   "metadata": {},
   "outputs": [],
   "source": [
    "# SAVE\n",
    "#with pd.HDFStore('../data/processed/decoding.h5') as store:\n",
    "#    store['a_fly_w_ch'] = a_fly_w_ch\n",
    "\n",
    "# LOAD\n",
    "with pd.HDFStore('../data/processed/decoding.h5') as store:\n",
    "    a_fly_w_ch = store['a_fly_w_ch']"
   ]
  },
  {
   "cell_type": "code",
   "execution_count": 78,
   "metadata": {},
   "outputs": [],
   "source": [
    "def plot_a_fly_w_ch(ch_num):\n",
    "\n",
    "    methods = methods_ch_nums[ch_num] # methods_ch_nums is global\n",
    "    n_methods = len(methods)\n",
    "    \n",
    "    fig, ax = plt.subplots(n_methods, 1, figsize=(8, 8), dpi= 80)\n",
    "    \n",
    "    #w = 0.1\n",
    "    #mid_fly = n_flies // 2 # n_flies is global\n",
    "    mid_method = n_methods // 2\n",
    "    \n",
    "    for i_m, method in enumerate(methods):\n",
    "        \n",
    "        d = a_fly_w_ch.loc[method, ch_num]\n",
    "        \n",
    "        scores = d.score_mean.values\n",
    "        stds = d.score_std.values\n",
    "        x_pos = range(len(scores))\n",
    "        \n",
    "        ax[i_m].bar(x_pos,\n",
    "                    scores,\n",
    "                    #width = w,\n",
    "                    #tick_label = tick_labels,\n",
    "                    #yerr = stds,\n",
    "                    label=method\n",
    "                    )\n",
    "        ax[i_m].set_ylim((.5, 1))   \n",
    "        ax[i_m].set_title(\"PHI {} ch {}\".format(ch_num, method))\n",
    "\n",
    "\n",
    "    #plt.legend(loc=\"upper right\")\n",
    "    fig.tight_layout()"
   ]
  },
  {
   "cell_type": "code",
   "execution_count": 79,
   "metadata": {
    "scrolled": true
   },
   "outputs": [
    {
     "data": {
      "image/png": "[encoded data removed]",
      "text/plain": [
       "<Figure size 640x640 with 4 Axes>"
      ]
     },
     "metadata": {
      "needs_background": "light"
     },
     "output_type": "display_data"
    },
    {
     "data": {
      "image/png": "[encoded data removed]",
      "text/plain": [
       "<Figure size 640x640 with 4 Axes>"
      ]
     },
     "metadata": {
      "needs_background": "light"
     },
     "output_type": "display_data"
    },
    {
     "data": {
      "image/png": "[encoded data removed]",
      "text/plain": [
       "<Figure size 640x640 with 5 Axes>"
      ]
     },
     "metadata": {
      "needs_background": "light"
     },
     "output_type": "display_data"
    }
   ],
   "source": [
    "plot_a_fly_w_ch(2)"
   ]
  },
  {
   "cell_type": "code",
   "execution_count": 187,
   "metadata": {},
   "outputs": [
    {
     "data": {
      "image/png": "[encoded data removed]",
      "text/plain": [
       "<Figure size 640x640 with 4 Axes>"
      ]
     },
     "metadata": {
      "needs_background": "light"
     },
     "output_type": "display_data"
    }
   ],
   "source": [
    "plot_a_fly_w_ch(3)"
   ]
  },
  {
   "cell_type": "code",
   "execution_count": 188,
   "metadata": {},
   "outputs": [
    {
     "data": {
      "image/png": "[encoded data removed]",
      "text/plain": [
       "<Figure size 640x640 with 5 Axes>"
      ]
     },
     "metadata": {
      "needs_background": "light"
     },
     "output_type": "display_data"
    }
   ],
   "source": [
    "plot_a_fly_w_ch(4)"
   ]
  },
  {
   "cell_type": "markdown",
   "metadata": {},
   "source": [
    "## Across-Trials, Within-Fly, Across-Channel Groups"
   ]
  },
  {
   "cell_type": "markdown",
   "metadata": {},
   "source": [
    "This will give us 1 classification score for each fly (for each method).\n",
    "\n",
    "Each classification set will have `n_trials * n_conds = 16` samples. Each sample will have a multidimensional independent variable, with the number of dimensions equalling the number of channel groups."
   ]
  },
  {
   "cell_type": "code",
   "execution_count": 154,
   "metadata": {},
   "outputs": [],
   "source": [
    "def group_a_ch(d):\n",
    "    \n",
    "    grouped = d.groupby(\"ch_set\")\n",
    "    ch_groups = set(d[\"ch_set\"])\n",
    "    \n",
    "    applied = grouped.apply(lambda x: x.value)\n",
    "    \n",
    "    xs = np.stack([applied.loc[i] for i in ch_groups], axis=1).astype(float)\n",
    "    ys = grouped.apply(lambda x: x.i_cond).loc[0].astype(int) # should be same for all\n",
    "    \n",
    "    model = NearestCentroid()\n",
    "\n",
    "    scores = cross_val_score(model, xs, ys, cv=3)\n",
    "    \n",
    "    data_dict = {\"score_mean\": scores.mean(),\n",
    "                 \"score_std\": scores.std(),\n",
    "                 \"n_samples\": xs.shape[0]\n",
    "                }\n",
    "    \n",
    "    return pd.Series(data_dict)"
   ]
  },
  {
   "cell_type": "code",
   "execution_count": 156,
   "metadata": {},
   "outputs": [
    {
     "name": "stdout",
     "output_type": "stream",
     "text": [
      "CPU times: user 45.1 s, sys: 596 ms, total: 45.7 s\n",
      "Wall time: 45.9 s\n"
     ]
    }
   ],
   "source": [
    "%%time\n",
    "w_fly_a_ch = ddata.groupby([\"method\", \"ch_num\", \"i_fly\"]).apply(group_a_ch)"
   ]
  },
  {
   "cell_type": "code",
   "execution_count": 158,
   "metadata": {},
   "outputs": [],
   "source": [
    "# SAVE\n",
    "#with pd.HDFStore('../data/processed/decoding.h5') as store:\n",
    "#    store['w_fly_a_ch'] = w_fly_a_ch\n",
    "\n",
    "# LOAD\n",
    "with pd.HDFStore('../data/processed/decoding.h5') as store:\n",
    "    w_fly_a_ch = store['w_fly_a_ch']"
   ]
  },
  {
   "cell_type": "code",
   "execution_count": 185,
   "metadata": {},
   "outputs": [],
   "source": [
    "def plot_w_fly_a_ch():\n",
    "\n",
    "    fig = plt.figure(figsize=(12, 4), dpi= 80)\n",
    "    \n",
    "    w = 0.045\n",
    "    #mid_fly = n_flies // 2 # n_flies is global\n",
    "    \n",
    "    i_m = 0\n",
    "    \n",
    "    mid_method = 13 // 2 # total number of methods is 13\n",
    "    \n",
    "    for ch_num in ch_nums:\n",
    "        \n",
    "        methods = methods_ch_nums[ch_num] # methods_ch_nums is global\n",
    "        n_methods = len(methods)\n",
    "    \n",
    "        for i_method, method in enumerate(methods):\n",
    "\n",
    "            d = w_fly_a_ch.loc[method, ch_num]\n",
    "\n",
    "            scores = d.score_mean.values\n",
    "            stds = d.score_std.values\n",
    "            x_pos = list(map(lambda x: x + ((i_m - mid_method) * (w*1.5)), range(n_flies)))\n",
    "\n",
    "\n",
    "            #if i_fly == mid_fly:\n",
    "            #    tick_labels = [\"{} ch {}\".format(ch_num, method) for method in methods]\n",
    "            #else:\n",
    "            #    tick_labels = None\n",
    "\n",
    "            plt.title(\"Decoding by Method by Fly\")\n",
    "            plt.bar(x_pos,\n",
    "                scores,\n",
    "                width = w,\n",
    "                #tick_label = tick_labels,\n",
    "                #color = [colors[r.get(\"ch_num\") - 2] for r in r_fly],\n",
    "                #yerr = stds,\n",
    "                label=\"{}ch-{}\".format(ch_num, method)\n",
    "                )\n",
    "            plt.ylim((0, 1)) \n",
    "            \n",
    "            i_m += 1\n",
    "\n",
    "        plt.legend(loc='center left', bbox_to_anchor=(1, 0.5))"
   ]
  },
  {
   "cell_type": "code",
   "execution_count": 186,
   "metadata": {},
   "outputs": [
    {
     "data": {
      "image/png": "[encoded data removed]",
      "text/plain": [
       "<Figure size 960x320 with 1 Axes>"
      ]
     },
     "metadata": {
      "needs_background": "light"
     },
     "output_type": "display_data"
    }
   ],
   "source": [
    "plot_w_fly_a_ch()"
   ]
  },
  {
   "cell_type": "markdown",
   "metadata": {},
   "source": [
    "## Across-Trials, Across-Flies, Across-Channel Groups"
   ]
  },
  {
   "cell_type": "markdown",
   "metadata": {},
   "source": [
    "This will give us 1 classification score (for each method).\n",
    "\n",
    "Each classification set will have `n_trials * n_conds = 208` samples. Each sample will have a multidimensional independent variable, with the number of dimensions equalling the number of channel groups."
   ]
  },
  {
   "cell_type": "code",
   "execution_count": 155,
   "metadata": {
    "scrolled": true
   },
   "outputs": [
    {
     "name": "stdout",
     "output_type": "stream",
     "text": [
      "CPU times: user 5.99 s, sys: 172 ms, total: 6.16 s\n",
      "Wall time: 4.38 s\n"
     ]
    }
   ],
   "source": [
    "%%time\n",
    "a_fly_a_ch = ddata.groupby([\"method\", \"ch_num\"]).apply(group_a_ch)"
   ]
  },
  {
   "cell_type": "code",
   "execution_count": 159,
   "metadata": {},
   "outputs": [],
   "source": [
    "# SAVE\n",
    "#with pd.HDFStore('../data/processed/decoding.h5') as store:\n",
    "#    store['a_fly_a_ch'] = a_fly_a_ch\n",
    "\n",
    "# LOAD\n",
    "with pd.HDFStore('../data/processed/decoding.h5') as store:\n",
    "    a_fly_a_ch = store['a_fly_a_ch']"
   ]
  },
  {
   "cell_type": "code",
   "execution_count": 233,
   "metadata": {},
   "outputs": [],
   "source": [
    "def plot_a_fly_a_ch():\n",
    "\n",
    "    fig = plt.figure(figsize=(12, 4), dpi= 80)\n",
    "    \n",
    "    #w = 0.045\n",
    "    #mid_fly = n_flies // 2 # n_flies is global\n",
    "    \n",
    "    i_m = 0\n",
    "        \n",
    "    score_list = []\n",
    "    std_list = []\n",
    "    tick_labels = []\n",
    "    colours = []\n",
    "    \n",
    "    cmap=pylab.get_cmap(\"Set1\")\n",
    "    \n",
    "    for ch_num in ch_nums:\n",
    "        \n",
    "        methods = methods_ch_nums[ch_num] # methods_ch_nums is global\n",
    "        n_methods = len(methods)\n",
    "    \n",
    "        for i_method, method in enumerate(methods):\n",
    "\n",
    "            d = a_fly_a_ch.loc[method, ch_num]\n",
    "\n",
    "            scores = d.score_mean\n",
    "            stds = d.score_std\n",
    "            \n",
    "            if \"corr_coef\" in method:\n",
    "                colours.append(cmap(0))\n",
    "            else:\n",
    "                colours.append(cmap(ch_num))\n",
    "            score_list.append(scores)\n",
    "            std_list.append(stds)\n",
    "            tick_labels.append(\"{}ch-{}\".format(ch_num, method))\n",
    "            \n",
    "    plt.title(\"Decoding by Method\")\n",
    "    order = [1, -0.3] + list(range(2, 13)) # ensure corr_coef is first\n",
    "    plt.bar(order,\n",
    "        score_list,\n",
    "        color=colours,\n",
    "        yerr = std_list,\n",
    "        )\n",
    "    plt.xticks(order, tick_labels, rotation=\"vertical\")\n",
    "    plt.ylim((0.5, 1)) \n"
   ]
  },
  {
   "cell_type": "code",
   "execution_count": 234,
   "metadata": {
    "scrolled": false
   },
   "outputs": [
    {
     "data": {
      "image/png": "[encoded data removed]",
      "text/plain": [
       "<Figure size 960x320 with 1 Axes>"
      ]
     },
     "metadata": {
      "needs_background": "light"
     },
     "output_type": "display_data"
    }
   ],
   "source": [
    "plot_a_fly_a_ch()"
   ]
  }
 ],
 "metadata": {
  "celltoolbar": "Slideshow",
  "kernelspec": {
   "display_name": "Python 3",
   "language": "python",
   "name": "python3"
  },
  "language_info": {
   "codemirror_mode": {
    "name": "ipython",
    "version": 3
   },
   "file_extension": ".py",
   "mimetype": "text/x-python",
   "name": "python",
   "nbconvert_exporter": "python",
   "pygments_lexer": "ipython3",
   "version": "3.6.8"
  }
 },
 "nbformat": 4,
 "nbformat_minor": 2
}
