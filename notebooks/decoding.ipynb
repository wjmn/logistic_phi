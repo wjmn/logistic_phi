{
 "cells": [
  {
   "cell_type": "markdown",
   "metadata": {
    "slideshow": {
     "slide_type": "slide"
    }
   },
   "source": [
    "# Setup"
   ]
  },
  {
   "cell_type": "code",
   "execution_count": 1,
   "metadata": {
    "slideshow": {
     "slide_type": "-"
    }
   },
   "outputs": [],
   "source": [
    "import matplotlib.pyplot as plt\n",
    "from math import floor\n",
    "\n",
    "import numpy as np\n",
    "import scipy.io as sio\n",
    "import scipy.stats as st\n",
    "import pandas as pd"
   ]
  },
  {
   "cell_type": "code",
   "execution_count": 2,
   "metadata": {
    "slideshow": {
     "slide_type": "-"
    }
   },
   "outputs": [],
   "source": [
    "import glob\n",
    "import os\n",
    "import re\n",
    "\n",
    "import itertools\n",
    "\n",
    "from sklearn.neighbors.nearest_centroid import NearestCentroid\n",
    "from sklearn.model_selection import cross_val_score\n",
    "from sklearn.model_selection import LeaveOneOut\n",
    "\n",
    "import pylab\n",
    "plt.rcParams['figure.figsize'] = [15, 5]\n",
    "%matplotlib inline"
   ]
  },
  {
   "cell_type": "markdown",
   "metadata": {
    "slideshow": {
     "slide_type": "subslide"
    }
   },
   "source": [
    "To allow interaction:"
   ]
  },
  {
   "cell_type": "code",
   "execution_count": 3,
   "metadata": {
    "slideshow": {
     "slide_type": "-"
    }
   },
   "outputs": [],
   "source": [
    "from __future__ import print_function\n",
    "from ipywidgets import interact, interactive, fixed, interact_manual\n",
    "import ipywidgets as widgets"
   ]
  },
  {
   "cell_type": "markdown",
   "metadata": {
    "slideshow": {
     "slide_type": "slide"
    }
   },
   "source": [
    "Load the processed data below to skip the preprocessing steps."
   ]
  },
  {
   "cell_type": "code",
   "execution_count": 5,
   "metadata": {
    "slideshow": {
     "slide_type": "-"
    }
   },
   "outputs": [],
   "source": [
    "with pd.HDFStore('../data/processed/ddata.h5') as store:\n",
    "    ddata = store['ddata']\n",
    "    \n",
    "with pd.HDFStore('../data/processed/decoding.h5') as store:\n",
    "    w_fly_w_ch = store['w_fly_w_ch']\n",
    "    a_fly_w_ch = store['a_fly_w_ch']\n",
    "    w_fly_a_ch = store['w_fly_a_ch']\n",
    "    a_fly_a_ch = store['a_fly_a_ch']"
   ]
  },
  {
   "cell_type": "markdown",
   "metadata": {
    "slideshow": {
     "slide_type": "slide"
    }
   },
   "source": [
    "A useful toggle-code cell will help make this notebook tidier."
   ]
  },
  {
   "cell_type": "code",
   "execution_count": 4,
   "metadata": {
    "slideshow": {
     "slide_type": "-"
    }
   },
   "outputs": [],
   "source": [
    "from IPython.display import HTML"
   ]
  },
  {
   "cell_type": "code",
   "execution_count": 22,
   "metadata": {
    "scrolled": false,
    "slideshow": {
     "slide_type": "-"
    }
   },
   "outputs": [
    {
     "data": {
      "text/html": [
       "<script>\n",
       "code_show=true; \n",
       "function code_toggle() {\n",
       " if (code_show){\n",
       " $('div.input').hide();\n",
       " } else {\n",
       " $('div.input').show();\n",
       " }\n",
       " code_show = !code_show\n",
       "} \n",
       "$( document ).ready(code_toggle);\n",
       "</script>\n",
       "<a href=\"javascript:code_toggle()\"><h1>Toggle Code Visibility</h1></a>."
      ],
      "text/plain": [
       "<IPython.core.display.HTML object>"
      ]
     },
     "execution_count": 22,
     "metadata": {},
     "output_type": "execute_result"
    }
   ],
   "source": [
    "HTML('''<script>\n",
    "code_show=true; \n",
    "function code_toggle() {\n",
    " if (code_show){\n",
    " $('div.input').hide();\n",
    " } else {\n",
    " $('div.input').show();\n",
    " }\n",
    " code_show = !code_show\n",
    "} \n",
    "$( document ).ready(code_toggle);\n",
    "</script>\n",
    "<a href=\"javascript:code_toggle()\"><h1>Toggle Code Visibility</h1></a>.''')"
   ]
  },
  {
   "cell_type": "markdown",
   "metadata": {
    "slideshow": {
     "slide_type": "slide"
    }
   },
   "source": [
    "## Data"
   ]
  },
  {
   "cell_type": "markdown",
   "metadata": {
    "slideshow": {
     "slide_type": "-"
    }
   },
   "source": [
    "We'll load the data and check it's shape."
   ]
  },
  {
   "cell_type": "code",
   "execution_count": 6,
   "metadata": {
    "slideshow": {
     "slide_type": "-"
    }
   },
   "outputs": [],
   "source": [
    "data_binarised_file = \"../data/processed/fly_data_binarised\"\n",
    "data_binarised = np.load(data_binarised_file + \".npy\")"
   ]
  },
  {
   "cell_type": "code",
   "execution_count": 7,
   "metadata": {
    "slideshow": {
     "slide_type": "-"
    }
   },
   "outputs": [
    {
     "data": {
      "text/plain": [
       "(2250, 15, 8, 13, 2)"
      ]
     },
     "execution_count": 7,
     "metadata": {},
     "output_type": "execute_result"
    }
   ],
   "source": [
    "data_binarised.shape"
   ]
  },
  {
   "cell_type": "code",
   "execution_count": 8,
   "metadata": {
    "slideshow": {
     "slide_type": "-"
    }
   },
   "outputs": [],
   "source": [
    "n_samples, n_channels, n_trials, n_flies, n_conds = data_binarised.shape"
   ]
  },
  {
   "cell_type": "markdown",
   "metadata": {
    "slideshow": {
     "slide_type": "slide"
    }
   },
   "source": [
    "## Channel Sets"
   ]
  },
  {
   "cell_type": "code",
   "execution_count": 9,
   "metadata": {
    "slideshow": {
     "slide_type": "-"
    }
   },
   "outputs": [],
   "source": [
    "channel_sets = {}\n",
    "\n",
    "for i in range(2, 4):\n",
    "    channel_set = {}\n",
    "    combinations = itertools.combinations(range(n_channels), i)\n",
    "    for j, c in enumerate(combinations):\n",
    "        channel_set[j] = c\n",
    "    channel_sets[i] = channel_set\n",
    "\n",
    "channel_sets[4] = {i:(i, i+1, i+2, i+3) for i in range(12)}"
   ]
  },
  {
   "cell_type": "markdown",
   "metadata": {
    "slideshow": {
     "slide_type": "skip"
    }
   },
   "source": [
    "## Utility Functions"
   ]
  },
  {
   "cell_type": "code",
   "execution_count": 10,
   "metadata": {
    "slideshow": {
     "slide_type": "skip"
    }
   },
   "outputs": [],
   "source": [
    "def extract_value(data, i_result, field):\n",
    "    \"\"\" Extracts a value from the ch_group_results data structure.\n",
    "    \n",
    "    Args:\n",
    "        data: The processed data structure from sio.loadmat[data_field]\n",
    "        i_result: The index of the result in the data structure.\n",
    "        field: A string, which must be one of:\n",
    "            - \"state_phis\"\n",
    "            - \"tpm\"\n",
    "            - \"state_counts\"\n",
    "            - \"i_trial\"\n",
    "            - \"i_fly\"\n",
    "            - \"i_cond\"\n",
    "            - \"channels\"\n",
    "            - \"all\"\n",
    "    \n",
    "    Returns:\n",
    "        A np.ndarray of the extracted data.\n",
    "    \n",
    "    \"\"\"\n",
    "    \n",
    "    if field == \"state_phis\" or field == \"channels\" or field == \"state_counts\":\n",
    "        return data[0, i_result][0, 0][field].flatten()\n",
    "    elif field == \"i_trial\" or field == \"i_cond\" or field == \"i_fly\":\n",
    "        return data[0, i_result][0, 0][field][0, 0]\n",
    "    elif field == \"tpm\":\n",
    "        return data[0, i_result][0, 0][field]\n",
    "    elif field == \"all\":\n",
    "        return data[0, i_result][0, 0]\n",
    "    else:\n",
    "        raise ValueError(\"Field not recognised in input data.\")"
   ]
  },
  {
   "cell_type": "markdown",
   "metadata": {
    "slideshow": {
     "slide_type": "skip"
    }
   },
   "source": [
    "## $\\Phi$ Results DataFrame"
   ]
  },
  {
   "cell_type": "code",
   "execution_count": 11,
   "metadata": {
    "scrolled": false,
    "slideshow": {
     "slide_type": "skip"
    }
   },
   "outputs": [],
   "source": [
    "# %%time\n",
    "# glob_str = \"../data/processed/phis/*\"\n",
    "\n",
    "# files = glob.glob(glob_str)\n",
    "\n",
    "# n_res_per_file = n_trials * n_flies * n_conds\n",
    "\n",
    "# index = range(len(files) * n_res_per_file)\n",
    "# columns = [\"method\", \"ch_num\", \"ch_set\", \"ch_group\", \"value\", \"i_cond\", \"i_fly\", \"i_trial\"]\n",
    "\n",
    "# df = pd.DataFrame(index=index, columns=columns)\n",
    "\n",
    "# for i, file in enumerate(files):\n",
    "    \n",
    "#     if i % 200 == 0:\n",
    "#         print(\"DONE {}\".format(i))\n",
    "    \n",
    "#     method = re.search(r\"METHOD_(.*?)_\", file).group(1)\n",
    "#     ch_num = int(re.search(r\"PHI_(\\d+)\", file).group(1))\n",
    "#     ch_group = tuple(map(int, re.findall(r\"\\d+\", file.split(\"CHS_\")[1])))\n",
    "#     ch_set = int(re.search(r\"CHSET_(\\d+)\", file).group(1))\n",
    "    \n",
    "#     file_results = sio.loadmat(file)\n",
    "#     data = file_results[\"ch_group_results\"]\n",
    "\n",
    "#     n_results = data.shape[1]\n",
    "\n",
    "#     for i_r in range(n_results):\n",
    "#         i_trial = extract_value(data, i_r, \"i_trial\")\n",
    "#         i_fly = extract_value(data, i_r, \"i_fly\")\n",
    "#         i_cond = extract_value(data, i_r, \"i_cond\")\n",
    "\n",
    "#         phis = extract_value(data, i_r, \"state_phis\")\n",
    "#         counts = extract_value(data, i_r, \"state_counts\")\n",
    "#         if ch_num == 3: # this run had a superfluous state\n",
    "#             phis = phis[:-1]\n",
    "#         weighted_phi = (phis * (counts / counts.sum())).sum()\n",
    "        \n",
    "#         i_row = i * n_res_per_file + i_r\n",
    "        \n",
    "#         df.iat[i_row, 0] = method\n",
    "#         df.iat[i_row, 1] = ch_num\n",
    "#         df.iat[i_row, 2] = ch_set\n",
    "#         df.iat[i_row, 3] = ch_group\n",
    "#         df.iat[i_row, 4] = weighted_phi\n",
    "#         df.iat[i_row, 5] = i_cond        \n",
    "#         df.iat[i_row, 6] = i_fly\n",
    "#         df.iat[i_row, 7] = i_trial"
   ]
  },
  {
   "cell_type": "markdown",
   "metadata": {
    "slideshow": {
     "slide_type": "skip"
    }
   },
   "source": [
    "### Control Data"
   ]
  },
  {
   "cell_type": "markdown",
   "metadata": {
    "slideshow": {
     "slide_type": "skip"
    }
   },
   "source": [
    "Let's use the Pearson's correlation coefficient between every pair of 2 channels as a control measure for decoding."
   ]
  },
  {
   "cell_type": "code",
   "execution_count": 12,
   "metadata": {
    "scrolled": true,
    "slideshow": {
     "slide_type": "skip"
    }
   },
   "outputs": [],
   "source": [
    "# %%time\n",
    "# cs = list(itertools.combinations(range(15), 2))\n",
    "\n",
    "# index = range(len(cs) * n_trials * n_flies * n_conds)\n",
    "# columns = [\"method\", \"ch_num\", \"ch_set\", \"ch_group\", \"value\", \"i_cond\", \"i_fly\", \"i_trial\"]\n",
    "\n",
    "# control_data = pd.DataFrame(index=index, columns=columns)\n",
    "\n",
    "# i_row = 0\n",
    "\n",
    "# for i_combo, c in enumerate(cs):\n",
    "    \n",
    "#     for i_trial in range(n_trials):\n",
    "#         for i_fly in range(n_flies):\n",
    "#             for i_cond in range(n_conds):\n",
    "#                 coeff = np.corrcoef(data_binarised[:, c[0], i_trial, i_fly, i_cond],\n",
    "#                                     data_binarised[:, c[1], i_trial, i_fly, i_cond]\n",
    "#                                    )\n",
    "                \n",
    "#                 control_data.iat[i_row, 0] = \"corr_coef\"\n",
    "#                 control_data.iat[i_row, 1] = 2\n",
    "#                 control_data.iat[i_row, 2] = i_combo\n",
    "#                 control_data.iat[i_row, 3] = tuple(c)\n",
    "#                 control_data.iat[i_row, 4] = coeff[0, 1]\n",
    "#                 control_data.iat[i_row, 5] = i_cond\n",
    "#                 control_data.iat[i_row, 6] = i_fly\n",
    "#                 control_data.iat[i_row, 7] = i_trial\n",
    "\n",
    "#                 i_row += 1"
   ]
  },
  {
   "cell_type": "code",
   "execution_count": 13,
   "metadata": {
    "slideshow": {
     "slide_type": "skip"
    }
   },
   "outputs": [],
   "source": [
    "# ddata = df.append(control_data)"
   ]
  },
  {
   "cell_type": "markdown",
   "metadata": {
    "slideshow": {
     "slide_type": "skip"
    }
   },
   "source": [
    "### Storing Data"
   ]
  },
  {
   "cell_type": "code",
   "execution_count": 14,
   "metadata": {
    "slideshow": {
     "slide_type": "skip"
    }
   },
   "outputs": [],
   "source": [
    "# SAVE\n",
    "#with pd.HDFStore('../data/processed/ddata.h5') as store:\n",
    "#    store['ddata'] = ddata"
   ]
  },
  {
   "cell_type": "markdown",
   "metadata": {
    "slideshow": {
     "slide_type": "skip"
    }
   },
   "source": [
    "# Decoding"
   ]
  },
  {
   "cell_type": "code",
   "execution_count": 11,
   "metadata": {
    "slideshow": {
     "slide_type": "subslide"
    }
   },
   "outputs": [],
   "source": [
    "ch_nums = [2, 3, 4] # list of channel group sizes\n",
    "\n",
    "methods_ch_nums = {}\n",
    "\n",
    "for ch_num in ch_nums:\n",
    "    methods = [\"direct\"]\n",
    "    if ch_num == 2:\n",
    "        methods.append(\"corr_coef\")\n",
    "    for i in range(1, ch_num+1):\n",
    "        methods.append(\"logistic{}\".format(i))\n",
    "    methods_ch_nums[ch_num] = methods"
   ]
  },
  {
   "cell_type": "markdown",
   "metadata": {
    "slideshow": {
     "slide_type": "slide"
    }
   },
   "source": [
    "## Across-Trials, Within-Fly, Within-Channel Groups"
   ]
  },
  {
   "cell_type": "markdown",
   "metadata": {
    "slideshow": {
     "slide_type": "fragment"
    }
   },
   "source": [
    "This will give us 1 classification score for each fly, for each channel group (for each method).\n",
    "\n",
    "Each classification set will have `n_trials * n_conds = 16` samples."
   ]
  },
  {
   "cell_type": "code",
   "execution_count": 15,
   "metadata": {
    "slideshow": {
     "slide_type": "skip"
    }
   },
   "outputs": [],
   "source": [
    "# def group_w_ch(d, folds):\n",
    "    \n",
    "#     # Folds is the number of folds for K-folds cross validation.\n",
    "#     # If folds == 0, then use Leave-One-Out (i.e. K = n_samples)\n",
    "    \n",
    "#     xs = d[\"value\"]\n",
    "#     xs_in = np.array(xs).astype(float).reshape(-1, 1)\n",
    "#     ys = d[\"i_cond\"]\n",
    "#     ys_in = np.array(ys).astype(int)\n",
    "#     model = NearestCentroid()\n",
    "    \n",
    "#     # assert(len(xs_in) == len(ys_in))\n",
    "    \n",
    "#     if folds == 0:\n",
    "#         folds = LeaveOneOut()\n",
    "\n",
    "#     scores = cross_val_score(model, xs_in, ys_in, cv=folds) # cv = n_samples is equivalent to leave one out.\n",
    "    \n",
    "#     data_dict = {\"score_mean\": scores.mean(),\n",
    "#                  \"score_std\": scores.std(),\n",
    "#                  \"n_samples\": xs_in.shape[0]\n",
    "#                 }\n",
    "    \n",
    "#     return pd.Series(data_dict)"
   ]
  },
  {
   "cell_type": "code",
   "execution_count": 16,
   "metadata": {
    "slideshow": {
     "slide_type": "skip"
    }
   },
   "outputs": [],
   "source": [
    "# def group_w_fly_w_ch(d):\n",
    "#     return group_w_ch(d, 0)"
   ]
  },
  {
   "cell_type": "code",
   "execution_count": 17,
   "metadata": {
    "slideshow": {
     "slide_type": "skip"
    }
   },
   "outputs": [
    {
     "name": "stdout",
     "output_type": "stream",
     "text": [
      "CPU times: user 11min 18s, sys: 8.41 s, total: 11min 26s\n",
      "Wall time: 12min\n"
     ]
    }
   ],
   "source": [
    "# %%time\n",
    "# w_fly_w_ch = ddata.groupby([\"method\", \"ch_num\", \"ch_set\", \"i_fly\"]).apply(group_w_fly_w_ch)"
   ]
  },
  {
   "cell_type": "code",
   "execution_count": 19,
   "metadata": {
    "slideshow": {
     "slide_type": "skip"
    }
   },
   "outputs": [],
   "source": [
    "# # SAVE\n",
    "# with pd.HDFStore('../data/processed/decoding.h5') as store:\n",
    "#     store['w_fly_w_ch'] = w_fly_w_ch"
   ]
  },
  {
   "cell_type": "code",
   "execution_count": 15,
   "metadata": {
    "slideshow": {
     "slide_type": "subslide"
    }
   },
   "outputs": [],
   "source": [
    "def plot_w_fly_w_ch(ch_num, ch_set):\n",
    "\n",
    "    fig = plt.figure(figsize=(8, 4), dpi= 80)\n",
    "    \n",
    "    methods = methods_ch_nums[ch_num] # methods_ch_nums is global\n",
    "    n_methods = len(methods)\n",
    "    \n",
    "    w = 0.1\n",
    "    #mid_fly = n_flies // 2 # n_flies is global\n",
    "    mid_method = n_methods // 2\n",
    "    \n",
    "    for i_m, method in enumerate(methods):\n",
    "        \n",
    "        #d = w_fly_w_ch.loc[methods, ch_num, ch_set, i_fly]\n",
    "        d = w_fly_w_ch.loc[method, ch_num, ch_set]\n",
    "        \n",
    "        scores = d.score_mean.values\n",
    "        stds = d.score_std.values\n",
    "        x_pos = list(map(lambda x: x + ((i_m - mid_method) * (w*1.5)), range(n_flies)))\n",
    "        \n",
    "        \n",
    "        plt.title(\"PHI {} for Channel Group {}\".format(ch_num, \"-\".join(map(str, channel_sets[ch_num][ch_set]))))\n",
    "        plt.bar(x_pos,\n",
    "            scores,\n",
    "            width = w,\n",
    "            #tick_label = tick_labels,\n",
    "            #color = [colors[r.get(\"ch_num\") - 2] for r in r_fly],\n",
    "            #yerr = stds\n",
    "            label=method\n",
    "            )\n",
    "        plt.ylim((0, 1))   \n",
    "\n",
    "    plt.legend(loc=\"upper right\")\n",
    "    plt.xlabel(\"Fly\")\n",
    "    plt.ylabel(\"Mean Decoding Accuracy (from LOO CV)\")"
   ]
  },
  {
   "cell_type": "code",
   "execution_count": 16,
   "metadata": {
    "slideshow": {
     "slide_type": "subslide"
    }
   },
   "outputs": [
    {
     "data": {
      "application/vnd.jupyter.widget-view+json": {
       "model_id": "b4372cda7b9d4d6a9a1f4c0ef29e5042",
       "version_major": 2,
       "version_minor": 0
      },
      "text/plain": [
       "interactive(children=(Select(description='ch_set', options=(0, 1, 2, 3, 4, 5, 6, 7, 8, 9, 10, 11, 12, 13, 14, …"
      ]
     },
     "metadata": {},
     "output_type": "display_data"
    },
    {
     "data": {
      "text/plain": [
       "<function __main__.plot_w_fly_w_ch(ch_num, ch_set)>"
      ]
     },
     "execution_count": 16,
     "metadata": {},
     "output_type": "execute_result"
    }
   ],
   "source": [
    "n_test = 2\n",
    "\n",
    "interact(plot_w_fly_w_ch, \n",
    "         ch_num=fixed(n_test),\n",
    "         ch_set=widgets.Select(options=channel_sets[n_test].keys(), value=0)\n",
    "        )"
   ]
  },
  {
   "cell_type": "code",
   "execution_count": 17,
   "metadata": {
    "slideshow": {
     "slide_type": "subslide"
    }
   },
   "outputs": [
    {
     "data": {
      "application/vnd.jupyter.widget-view+json": {
       "model_id": "1b6cf527b6044243a5d53cca97766b47",
       "version_major": 2,
       "version_minor": 0
      },
      "text/plain": [
       "interactive(children=(Select(description='ch_set', options=(0, 1, 2, 3, 4, 5, 6, 7, 8, 9, 10, 11, 12, 13, 14, …"
      ]
     },
     "metadata": {},
     "output_type": "display_data"
    },
    {
     "data": {
      "text/plain": [
       "<function __main__.plot_w_fly_w_ch(ch_num, ch_set)>"
      ]
     },
     "execution_count": 17,
     "metadata": {},
     "output_type": "execute_result"
    }
   ],
   "source": [
    "n_test = 3\n",
    "interact(plot_w_fly_w_ch, \n",
    "         ch_num=fixed(n_test),\n",
    "         ch_set=widgets.Select(options=channel_sets[n_test].keys(), value=0)\n",
    "        )"
   ]
  },
  {
   "cell_type": "code",
   "execution_count": 18,
   "metadata": {
    "slideshow": {
     "slide_type": "subslide"
    }
   },
   "outputs": [
    {
     "data": {
      "application/vnd.jupyter.widget-view+json": {
       "model_id": "fe2bcaa25b5045ddba316d2e2ac917eb",
       "version_major": 2,
       "version_minor": 0
      },
      "text/plain": [
       "interactive(children=(Select(description='ch_set', options=(0, 1, 2, 3, 4, 5, 6, 7, 8, 9, 10, 11), value=0), O…"
      ]
     },
     "metadata": {},
     "output_type": "display_data"
    },
    {
     "data": {
      "text/plain": [
       "<function __main__.plot_w_fly_w_ch(ch_num, ch_set)>"
      ]
     },
     "execution_count": 18,
     "metadata": {},
     "output_type": "execute_result"
    }
   ],
   "source": [
    "n_test = 4\n",
    "\n",
    "interact(plot_w_fly_w_ch, \n",
    "         ch_num=fixed(n_test),\n",
    "         ch_set=widgets.Select(options=channel_sets[n_test].keys(), value=0)\n",
    "        )"
   ]
  },
  {
   "cell_type": "markdown",
   "metadata": {
    "slideshow": {
     "slide_type": "subslide"
    }
   },
   "source": [
    "### Summarised Results"
   ]
  },
  {
   "cell_type": "code",
   "execution_count": 19,
   "metadata": {
    "slideshow": {
     "slide_type": "skip"
    }
   },
   "outputs": [],
   "source": [
    "def summarise(data):\n",
    "    \n",
    "    summary = []\n",
    "    \n",
    "    cmap=pylab.get_cmap(\"Set1\")\n",
    "    \n",
    "    i_m = 0\n",
    "        \n",
    "    for ch_num in ch_nums:\n",
    "        \n",
    "        methods = methods_ch_nums[ch_num] # methods_ch_nums is global\n",
    "        n_methods = len(methods)\n",
    "    \n",
    "        for i_method, method in enumerate(methods):\n",
    "            \n",
    "            grouped = data.loc[method, ch_num]\n",
    "            \n",
    "            if len(grouped.shape) > 1:\n",
    "                agg_mean = grouped.mean()[\"score_mean\"]\n",
    "                agg_std = grouped.std()[\"score_mean\"]\n",
    "            else:\n",
    "                agg_mean = grouped[\"score_mean\"]\n",
    "                agg_std = grouped[\"score_std\"]\n",
    "            \n",
    "            tick_label = \"{}ch-{}\".format(ch_num, method)\n",
    "            \n",
    "            if method == \"corr_coef\": #ensure corr_coef is first\n",
    "                order_i = -1\n",
    "                c = cmap(0)\n",
    "            else:\n",
    "                order_i = i_m\n",
    "                c = cmap(ch_num)\n",
    "                i_m += 1\n",
    "            \n",
    "            agg = {\"mean\": agg_mean, \"err\": agg_std, \"color\": c, \"i\": order_i, \"tick_label\": tick_label}\n",
    "\n",
    "            summary.append(agg)\n",
    "            \n",
    "    return summary"
   ]
  },
  {
   "cell_type": "code",
   "execution_count": 20,
   "metadata": {
    "slideshow": {
     "slide_type": "skip"
    }
   },
   "outputs": [],
   "source": [
    "def plot_summary(data):\n",
    "    \n",
    "    fig = plt.figure(figsize=(8, 8), dpi= 80)\n",
    "    \n",
    "    summary = summarise(data)\n",
    "    \n",
    "    ys = [s[\"i\"] for s in summary]\n",
    "    xs = [s[\"mean\"] for s in summary]\n",
    "    xs_err = [s[\"err\"] for s in summary]\n",
    "    cs = [s[\"color\"] for s in summary]\n",
    "    yticks = [s[\"tick_label\"] for s in summary]\n",
    "            \n",
    "    #plt.scatter(ys, xs) # swap to make methods y-axis\n",
    "    #plt.errorbar(ys, xs_order, xerr=ys_err, yerr=None, ecolor=\"grey\", color=cs)\n",
    "    \n",
    "    for i, x in enumerate(xs):\n",
    "        plt.errorbar(x, ys[i], xerr=xs_err[i], yerr=None, ecolor=\"grey\", color=cs[i], marker=\"o\")\n",
    "    \n",
    "    plt.axvline(0.5, color=\"red\", linestyle=\":\")\n",
    "    plt.xlim((0.3, 1))\n",
    "    plt.yticks(ys, yticks)"
   ]
  },
  {
   "cell_type": "code",
   "execution_count": 21,
   "metadata": {
    "slideshow": {
     "slide_type": "-"
    }
   },
   "outputs": [
    {
     "data": {
      "image/png": "[encoded data removed]",
      "text/plain": [
       "<Figure size 640x640 with 1 Axes>"
      ]
     },
     "metadata": {
      "needs_background": "light"
     },
     "output_type": "display_data"
    }
   ],
   "source": [
    "plot_summary(w_fly_w_ch)\n",
    "plt.xlabel(\"Mean Decoding Accuracy (across LOO CV)\")\n",
    "plt.title(\"Decoding by Method (Within-Fly, Within-Channel Group)\")\n",
    "None"
   ]
  },
  {
   "cell_type": "markdown",
   "metadata": {
    "slideshow": {
     "slide_type": "slide"
    }
   },
   "source": [
    "## Across-Trials, Across-Fly, Within-Channel Groups"
   ]
  },
  {
   "cell_type": "markdown",
   "metadata": {
    "slideshow": {
     "slide_type": "-"
    }
   },
   "source": [
    "This will give us 1 classification score for each channel group (for each method).\n",
    "\n",
    "Each classification set will have `n_trials * n_conds * n_flies = 208` samples. "
   ]
  },
  {
   "cell_type": "code",
   "execution_count": 163,
   "metadata": {
    "slideshow": {
     "slide_type": "skip"
    }
   },
   "outputs": [],
   "source": [
    "# def group_a_fly_w_ch(d):\n",
    "#     return group_w_ch(d, 3)"
   ]
  },
  {
   "cell_type": "code",
   "execution_count": 164,
   "metadata": {
    "slideshow": {
     "slide_type": "skip"
    }
   },
   "outputs": [
    {
     "name": "stdout",
     "output_type": "stream",
     "text": [
      "CPU times: user 17.3 s, sys: 443 ms, total: 17.7 s\n",
      "Wall time: 20 s\n"
     ]
    }
   ],
   "source": [
    "# %%time\n",
    "# a_fly_w_ch = ddata.groupby([\"method\", \"ch_num\", \"ch_set\"]).apply(group_a_fly_w_ch)"
   ]
  },
  {
   "cell_type": "code",
   "execution_count": 165,
   "metadata": {
    "slideshow": {
     "slide_type": "skip"
    }
   },
   "outputs": [],
   "source": [
    "# SAVE\n",
    "#with pd.HDFStore('../data/processed/decoding.h5') as store:\n",
    "#    store['a_fly_w_ch'] = a_fly_w_ch"
   ]
  },
  {
   "cell_type": "code",
   "execution_count": 22,
   "metadata": {
    "slideshow": {
     "slide_type": "skip"
    }
   },
   "outputs": [],
   "source": [
    "def plot_a_fly_w_ch(ch_num):\n",
    "\n",
    "    methods = methods_ch_nums[ch_num] # methods_ch_nums is global\n",
    "    n_methods = len(methods)\n",
    "    \n",
    "    fig, ax = plt.subplots(n_methods, 1, figsize=(8, 8), dpi= 80, sharex = True, sharey = True)\n",
    "    \n",
    "    #w = 0.1\n",
    "    #mid_fly = n_flies // 2 # n_flies is global\n",
    "    mid_method = n_methods // 2\n",
    "    \n",
    "    for i_m, method in enumerate(methods):\n",
    "        \n",
    "        d = a_fly_w_ch.loc[method, ch_num]\n",
    "        \n",
    "        scores = d.score_mean.values\n",
    "        stds = d.score_std.values\n",
    "        x_pos = range(len(scores))\n",
    "        \n",
    "        ax[i_m].bar(x_pos,\n",
    "                    scores,\n",
    "                    #width = w,\n",
    "                    #tick_label = tick_labels,\n",
    "                    #yerr = stds,\n",
    "                    label=method\n",
    "                    )\n",
    "        ax[i_m].set_ylim((.5, 1))   \n",
    "        ax[i_m].set_title(\"PHI {} ch {}\".format(ch_num, method))\n",
    "        \n",
    "        if i_m == n_methods - 1:\n",
    "            ax[i_m].set_xlabel(\"Channel Set\")\n",
    "\n",
    "    #plt.legend(loc=\"upper right\")\n",
    "    fig.text(0, 0.5, 'Mean Decoding Accuracy (across 3-Fold CV)', va='center', rotation='vertical')\n",
    "    fig.tight_layout()"
   ]
  },
  {
   "cell_type": "code",
   "execution_count": 23,
   "metadata": {
    "scrolled": false,
    "slideshow": {
     "slide_type": "subslide"
    }
   },
   "outputs": [
    {
     "data": {
      "image/png": "[encoded data removed]",
      "text/plain": [
       "<Figure size 640x640 with 4 Axes>"
      ]
     },
     "metadata": {
      "needs_background": "light"
     },
     "output_type": "display_data"
    }
   ],
   "source": [
    "plot_a_fly_w_ch(2)"
   ]
  },
  {
   "cell_type": "code",
   "execution_count": 24,
   "metadata": {
    "slideshow": {
     "slide_type": "subslide"
    }
   },
   "outputs": [
    {
     "data": {
      "image/png": "[encoded data removed]",
      "text/plain": [
       "<Figure size 640x640 with 4 Axes>"
      ]
     },
     "metadata": {
      "needs_background": "light"
     },
     "output_type": "display_data"
    }
   ],
   "source": [
    "plot_a_fly_w_ch(3)"
   ]
  },
  {
   "cell_type": "code",
   "execution_count": 25,
   "metadata": {
    "scrolled": false,
    "slideshow": {
     "slide_type": "subslide"
    }
   },
   "outputs": [
    {
     "data": {
      "image/png": "[encoded data removed]",
      "text/plain": [
       "<Figure size 640x640 with 5 Axes>"
      ]
     },
     "metadata": {
      "needs_background": "light"
     },
     "output_type": "display_data"
    }
   ],
   "source": [
    "plot_a_fly_w_ch(4)"
   ]
  },
  {
   "cell_type": "markdown",
   "metadata": {
    "slideshow": {
     "slide_type": "subslide"
    }
   },
   "source": [
    "### Summarised Results"
   ]
  },
  {
   "cell_type": "code",
   "execution_count": 26,
   "metadata": {},
   "outputs": [
    {
     "data": {
      "image/png": "[encoded data removed]",
      "text/plain": [
       "<Figure size 640x640 with 1 Axes>"
      ]
     },
     "metadata": {
      "needs_background": "light"
     },
     "output_type": "display_data"
    }
   ],
   "source": [
    "plot_summary(a_fly_w_ch)\n",
    "plt.xlabel(\"Mean Decoding Accuracy (across 3-Fold CVs)\")\n",
    "plt.title(\"Decoding by Method (Across-Fly, Within-Channel Group)\")\n",
    "None"
   ]
  },
  {
   "cell_type": "markdown",
   "metadata": {
    "slideshow": {
     "slide_type": "slide"
    }
   },
   "source": [
    "## Across-Trials, Within-Fly, Across-Channel Groups"
   ]
  },
  {
   "cell_type": "markdown",
   "metadata": {},
   "source": [
    "This will give us 1 classification score for each fly (for each method).\n",
    "\n",
    "Each classification set will have `n_trials * n_conds = 16` samples. Each sample will have a multidimensional independent variable, with the number of dimensions equalling the number of channel groups."
   ]
  },
  {
   "cell_type": "code",
   "execution_count": 205,
   "metadata": {
    "slideshow": {
     "slide_type": "skip"
    }
   },
   "outputs": [],
   "source": [
    "# def group_a_ch(d, folds):\n",
    "    \n",
    "#     grouped = d.groupby(\"ch_set\")\n",
    "#     ch_groups = set(d[\"ch_set\"])\n",
    "    \n",
    "#     applied = grouped.apply(lambda x: x.value)\n",
    "    \n",
    "#     xs = np.stack([applied.loc[i] for i in ch_groups], axis=1).astype(float)\n",
    "#     ys = grouped.apply(lambda x: x.i_cond).loc[0].astype(int) # should be same for all\n",
    "    \n",
    "#     model = NearestCentroid()\n",
    "    \n",
    "#     if folds == 0:\n",
    "#         folds = LeaveOneOut()\n",
    "\n",
    "#     scores = cross_val_score(model, xs, ys, cv=folds) # leave one out cross-validation\n",
    "    \n",
    "#     data_dict = {\"score_mean\": scores.mean(),\n",
    "#                  \"score_std\": scores.std(),\n",
    "#                  \"n_samples\": xs.shape[0]\n",
    "#                 }\n",
    "    \n",
    "#     return pd.Series(data_dict)"
   ]
  },
  {
   "cell_type": "code",
   "execution_count": 206,
   "metadata": {
    "slideshow": {
     "slide_type": "skip"
    }
   },
   "outputs": [],
   "source": [
    "# def group_w_fly_a_ch(d):\n",
    "#     return group_a_ch(d, 0)"
   ]
  },
  {
   "cell_type": "code",
   "execution_count": 207,
   "metadata": {
    "scrolled": true,
    "slideshow": {
     "slide_type": "skip"
    }
   },
   "outputs": [
    {
     "name": "stdout",
     "output_type": "stream",
     "text": [
      "CPU times: user 53.8 s, sys: 1.12 s, total: 54.9 s\n",
      "Wall time: 56.6 s\n"
     ]
    }
   ],
   "source": [
    "# %%time\n",
    "# w_fly_a_ch = ddata.groupby([\"method\", \"ch_num\", \"i_fly\"]).apply(group_w_fly_a_ch)"
   ]
  },
  {
   "cell_type": "code",
   "execution_count": 208,
   "metadata": {
    "slideshow": {
     "slide_type": "skip"
    }
   },
   "outputs": [],
   "source": [
    "# # SAVE\n",
    "# with pd.HDFStore('../data/processed/decoding.h5') as store:\n",
    "#     store['w_fly_a_ch'] = w_fly_a_ch"
   ]
  },
  {
   "cell_type": "code",
   "execution_count": 27,
   "metadata": {
    "slideshow": {
     "slide_type": "skip"
    }
   },
   "outputs": [],
   "source": [
    "def plot_w_fly_a_ch():\n",
    "\n",
    "    fig = plt.figure(figsize=(12, 4), dpi= 80)\n",
    "    \n",
    "    w = 0.045\n",
    "    #mid_fly = n_flies // 2 # n_flies is global\n",
    "    \n",
    "    i_m = 0\n",
    "    \n",
    "    mid_method = 13 // 2 # total number of methods is 13\n",
    "    \n",
    "    for ch_num in ch_nums:\n",
    "        \n",
    "        methods = methods_ch_nums[ch_num] # methods_ch_nums is global\n",
    "        n_methods = len(methods)\n",
    "    \n",
    "        for i_method, method in enumerate(methods):\n",
    "\n",
    "            d = w_fly_a_ch.loc[method, ch_num]\n",
    "\n",
    "            scores = d.score_mean.values\n",
    "            stds = d.score_std.values\n",
    "            x_pos = list(map(lambda x: x + ((i_m - mid_method) * (w*1.5)), range(n_flies)))\n",
    "\n",
    "\n",
    "            #if i_fly == mid_fly:\n",
    "            #    tick_labels = [\"{} ch {}\".format(ch_num, method) for method in methods]\n",
    "            #else:\n",
    "            #    tick_labels = None\n",
    "\n",
    "            plt.title(\"Decoding by Method by Fly\")\n",
    "            plt.bar(x_pos,\n",
    "                scores,\n",
    "                width = w,\n",
    "                #tick_label = tick_labels,\n",
    "                #color = [colors[r.get(\"ch_num\") - 2] for r in r_fly],\n",
    "                #yerr = stds,\n",
    "                label=\"{}ch-{}\".format(ch_num, method)\n",
    "                )\n",
    "            plt.ylim((0, 1)) \n",
    "            \n",
    "            plt.xlabel(\"Fly\")\n",
    "            plt.ylabel(\"Mean Decoding Accuracy (across LOO CV)\")\n",
    "            \n",
    "            i_m += 1\n",
    "\n",
    "        plt.legend(loc='center left', bbox_to_anchor=(1, 0.5))"
   ]
  },
  {
   "cell_type": "code",
   "execution_count": 28,
   "metadata": {
    "slideshow": {
     "slide_type": "subslide"
    }
   },
   "outputs": [
    {
     "data": {
      "image/png": "[encoded data removed]",
      "text/plain": [
       "<Figure size 960x320 with 1 Axes>"
      ]
     },
     "metadata": {
      "needs_background": "light"
     },
     "output_type": "display_data"
    }
   ],
   "source": [
    "plot_w_fly_a_ch()"
   ]
  },
  {
   "cell_type": "markdown",
   "metadata": {
    "slideshow": {
     "slide_type": "subslide"
    }
   },
   "source": [
    "### Summarised Results"
   ]
  },
  {
   "cell_type": "code",
   "execution_count": 29,
   "metadata": {
    "slideshow": {
     "slide_type": "-"
    }
   },
   "outputs": [
    {
     "data": {
      "image/png": "[encoded data removed]",
      "text/plain": [
       "<Figure size 640x640 with 1 Axes>"
      ]
     },
     "metadata": {
      "needs_background": "light"
     },
     "output_type": "display_data"
    }
   ],
   "source": [
    "plot_summary(w_fly_a_ch)\n",
    "plt.xlabel(\"Mean Decoding Accuracy (across LOO CVs)\")\n",
    "plt.title(\"Decoding by Method (Within-Fly, Across-Channel Groups)\")\n",
    "None"
   ]
  },
  {
   "cell_type": "markdown",
   "metadata": {
    "slideshow": {
     "slide_type": "slide"
    }
   },
   "source": [
    "## Across-Trials, Across-Flies, Across-Channel Groups"
   ]
  },
  {
   "cell_type": "markdown",
   "metadata": {},
   "source": [
    "This will give us 1 classification score (for each method).\n",
    "\n",
    "Each classification set will have `n_trials * n_conds = 208` samples. Each sample will have a multidimensional independent variable, with the number of dimensions equalling the number of channel groups."
   ]
  },
  {
   "cell_type": "markdown",
   "metadata": {},
   "source": [
    "> Note that perhaps the between-channel-number sets (i.e. between colours) are not comparable as the number of dimensions for decoding differs quite significantly (~100 for 2ch, ~400 for 3ch and only 12 for 4ch due to time constraints)."
   ]
  },
  {
   "cell_type": "code",
   "execution_count": 223,
   "metadata": {
    "slideshow": {
     "slide_type": "skip"
    }
   },
   "outputs": [],
   "source": [
    "# def group_a_fly_a_ch(d):\n",
    "#     return group_a_ch(d, 3)"
   ]
  },
  {
   "cell_type": "code",
   "execution_count": 224,
   "metadata": {
    "scrolled": true,
    "slideshow": {
     "slide_type": "skip"
    }
   },
   "outputs": [
    {
     "name": "stdout",
     "output_type": "stream",
     "text": [
      "CPU times: user 5.2 s, sys: 337 ms, total: 5.54 s\n",
      "Wall time: 5.73 s\n"
     ]
    }
   ],
   "source": [
    "# %%time\n",
    "# a_fly_a_ch = ddata.groupby([\"method\", \"ch_num\"]).apply(group_a_fly_a_ch)"
   ]
  },
  {
   "cell_type": "code",
   "execution_count": 227,
   "metadata": {
    "slideshow": {
     "slide_type": "skip"
    }
   },
   "outputs": [],
   "source": [
    "# # SAVE\n",
    "# with pd.HDFStore('../data/processed/decoding.h5') as store:\n",
    "#     store['a_fly_a_ch'] = a_fly_a_ch"
   ]
  },
  {
   "cell_type": "code",
   "execution_count": 30,
   "metadata": {
    "slideshow": {
     "slide_type": "skip"
    }
   },
   "outputs": [],
   "source": [
    "def plot_a_fly_a_ch():\n",
    "\n",
    "    fig = plt.figure(figsize=(12, 4), dpi= 80)\n",
    "    \n",
    "    #w = 0.045\n",
    "    #mid_fly = n_flies // 2 # n_flies is global\n",
    "    \n",
    "    i_m = 0\n",
    "        \n",
    "    score_list = []\n",
    "    std_list = []\n",
    "    tick_labels = []\n",
    "    colours = []\n",
    "    \n",
    "    cmap=pylab.get_cmap(\"Set1\")\n",
    "    \n",
    "    for ch_num in ch_nums:\n",
    "        \n",
    "        methods = methods_ch_nums[ch_num] # methods_ch_nums is global\n",
    "        n_methods = len(methods)\n",
    "    \n",
    "        for i_method, method in enumerate(methods):\n",
    "\n",
    "            d = a_fly_a_ch.loc[method, ch_num]\n",
    "\n",
    "            scores = d.score_mean\n",
    "            stds = d.score_std\n",
    "            \n",
    "            if \"corr_coef\" in method:\n",
    "                colours.append(cmap(0))\n",
    "            else:\n",
    "                colours.append(cmap(ch_num))\n",
    "            score_list.append(scores)\n",
    "            std_list.append(stds)\n",
    "            tick_labels.append(\"{}ch-{}\".format(ch_num, method))\n",
    "            \n",
    "    plt.title(\"Decoding by Method\")\n",
    "    order = [1, -0.3] + list(range(2, 13)) # ensure corr_coef is first\n",
    "    plt.bar(order,\n",
    "        score_list,\n",
    "        color=colours,\n",
    "        yerr = std_list,\n",
    "        )\n",
    "    plt.xticks(order, tick_labels, rotation=\"vertical\")\n",
    "    plt.ylim((0.5, 1)) \n",
    "    \n",
    "    plt.ylabel(\"Mean Decoding Accuracy (across 3-Fold CV)\")\n"
   ]
  },
  {
   "cell_type": "code",
   "execution_count": 31,
   "metadata": {
    "scrolled": false,
    "slideshow": {
     "slide_type": "subslide"
    }
   },
   "outputs": [
    {
     "data": {
      "image/png": "[encoded data removed]",
      "text/plain": [
       "<Figure size 960x320 with 1 Axes>"
      ]
     },
     "metadata": {
      "needs_background": "light"
     },
     "output_type": "display_data"
    }
   ],
   "source": [
    "plot_a_fly_a_ch()"
   ]
  },
  {
   "cell_type": "markdown",
   "metadata": {
    "slideshow": {
     "slide_type": "subslide"
    }
   },
   "source": [
    "To make the summarised results the same visual layout as the others:"
   ]
  },
  {
   "cell_type": "code",
   "execution_count": 32,
   "metadata": {},
   "outputs": [
    {
     "data": {
      "image/png": "[encoded data removed]",
      "text/plain": [
       "<Figure size 640x640 with 1 Axes>"
      ]
     },
     "metadata": {
      "needs_background": "light"
     },
     "output_type": "display_data"
    }
   ],
   "source": [
    "plot_summary(a_fly_a_ch)\n",
    "plt.xlabel(\"Mean Decoding Accuracy (across LOO CVs)\")\n",
    "plt.title(\"Decoding by Method (Across-Fly, Across-Channel Groups)\")\n",
    "None"
   ]
  }
 ],
 "metadata": {
  "kernelspec": {
   "display_name": "Python 3",
   "language": "python",
   "name": "python3"
  },
  "language_info": {
   "codemirror_mode": {
    "name": "ipython",
    "version": 3
   },
   "file_extension": ".py",
   "mimetype": "text/x-python",
   "name": "python",
   "nbconvert_exporter": "python",
   "pygments_lexer": "ipython3",
   "version": "3.6.8"
  },
  "widgets": {
   "application/vnd.jupyter.widget-state+json": {
    "state": {
     "148f4b2dde6944fa90eefae611bdcaaf": {
      "model_module": "@jupyter-widgets/controls",
      "model_module_version": "1.4.0",
      "model_name": "DescriptionStyleModel",
      "state": {
       "description_width": ""
      }
     },
     "179ac2a7165d487bb91362e36e589e76": {
      "model_module": "@jupyter-widgets/base",
      "model_module_version": "1.1.0",
      "model_name": "LayoutModel",
      "state": {}
     },
     "1adbc55e9f594960accbfee578ed8b5b": {
      "model_module": "@jupyter-widgets/base",
      "model_module_version": "1.1.0",
      "model_name": "LayoutModel",
      "state": {}
     },
     "2a347c3107d544279cf28f6b18a08f73": {
      "model_module": "@jupyter-widgets/output",
      "model_module_version": "1.0.0",
      "model_name": "OutputModel",
      "state": {
       "layout": "IPY_MODEL_e1651b86c80c47e4ad29d84be3724ee0",
       "outputs": [
        {
         "data": {
          "image/png": "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\n",
          "text/plain": "<Figure size 640x320 with 1 Axes>"
         },
         "metadata": {
          "needs_background": "light"
         },
         "output_type": "display_data"
        }
       ]
      }
     },
     "2bb0e09def514b00a89fd083a90626bd": {
      "model_module": "@jupyter-widgets/base",
      "model_module_version": "1.1.0",
      "model_name": "LayoutModel",
      "state": {}
     },
     "698720ff9f544f6bb8a0a2f62cc8b987": {
      "model_module": "@jupyter-widgets/controls",
      "model_module_version": "1.4.0",
      "model_name": "SelectModel",
      "state": {
       "_options_labels": [
        "0",
        "1",
        "2",
        "3",
        "4",
        "5",
        "6",
        "7",
        "8",
        "9",
        "10",
        "11",
        "12",
        "13",
        "14",
        "15",
        "16",
        "17",
        "18",
        "19",
        "20",
        "21",
        "22",
        "23",
        "24",
        "25",
        "26",
        "27",
        "28",
        "29",
        "30",
        "31",
        "32",
        "33",
        "34",
        "35",
        "36",
        "37",
        "38",
        "39",
        "40",
        "41",
        "42",
        "43",
        "44",
        "45",
        "46",
        "47",
        "48",
        "49",
        "50",
        "51",
        "52",
        "53",
        "54",
        "55",
        "56",
        "57",
        "58",
        "59",
        "60",
        "61",
        "62",
        "63",
        "64",
        "65",
        "66",
        "67",
        "68",
        "69",
        "70",
        "71",
        "72",
        "73",
        "74",
        "75",
        "76",
        "77",
        "78",
        "79",
        "80",
        "81",
        "82",
        "83",
        "84",
        "85",
        "86",
        "87",
        "88",
        "89",
        "90",
        "91",
        "92",
        "93",
        "94",
        "95",
        "96",
        "97",
        "98",
        "99",
        "100",
        "101",
        "102",
        "103",
        "104"
       ],
       "description": "ch_set",
       "index": 0,
       "layout": "IPY_MODEL_78e4bae8ab5f451dbcf7b25f5136bc42",
       "style": "IPY_MODEL_148f4b2dde6944fa90eefae611bdcaaf"
      }
     },
     "78e4bae8ab5f451dbcf7b25f5136bc42": {
      "model_module": "@jupyter-widgets/base",
      "model_module_version": "1.1.0",
      "model_name": "LayoutModel",
      "state": {}
     },
     "79d6742e91bb4284adc7e9d523b19e20": {
      "model_module": "@jupyter-widgets/controls",
      "model_module_version": "1.4.0",
      "model_name": "VBoxModel",
      "state": {
       "_dom_classes": [
        "widget-interact"
       ],
       "children": [
        "IPY_MODEL_bcb683a941df40a3af296dd1231c40a8",
        "IPY_MODEL_cbb6406c217f42fa9fdba954e42df77a"
       ],
       "layout": "IPY_MODEL_eb461e2f5d0748ff9e3e59dc55f11884"
      }
     },
     "7bfd83a06c0548e9add86c3b253613b9": {
      "model_module": "@jupyter-widgets/controls",
      "model_module_version": "1.4.0",
      "model_name": "VBoxModel",
      "state": {
       "_dom_classes": [
        "widget-interact"
       ],
       "children": [
        "IPY_MODEL_bbe18e0cb3ae4b3384b56430fd0159bd",
        "IPY_MODEL_2a347c3107d544279cf28f6b18a08f73"
       ],
       "layout": "IPY_MODEL_b518ee5a39e2409397a8db061e35a2fc"
      }
     },
     "82a05c4fdbdf4c648a0fcfa5068dad46": {
      "model_module": "@jupyter-widgets/controls",
      "model_module_version": "1.4.0",
      "model_name": "VBoxModel",
      "state": {
       "_dom_classes": [
        "widget-interact"
       ],
       "children": [
        "IPY_MODEL_698720ff9f544f6bb8a0a2f62cc8b987",
        "IPY_MODEL_d28c3463cccc4eff939bc489b56b4c7d"
       ],
       "layout": "IPY_MODEL_ed8857d84a3e45ce83792e9a298088a8"
      }
     },
     "b518ee5a39e2409397a8db061e35a2fc": {
      "model_module": "@jupyter-widgets/base",
      "model_module_version": "1.1.0",
      "model_name": "LayoutModel",
      "state": {}
     },
     "bbe18e0cb3ae4b3384b56430fd0159bd": {
      "model_module": "@jupyter-widgets/controls",
      "model_module_version": "1.4.0",
      "model_name": "SelectModel",
      "state": {
       "_options_labels": [
        "0",
        "1",
        "2",
        "3",
        "4",
        "5",
        "6",
        "7",
        "8",
        "9",
        "10",
        "11"
       ],
       "description": "ch_set",
       "index": 0,
       "layout": "IPY_MODEL_2bb0e09def514b00a89fd083a90626bd",
       "style": "IPY_MODEL_c8c5202bf5ac4981bc23ef8ad2c26d35"
      }
     },
     "bcb683a941df40a3af296dd1231c40a8": {
      "model_module": "@jupyter-widgets/controls",
      "model_module_version": "1.4.0",
      "model_name": "SelectModel",
      "state": {
       "_options_labels": [
        "0",
        "1",
        "2",
        "3",
        "4",
        "5",
        "6",
        "7",
        "8",
        "9",
        "10",
        "11",
        "12",
        "13",
        "14",
        "15",
        "16",
        "17",
        "18",
        "19",
        "20",
        "21",
        "22",
        "23",
        "24",
        "25",
        "26",
        "27",
        "28",
        "29",
        "30",
        "31",
        "32",
        "33",
        "34",
        "35",
        "36",
        "37",
        "38",
        "39",
        "40",
        "41",
        "42",
        "43",
        "44",
        "45",
        "46",
        "47",
        "48",
        "49",
        "50",
        "51",
        "52",
        "53",
        "54",
        "55",
        "56",
        "57",
        "58",
        "59",
        "60",
        "61",
        "62",
        "63",
        "64",
        "65",
        "66",
        "67",
        "68",
        "69",
        "70",
        "71",
        "72",
        "73",
        "74",
        "75",
        "76",
        "77",
        "78",
        "79",
        "80",
        "81",
        "82",
        "83",
        "84",
        "85",
        "86",
        "87",
        "88",
        "89",
        "90",
        "91",
        "92",
        "93",
        "94",
        "95",
        "96",
        "97",
        "98",
        "99",
        "100",
        "101",
        "102",
        "103",
        "104",
        "105",
        "106",
        "107",
        "108",
        "109",
        "110",
        "111",
        "112",
        "113",
        "114",
        "115",
        "116",
        "117",
        "118",
        "119",
        "120",
        "121",
        "122",
        "123",
        "124",
        "125",
        "126",
        "127",
        "128",
        "129",
        "130",
        "131",
        "132",
        "133",
        "134",
        "135",
        "136",
        "137",
        "138",
        "139",
        "140",
        "141",
        "142",
        "143",
        "144",
        "145",
        "146",
        "147",
        "148",
        "149",
        "150",
        "151",
        "152",
        "153",
        "154",
        "155",
        "156",
        "157",
        "158",
        "159",
        "160",
        "161",
        "162",
        "163",
        "164",
        "165",
        "166",
        "167",
        "168",
        "169",
        "170",
        "171",
        "172",
        "173",
        "174",
        "175",
        "176",
        "177",
        "178",
        "179",
        "180",
        "181",
        "182",
        "183",
        "184",
        "185",
        "186",
        "187",
        "188",
        "189",
        "190",
        "191",
        "192",
        "193",
        "194",
        "195",
        "196",
        "197",
        "198",
        "199",
        "200",
        "201",
        "202",
        "203",
        "204",
        "205",
        "206",
        "207",
        "208",
        "209",
        "210",
        "211",
        "212",
        "213",
        "214",
        "215",
        "216",
        "217",
        "218",
        "219",
        "220",
        "221",
        "222",
        "223",
        "224",
        "225",
        "226",
        "227",
        "228",
        "229",
        "230",
        "231",
        "232",
        "233",
        "234",
        "235",
        "236",
        "237",
        "238",
        "239",
        "240",
        "241",
        "242",
        "243",
        "244",
        "245",
        "246",
        "247",
        "248",
        "249",
        "250",
        "251",
        "252",
        "253",
        "254",
        "255",
        "256",
        "257",
        "258",
        "259",
        "260",
        "261",
        "262",
        "263",
        "264",
        "265",
        "266",
        "267",
        "268",
        "269",
        "270",
        "271",
        "272",
        "273",
        "274",
        "275",
        "276",
        "277",
        "278",
        "279",
        "280",
        "281",
        "282",
        "283",
        "284",
        "285",
        "286",
        "287",
        "288",
        "289",
        "290",
        "291",
        "292",
        "293",
        "294",
        "295",
        "296",
        "297",
        "298",
        "299",
        "300",
        "301",
        "302",
        "303",
        "304",
        "305",
        "306",
        "307",
        "308",
        "309",
        "310",
        "311",
        "312",
        "313",
        "314",
        "315",
        "316",
        "317",
        "318",
        "319",
        "320",
        "321",
        "322",
        "323",
        "324",
        "325",
        "326",
        "327",
        "328",
        "329",
        "330",
        "331",
        "332",
        "333",
        "334",
        "335",
        "336",
        "337",
        "338",
        "339",
        "340",
        "341",
        "342",
        "343",
        "344",
        "345",
        "346",
        "347",
        "348",
        "349",
        "350",
        "351",
        "352",
        "353",
        "354",
        "355",
        "356",
        "357",
        "358",
        "359",
        "360",
        "361",
        "362",
        "363",
        "364",
        "365",
        "366",
        "367",
        "368",
        "369",
        "370",
        "371",
        "372",
        "373",
        "374",
        "375",
        "376",
        "377",
        "378",
        "379",
        "380",
        "381",
        "382",
        "383",
        "384",
        "385",
        "386",
        "387",
        "388",
        "389",
        "390",
        "391",
        "392",
        "393",
        "394",
        "395",
        "396",
        "397",
        "398",
        "399",
        "400",
        "401",
        "402",
        "403",
        "404",
        "405",
        "406",
        "407",
        "408",
        "409",
        "410",
        "411",
        "412",
        "413",
        "414",
        "415",
        "416",
        "417",
        "418",
        "419",
        "420",
        "421",
        "422",
        "423",
        "424",
        "425",
        "426",
        "427",
        "428",
        "429",
        "430",
        "431",
        "432",
        "433",
        "434",
        "435",
        "436",
        "437",
        "438",
        "439",
        "440",
        "441",
        "442",
        "443",
        "444",
        "445",
        "446",
        "447",
        "448",
        "449",
        "450",
        "451",
        "452",
        "453",
        "454"
       ],
       "description": "ch_set",
       "index": 0,
       "layout": "IPY_MODEL_d4f402120acf46caaff4f211ef74ecf1",
       "style": "IPY_MODEL_bf4bfcb915094c3581c14dfefab62041"
      }
     },
     "bf4bfcb915094c3581c14dfefab62041": {
      "model_module": "@jupyter-widgets/controls",
      "model_module_version": "1.4.0",
      "model_name": "DescriptionStyleModel",
      "state": {
       "description_width": ""
      }
     },
     "c8c5202bf5ac4981bc23ef8ad2c26d35": {
      "model_module": "@jupyter-widgets/controls",
      "model_module_version": "1.4.0",
      "model_name": "DescriptionStyleModel",
      "state": {
       "description_width": ""
      }
     },
     "cbb6406c217f42fa9fdba954e42df77a": {
      "model_module": "@jupyter-widgets/output",
      "model_module_version": "1.0.0",
      "model_name": "OutputModel",
      "state": {
       "layout": "IPY_MODEL_179ac2a7165d487bb91362e36e589e76",
       "outputs": [
        {
         "data": {
          "image/png": "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\n",
          "text/plain": "<Figure size 640x320 with 1 Axes>"
         },
         "metadata": {
          "needs_background": "light"
         },
         "output_type": "display_data"
        }
       ]
      }
     },
     "d28c3463cccc4eff939bc489b56b4c7d": {
      "model_module": "@jupyter-widgets/output",
      "model_module_version": "1.0.0",
      "model_name": "OutputModel",
      "state": {
       "layout": "IPY_MODEL_1adbc55e9f594960accbfee578ed8b5b",
       "outputs": [
        {
         "data": {
          "image/png": "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\n",
          "text/plain": "<Figure size 640x320 with 1 Axes>"
         },
         "metadata": {
          "needs_background": "light"
         },
         "output_type": "display_data"
        }
       ]
      }
     },
     "d4f402120acf46caaff4f211ef74ecf1": {
      "model_module": "@jupyter-widgets/base",
      "model_module_version": "1.1.0",
      "model_name": "LayoutModel",
      "state": {}
     },
     "e1651b86c80c47e4ad29d84be3724ee0": {
      "model_module": "@jupyter-widgets/base",
      "model_module_version": "1.1.0",
      "model_name": "LayoutModel",
      "state": {}
     },
     "eb461e2f5d0748ff9e3e59dc55f11884": {
      "model_module": "@jupyter-widgets/base",
      "model_module_version": "1.1.0",
      "model_name": "LayoutModel",
      "state": {}
     },
     "ed8857d84a3e45ce83792e9a298088a8": {
      "model_module": "@jupyter-widgets/base",
      "model_module_version": "1.1.0",
      "model_name": "LayoutModel",
      "state": {}
     }
    },
    "version_major": 2,
    "version_minor": 0
   }
  }
 },
 "nbformat": 4,
 "nbformat_minor": 2
}
