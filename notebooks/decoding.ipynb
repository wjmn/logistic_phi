{
 "cells": [
  {
   "cell_type": "markdown",
   "metadata": {
    "slideshow": {
     "slide_type": "slide"
    }
   },
   "source": [
    "# Setup"
   ]
  },
  {
   "cell_type": "code",
   "execution_count": 1,
   "metadata": {
    "slideshow": {
     "slide_type": "-"
    }
   },
   "outputs": [],
   "source": [
    "import matplotlib.pyplot as plt\n",
    "from math import floor\n",
    "\n",
    "import numpy as np\n",
    "import scipy.io as sio\n",
    "import scipy.stats as st\n",
    "import pandas as pd"
   ]
  },
  {
   "cell_type": "code",
   "execution_count": 2,
   "metadata": {
    "slideshow": {
     "slide_type": "-"
    }
   },
   "outputs": [],
   "source": [
    "import glob\n",
    "import os\n",
    "import re\n",
    "\n",
    "import itertools\n",
    "\n",
    "from sklearn.neighbors.nearest_centroid import NearestCentroid\n",
    "from sklearn.model_selection import cross_val_score\n",
    "from sklearn.model_selection import LeaveOneOut\n",
    "\n",
    "import pylab\n",
    "plt.rcParams['figure.figsize'] = [15, 5]\n",
    "%matplotlib inline"
   ]
  },
  {
   "cell_type": "markdown",
   "metadata": {
    "slideshow": {
     "slide_type": "subslide"
    }
   },
   "source": [
    "To allow interaction:"
   ]
  },
  {
   "cell_type": "code",
   "execution_count": 3,
   "metadata": {
    "slideshow": {
     "slide_type": "-"
    }
   },
   "outputs": [],
   "source": [
    "from __future__ import print_function\n",
    "from ipywidgets import interact, interactive, fixed, interact_manual\n",
    "import ipywidgets as widgets"
   ]
  },
  {
   "cell_type": "markdown",
   "metadata": {
    "slideshow": {
     "slide_type": "slide"
    }
   },
   "source": [
    "Load the processed data below to skip the preprocessing steps."
   ]
  },
  {
   "cell_type": "code",
   "execution_count": 4,
   "metadata": {
    "slideshow": {
     "slide_type": "-"
    }
   },
   "outputs": [],
   "source": [
    "with pd.HDFStore('../data/processed/ddata.h5') as store:\n",
    "    ddata = store['ddata']\n",
    "    \n",
    "with pd.HDFStore('../data/processed/decoding.h5') as store:\n",
    "    w_fly_w_ch = store['w_fly_w_ch']\n",
    "    a_fly_w_ch = store['a_fly_w_ch']\n",
    "    w_fly_a_ch = store['w_fly_a_ch']\n",
    "    a_fly_a_ch = store['a_fly_a_ch']"
   ]
  },
  {
   "cell_type": "markdown",
   "metadata": {
    "slideshow": {
     "slide_type": "slide"
    }
   },
   "source": [
    "A useful toggle-code cell will help make this notebook tidier."
   ]
  },
  {
   "cell_type": "code",
   "execution_count": 5,
   "metadata": {
    "slideshow": {
     "slide_type": "-"
    }
   },
   "outputs": [],
   "source": [
    "from IPython.display import HTML"
   ]
  },
  {
   "cell_type": "code",
   "execution_count": 6,
   "metadata": {
    "scrolled": false,
    "slideshow": {
     "slide_type": "-"
    }
   },
   "outputs": [
    {
     "data": {
      "text/html": [
       "<script>\n",
       "code_show=true; \n",
       "function code_toggle() {\n",
       " if (code_show){\n",
       " $('div.input').hide();\n",
       " } else {\n",
       " $('div.input').show();\n",
       " }\n",
       " code_show = !code_show\n",
       "} \n",
       "$( document ).ready(code_toggle);\n",
       "</script>\n",
       "<a href=\"javascript:code_toggle()\"><h1>Toggle Code Visibility</h1></a>."
      ],
      "text/plain": [
       "<IPython.core.display.HTML object>"
      ]
     },
     "execution_count": 6,
     "metadata": {},
     "output_type": "execute_result"
    }
   ],
   "source": [
    "HTML('''<script>\n",
    "code_show=true; \n",
    "function code_toggle() {\n",
    " if (code_show){\n",
    " $('div.input').hide();\n",
    " } else {\n",
    " $('div.input').show();\n",
    " }\n",
    " code_show = !code_show\n",
    "} \n",
    "$( document ).ready(code_toggle);\n",
    "</script>\n",
    "<a href=\"javascript:code_toggle()\"><h1>Toggle Code Visibility</h1></a>.''')"
   ]
  },
  {
   "cell_type": "markdown",
   "metadata": {
    "slideshow": {
     "slide_type": "slide"
    }
   },
   "source": [
    "## Data"
   ]
  },
  {
   "cell_type": "markdown",
   "metadata": {
    "slideshow": {
     "slide_type": "-"
    }
   },
   "source": [
    "We'll load the data and check it's shape."
   ]
  },
  {
   "cell_type": "code",
   "execution_count": 7,
   "metadata": {
    "slideshow": {
     "slide_type": "-"
    }
   },
   "outputs": [],
   "source": [
    "data_binarised_file = \"../data/processed/fly_data_binarised\"\n",
    "data_binarised = np.load(data_binarised_file + \".npy\")"
   ]
  },
  {
   "cell_type": "code",
   "execution_count": 8,
   "metadata": {
    "slideshow": {
     "slide_type": "-"
    }
   },
   "outputs": [
    {
     "data": {
      "text/plain": [
       "(2250, 15, 8, 13, 2)"
      ]
     },
     "execution_count": 8,
     "metadata": {},
     "output_type": "execute_result"
    }
   ],
   "source": [
    "data_binarised.shape"
   ]
  },
  {
   "cell_type": "code",
   "execution_count": 9,
   "metadata": {
    "slideshow": {
     "slide_type": "-"
    }
   },
   "outputs": [],
   "source": [
    "n_samples, n_channels, n_trials, n_flies, n_conds = data_binarised.shape"
   ]
  },
  {
   "cell_type": "markdown",
   "metadata": {
    "slideshow": {
     "slide_type": "slide"
    }
   },
   "source": [
    "## Channel Sets"
   ]
  },
  {
   "cell_type": "code",
   "execution_count": 10,
   "metadata": {
    "slideshow": {
     "slide_type": "-"
    }
   },
   "outputs": [],
   "source": [
    "channel_sets = {}\n",
    "\n",
    "for i in range(2, 4):\n",
    "    channel_set = {}\n",
    "    combinations = itertools.combinations(range(n_channels), i)\n",
    "    for j, c in enumerate(combinations):\n",
    "        channel_set[j] = c\n",
    "    channel_sets[i] = channel_set\n",
    "\n",
    "channel_sets[4] = {i:(i, i+1, i+2, i+3) for i in range(12)}"
   ]
  },
  {
   "cell_type": "markdown",
   "metadata": {
    "slideshow": {
     "slide_type": "skip"
    }
   },
   "source": [
    "## Utility Functions"
   ]
  },
  {
   "cell_type": "code",
   "execution_count": 11,
   "metadata": {
    "slideshow": {
     "slide_type": "skip"
    }
   },
   "outputs": [],
   "source": [
    "def extract_value(data, i_result, field):\n",
    "    \"\"\" Extracts a value from the ch_group_results data structure.\n",
    "    \n",
    "    Args:\n",
    "        data: The processed data structure from sio.loadmat[data_field]\n",
    "        i_result: The index of the result in the data structure.\n",
    "        field: A string, which must be one of:\n",
    "            - \"state_phis\"\n",
    "            - \"tpm\"\n",
    "            - \"state_counts\"\n",
    "            - \"i_trial\"\n",
    "            - \"i_fly\"\n",
    "            - \"i_cond\"\n",
    "            - \"channels\"\n",
    "            - \"all\"\n",
    "    \n",
    "    Returns:\n",
    "        A np.ndarray of the extracted data.\n",
    "    \n",
    "    \"\"\"\n",
    "    \n",
    "    if field == \"state_phis\" or field == \"channels\" or field == \"state_counts\":\n",
    "        return data[0, i_result][0, 0][field].flatten()\n",
    "    elif field == \"i_trial\" or field == \"i_cond\" or field == \"i_fly\":\n",
    "        return data[0, i_result][0, 0][field][0, 0]\n",
    "    elif field == \"tpm\":\n",
    "        return data[0, i_result][0, 0][field]\n",
    "    elif field == \"all\":\n",
    "        return data[0, i_result][0, 0]\n",
    "    else:\n",
    "        raise ValueError(\"Field not recognised in input data.\")"
   ]
  },
  {
   "cell_type": "markdown",
   "metadata": {
    "slideshow": {
     "slide_type": "skip"
    }
   },
   "source": [
    "## $\\Phi$ Results DataFrame"
   ]
  },
  {
   "cell_type": "code",
   "execution_count": 12,
   "metadata": {
    "scrolled": false,
    "slideshow": {
     "slide_type": "skip"
    }
   },
   "outputs": [],
   "source": [
    "# %%time\n",
    "# glob_str = \"../data/processed/phis/*\"\n",
    "\n",
    "# files = glob.glob(glob_str)\n",
    "\n",
    "# n_res_per_file = n_trials * n_flies * n_conds\n",
    "\n",
    "# index = range(len(files) * n_res_per_file)\n",
    "# columns = [\"method\", \"ch_num\", \"ch_set\", \"ch_group\", \"value\", \"i_cond\", \"i_fly\", \"i_trial\"]\n",
    "\n",
    "# df = pd.DataFrame(index=index, columns=columns)\n",
    "\n",
    "# for i, file in enumerate(files):\n",
    "    \n",
    "#     if i % 200 == 0:\n",
    "#         print(\"DONE {}\".format(i))\n",
    "    \n",
    "#     method = re.search(r\"METHOD_(.*?)_\", file).group(1)\n",
    "#     ch_num = int(re.search(r\"PHI_(\\d+)\", file).group(1))\n",
    "#     ch_group = tuple(map(int, re.findall(r\"\\d+\", file.split(\"CHS_\")[1])))\n",
    "#     ch_set = int(re.search(r\"CHSET_(\\d+)\", file).group(1))\n",
    "    \n",
    "#     file_results = sio.loadmat(file)\n",
    "#     data = file_results[\"ch_group_results\"]\n",
    "\n",
    "#     n_results = data.shape[1]\n",
    "\n",
    "#     for i_r in range(n_results):\n",
    "#         i_trial = extract_value(data, i_r, \"i_trial\")\n",
    "#         i_fly = extract_value(data, i_r, \"i_fly\")\n",
    "#         i_cond = extract_value(data, i_r, \"i_cond\")\n",
    "\n",
    "#         phis = extract_value(data, i_r, \"state_phis\")\n",
    "#         counts = extract_value(data, i_r, \"state_counts\")\n",
    "#         if ch_num == 3: # this run had a superfluous state\n",
    "#             phis = phis[:-1]\n",
    "#         weighted_phi = (phis * (counts / counts.sum())).sum()\n",
    "        \n",
    "#         i_row = i * n_res_per_file + i_r\n",
    "        \n",
    "#         df.iat[i_row, 0] = method\n",
    "#         df.iat[i_row, 1] = ch_num\n",
    "#         df.iat[i_row, 2] = ch_set\n",
    "#         df.iat[i_row, 3] = ch_group\n",
    "#         df.iat[i_row, 4] = weighted_phi\n",
    "#         df.iat[i_row, 5] = i_cond        \n",
    "#         df.iat[i_row, 6] = i_fly\n",
    "#         df.iat[i_row, 7] = i_trial"
   ]
  },
  {
   "cell_type": "markdown",
   "metadata": {
    "slideshow": {
     "slide_type": "skip"
    }
   },
   "source": [
    "### Control Data"
   ]
  },
  {
   "cell_type": "markdown",
   "metadata": {
    "slideshow": {
     "slide_type": "skip"
    }
   },
   "source": [
    "Let's use the Pearson's correlation coefficient between every pair of 2 channels as a control measure for decoding."
   ]
  },
  {
   "cell_type": "code",
   "execution_count": 13,
   "metadata": {
    "scrolled": true,
    "slideshow": {
     "slide_type": "skip"
    }
   },
   "outputs": [],
   "source": [
    "# %%time\n",
    "# cs = list(itertools.combinations(range(15), 2))\n",
    "\n",
    "# index = range(len(cs) * n_trials * n_flies * n_conds)\n",
    "# columns = [\"method\", \"ch_num\", \"ch_set\", \"ch_group\", \"value\", \"i_cond\", \"i_fly\", \"i_trial\"]\n",
    "\n",
    "# control_data = pd.DataFrame(index=index, columns=columns)\n",
    "\n",
    "# i_row = 0\n",
    "\n",
    "# for i_combo, c in enumerate(cs):\n",
    "    \n",
    "#     for i_trial in range(n_trials):\n",
    "#         for i_fly in range(n_flies):\n",
    "#             for i_cond in range(n_conds):\n",
    "#                 coeff = np.corrcoef(data_binarised[:, c[0], i_trial, i_fly, i_cond],\n",
    "#                                     data_binarised[:, c[1], i_trial, i_fly, i_cond]\n",
    "#                                    )\n",
    "                \n",
    "#                 control_data.iat[i_row, 0] = \"corr_coef\"\n",
    "#                 control_data.iat[i_row, 1] = 2\n",
    "#                 control_data.iat[i_row, 2] = i_combo\n",
    "#                 control_data.iat[i_row, 3] = tuple(c)\n",
    "#                 control_data.iat[i_row, 4] = coeff[0, 1]\n",
    "#                 control_data.iat[i_row, 5] = i_cond\n",
    "#                 control_data.iat[i_row, 6] = i_fly\n",
    "#                 control_data.iat[i_row, 7] = i_trial\n",
    "\n",
    "#                 i_row += 1"
   ]
  },
  {
   "cell_type": "code",
   "execution_count": 14,
   "metadata": {
    "slideshow": {
     "slide_type": "skip"
    }
   },
   "outputs": [],
   "source": [
    "# ddata = df.append(control_data)"
   ]
  },
  {
   "cell_type": "markdown",
   "metadata": {
    "slideshow": {
     "slide_type": "skip"
    }
   },
   "source": [
    "### Storing Data"
   ]
  },
  {
   "cell_type": "code",
   "execution_count": 15,
   "metadata": {
    "slideshow": {
     "slide_type": "skip"
    }
   },
   "outputs": [],
   "source": [
    "# SAVE\n",
    "#with pd.HDFStore('../data/processed/ddata.h5') as store:\n",
    "#    store['ddata'] = ddata"
   ]
  },
  {
   "cell_type": "markdown",
   "metadata": {
    "slideshow": {
     "slide_type": "skip"
    }
   },
   "source": [
    "# Decoding"
   ]
  },
  {
   "cell_type": "code",
   "execution_count": 16,
   "metadata": {
    "slideshow": {
     "slide_type": "subslide"
    }
   },
   "outputs": [],
   "source": [
    "ch_nums = [2, 3, 4] # list of channel group sizes\n",
    "\n",
    "methods_ch_nums = {}\n",
    "\n",
    "for ch_num in ch_nums:\n",
    "    methods = [\"direct\"]\n",
    "    if ch_num == 2:\n",
    "        methods.append(\"corr_coef\")\n",
    "    for i in range(1, ch_num+1):\n",
    "        methods.append(\"logistic{}\".format(i))\n",
    "    methods_ch_nums[ch_num] = methods"
   ]
  },
  {
   "cell_type": "markdown",
   "metadata": {
    "slideshow": {
     "slide_type": "slide"
    }
   },
   "source": [
    "## Across-Trials, Within-Fly, Within-Channel Groups"
   ]
  },
  {
   "cell_type": "markdown",
   "metadata": {
    "slideshow": {
     "slide_type": "fragment"
    }
   },
   "source": [
    "This will give us 1 classification score for each fly, for each channel group (for each method).\n",
    "\n",
    "Each classification set will have `n_trials * n_conds = 16` samples."
   ]
  },
  {
   "cell_type": "code",
   "execution_count": 58,
   "metadata": {
    "slideshow": {
     "slide_type": "skip"
    }
   },
   "outputs": [],
   "source": [
    "# def group_w_ch(d, folds):\n",
    "    \n",
    "#     # Folds is the number of folds for K-folds cross validation.\n",
    "#     # If folds == 0, then use Leave-One-Out (i.e. K = n_samples)\n",
    "    \n",
    "#     xs = d[\"value\"]\n",
    "#     xs_in = np.array(xs).astype(float).reshape(-1, 1)\n",
    "#     ys = d[\"i_cond\"]\n",
    "#     ys_in = np.array(ys).astype(int)\n",
    "#     model = NearestCentroid()\n",
    "    \n",
    "#     # assert(len(xs_in) == len(ys_in))\n",
    "    \n",
    "#     if folds == 0:\n",
    "#         folds = LeaveOneOut()\n",
    "\n",
    "#     scores = cross_val_score(model, xs_in, ys_in, cv=folds) # cv = n_samples is equivalent to leave one out.\n",
    "    \n",
    "#     data_dict = {\"score_mean\": scores.mean(),\n",
    "#                  \"score_std\": scores.std(),\n",
    "#                  \"n_samples\": xs_in.shape[0]\n",
    "#                 }\n",
    "    \n",
    "#     return pd.Series(data_dict)"
   ]
  },
  {
   "cell_type": "code",
   "execution_count": 18,
   "metadata": {
    "slideshow": {
     "slide_type": "skip"
    }
   },
   "outputs": [],
   "source": [
    "# def group_w_fly_w_ch(d):\n",
    "#     return group_w_ch(d, 0)"
   ]
  },
  {
   "cell_type": "code",
   "execution_count": 19,
   "metadata": {
    "slideshow": {
     "slide_type": "skip"
    }
   },
   "outputs": [],
   "source": [
    "# %%time\n",
    "# w_fly_w_ch = ddata.groupby([\"method\", \"ch_num\", \"ch_set\", \"i_fly\"]).apply(group_w_fly_w_ch)"
   ]
  },
  {
   "cell_type": "code",
   "execution_count": 20,
   "metadata": {
    "slideshow": {
     "slide_type": "skip"
    }
   },
   "outputs": [],
   "source": [
    "# # SAVE\n",
    "# with pd.HDFStore('../data/processed/decoding.h5') as store:\n",
    "#     store['w_fly_w_ch'] = w_fly_w_ch"
   ]
  },
  {
   "cell_type": "code",
   "execution_count": 21,
   "metadata": {
    "slideshow": {
     "slide_type": "subslide"
    }
   },
   "outputs": [],
   "source": [
    "def plot_w_fly_w_ch(ch_num, ch_set):\n",
    "\n",
    "    fig = plt.figure(figsize=(8, 4), dpi= 80)\n",
    "    \n",
    "    methods = methods_ch_nums[ch_num] # methods_ch_nums is global\n",
    "    n_methods = len(methods)\n",
    "    \n",
    "    w = 0.1\n",
    "    #mid_fly = n_flies // 2 # n_flies is global\n",
    "    mid_method = n_methods // 2\n",
    "    \n",
    "    for i_m, method in enumerate(methods):\n",
    "        \n",
    "        #d = w_fly_w_ch.loc[methods, ch_num, ch_set, i_fly]\n",
    "        d = w_fly_w_ch.loc[method, ch_num, ch_set]\n",
    "        \n",
    "        scores = d.score_mean.values\n",
    "        stds = d.score_std.values\n",
    "        x_pos = list(map(lambda x: x + ((i_m - mid_method) * (w*1.5)), range(n_flies)))\n",
    "        \n",
    "        \n",
    "        plt.title(\"PHI {} for Channel Group {}\".format(ch_num, \"-\".join(map(str, channel_sets[ch_num][ch_set]))))\n",
    "        plt.bar(x_pos,\n",
    "            scores,\n",
    "            width = w,\n",
    "            #tick_label = tick_labels,\n",
    "            #color = [colors[r.get(\"ch_num\") - 2] for r in r_fly],\n",
    "            #yerr = stds\n",
    "            label=method\n",
    "            )\n",
    "        plt.ylim((0, 1))   \n",
    "\n",
    "    plt.legend(loc=\"upper right\")\n",
    "    plt.xlabel(\"Fly\")\n",
    "    plt.ylabel(\"Mean Decoding Accuracy (from LOO CV)\")"
   ]
  },
  {
   "cell_type": "code",
   "execution_count": 22,
   "metadata": {
    "slideshow": {
     "slide_type": "subslide"
    }
   },
   "outputs": [
    {
     "data": {
      "application/vnd.jupyter.widget-view+json": {
       "model_id": "6985779dd94f4cd2b68192ee8a81bad1",
       "version_major": 2,
       "version_minor": 0
      },
      "text/plain": [
       "interactive(children=(Select(description='ch_set', options=(0, 1, 2, 3, 4, 5, 6, 7, 8, 9, 10, 11, 12, 13, 14, …"
      ]
     },
     "metadata": {},
     "output_type": "display_data"
    },
    {
     "data": {
      "text/plain": [
       "<function __main__.plot_w_fly_w_ch(ch_num, ch_set)>"
      ]
     },
     "execution_count": 22,
     "metadata": {},
     "output_type": "execute_result"
    }
   ],
   "source": [
    "n_test = 2\n",
    "\n",
    "interact(plot_w_fly_w_ch, \n",
    "         ch_num=fixed(n_test),\n",
    "         ch_set=widgets.Select(options=channel_sets[n_test].keys(), value=0)\n",
    "        )"
   ]
  },
  {
   "cell_type": "code",
   "execution_count": 23,
   "metadata": {
    "slideshow": {
     "slide_type": "subslide"
    }
   },
   "outputs": [
    {
     "data": {
      "application/vnd.jupyter.widget-view+json": {
       "model_id": "78726c2abbe34007a5601347317a74a9",
       "version_major": 2,
       "version_minor": 0
      },
      "text/plain": [
       "interactive(children=(Select(description='ch_set', options=(0, 1, 2, 3, 4, 5, 6, 7, 8, 9, 10, 11, 12, 13, 14, …"
      ]
     },
     "metadata": {},
     "output_type": "display_data"
    },
    {
     "data": {
      "text/plain": [
       "<function __main__.plot_w_fly_w_ch(ch_num, ch_set)>"
      ]
     },
     "execution_count": 23,
     "metadata": {},
     "output_type": "execute_result"
    }
   ],
   "source": [
    "n_test = 3\n",
    "interact(plot_w_fly_w_ch, \n",
    "         ch_num=fixed(n_test),\n",
    "         ch_set=widgets.Select(options=channel_sets[n_test].keys(), value=0)\n",
    "        )"
   ]
  },
  {
   "cell_type": "code",
   "execution_count": 24,
   "metadata": {
    "slideshow": {
     "slide_type": "subslide"
    }
   },
   "outputs": [
    {
     "data": {
      "application/vnd.jupyter.widget-view+json": {
       "model_id": "8dcbf55b1eb74f46abe56cf03d3d1d31",
       "version_major": 2,
       "version_minor": 0
      },
      "text/plain": [
       "interactive(children=(Select(description='ch_set', options=(0, 1, 2, 3, 4, 5, 6, 7, 8, 9, 10, 11), value=0), O…"
      ]
     },
     "metadata": {},
     "output_type": "display_data"
    },
    {
     "data": {
      "text/plain": [
       "<function __main__.plot_w_fly_w_ch(ch_num, ch_set)>"
      ]
     },
     "execution_count": 24,
     "metadata": {},
     "output_type": "execute_result"
    }
   ],
   "source": [
    "n_test = 4\n",
    "\n",
    "interact(plot_w_fly_w_ch, \n",
    "         ch_num=fixed(n_test),\n",
    "         ch_set=widgets.Select(options=channel_sets[n_test].keys(), value=0)\n",
    "        )"
   ]
  },
  {
   "cell_type": "markdown",
   "metadata": {
    "slideshow": {
     "slide_type": "subslide"
    }
   },
   "source": [
    "### WFWC Summarised Results"
   ]
  },
  {
   "cell_type": "code",
   "execution_count": 25,
   "metadata": {
    "slideshow": {
     "slide_type": "skip"
    }
   },
   "outputs": [],
   "source": [
    "def summarise(data):\n",
    "    \n",
    "    summary = []\n",
    "    \n",
    "    cmap=pylab.get_cmap(\"Set1\")\n",
    "    \n",
    "    i_m = 0\n",
    "        \n",
    "    for ch_num in ch_nums:\n",
    "        \n",
    "        methods = methods_ch_nums[ch_num] # methods_ch_nums is global\n",
    "        n_methods = len(methods)\n",
    "    \n",
    "        for i_method, method in enumerate(methods):\n",
    "            \n",
    "            grouped = data.loc[method, ch_num]\n",
    "            \n",
    "            if len(grouped.shape) > 1:\n",
    "                agg_mean = grouped.mean()[\"score_mean\"]\n",
    "                agg_std = grouped.std()[\"score_mean\"]\n",
    "            else:\n",
    "                agg_mean = grouped[\"score_mean\"]\n",
    "                agg_std = grouped[\"score_std\"]\n",
    "            \n",
    "            tick_label = \"{}ch-{}\".format(ch_num, method)\n",
    "            \n",
    "            if method == \"corr_coef\": #ensure corr_coef is first\n",
    "                order_i = -1\n",
    "                c = cmap(0)\n",
    "            else:\n",
    "                order_i = i_m\n",
    "                c = cmap(ch_num)\n",
    "                i_m += 1\n",
    "            \n",
    "            agg = {\"mean\": agg_mean, \"err\": agg_std, \"color\": c, \"i\": order_i, \"tick_label\": tick_label}\n",
    "\n",
    "            summary.append(agg)\n",
    "            \n",
    "    return summary"
   ]
  },
  {
   "cell_type": "code",
   "execution_count": 26,
   "metadata": {
    "slideshow": {
     "slide_type": "skip"
    }
   },
   "outputs": [],
   "source": [
    "def plot_summary(data):\n",
    "    \n",
    "    fig = plt.figure(figsize=(8, 8), dpi= 80)\n",
    "    \n",
    "    summary = summarise(data)\n",
    "    \n",
    "    ys = [s[\"i\"] for s in summary]\n",
    "    xs = [s[\"mean\"] for s in summary]\n",
    "    xs_err = [s[\"err\"] for s in summary]\n",
    "    cs = [s[\"color\"] for s in summary]\n",
    "    yticks = [s[\"tick_label\"] for s in summary]\n",
    "            \n",
    "    #plt.scatter(ys, xs) # swap to make methods y-axis\n",
    "    #plt.errorbar(ys, xs_order, xerr=ys_err, yerr=None, ecolor=\"grey\", color=cs)\n",
    "    \n",
    "    for i, x in enumerate(xs):\n",
    "        plt.errorbar(x, ys[i], xerr=xs_err[i], yerr=None, ecolor=\"grey\", color=cs[i], marker=\"o\")\n",
    "    \n",
    "    plt.axvline(0.5, color=\"red\", linestyle=\":\")\n",
    "    plt.xlim((0.3, 1))\n",
    "    plt.yticks(ys, yticks)"
   ]
  },
  {
   "cell_type": "code",
   "execution_count": 27,
   "metadata": {
    "slideshow": {
     "slide_type": "-"
    }
   },
   "outputs": [
    {
     "data": {
      "image/png": "[encoded data removed]",
      "text/plain": [
       "<Figure size 640x640 with 1 Axes>"
      ]
     },
     "metadata": {
      "needs_background": "light"
     },
     "output_type": "display_data"
    }
   ],
   "source": [
    "plot_summary(w_fly_w_ch)\n",
    "plt.xlabel(\"Mean Decoding Accuracy (across LOO CV)\")\n",
    "plt.title(\"Decoding by Method (Within-Fly, Within-Channel Group)\")\n",
    "None"
   ]
  },
  {
   "cell_type": "markdown",
   "metadata": {
    "slideshow": {
     "slide_type": "slide"
    }
   },
   "source": [
    "## Across-Trials, Across-Fly, Within-Channel Groups"
   ]
  },
  {
   "cell_type": "markdown",
   "metadata": {
    "slideshow": {
     "slide_type": "-"
    }
   },
   "source": [
    "This will give us 1 classification score for each channel group (for each method).\n",
    "\n",
    "Each classification set will have `n_trials * n_conds * n_flies = 208` samples. "
   ]
  },
  {
   "cell_type": "code",
   "execution_count": 28,
   "metadata": {
    "slideshow": {
     "slide_type": "skip"
    }
   },
   "outputs": [],
   "source": [
    "# def group_a_fly_w_ch(d):\n",
    "#     return group_w_ch(d, 3)"
   ]
  },
  {
   "cell_type": "code",
   "execution_count": 29,
   "metadata": {
    "slideshow": {
     "slide_type": "skip"
    }
   },
   "outputs": [],
   "source": [
    "# %%time\n",
    "# a_fly_w_ch = ddata.groupby([\"method\", \"ch_num\", \"ch_set\"]).apply(group_a_fly_w_ch)"
   ]
  },
  {
   "cell_type": "code",
   "execution_count": 59,
   "metadata": {},
   "outputs": [
    {
     "name": "stdout",
     "output_type": "stream",
     "text": [
      "CPU times: user 10min 42s, sys: 5.93 s, total: 10min 48s\n",
      "Wall time: 11min 8s\n"
     ]
    }
   ],
   "source": [
    "# %%time\n",
    "# # TESTER TO ALIGN WITH AVG-ACROSS-TRIAL METHOD\n",
    "# a_fly_w_ch_TEST = ddata.groupby([\"method\", \"ch_num\", \"ch_set\", \"i_trial\"]).apply(lambda x: group_w_ch(x, 0))"
   ]
  },
  {
   "cell_type": "code",
   "execution_count": 30,
   "metadata": {
    "slideshow": {
     "slide_type": "skip"
    }
   },
   "outputs": [],
   "source": [
    "# # SAVE\n",
    "# with pd.HDFStore('../data/processed/decoding.h5') as store:\n",
    "#     store['a_fly_w_ch'] = a_fly_w_ch"
   ]
  },
  {
   "cell_type": "code",
   "execution_count": 66,
   "metadata": {
    "slideshow": {
     "slide_type": "skip"
    }
   },
   "outputs": [],
   "source": [
    "def plot_a_fly_w_ch(ch_num):\n",
    "\n",
    "    methods = methods_ch_nums[ch_num] # methods_ch_nums is global\n",
    "    n_methods = len(methods)\n",
    "    \n",
    "    fig, ax = plt.subplots(n_methods, 1, figsize=(8, 8), dpi= 80, sharex = True, sharey = True)\n",
    "    \n",
    "    #w = 0.1\n",
    "    #mid_fly = n_flies // 2 # n_flies is global\n",
    "    mid_method = n_methods // 2\n",
    "    \n",
    "    for i_m, method in enumerate(methods):\n",
    "        \n",
    "        d = a_fly_w_ch.loc[method, ch_num]\n",
    "        \n",
    "        scores = d.score_mean.values\n",
    "        stds = d.score_std.values\n",
    "        x_pos = range(len(scores))\n",
    "        \n",
    "        ax[i_m].bar(x_pos,\n",
    "                    scores,\n",
    "                    #width = w,\n",
    "                    #tick_label = tick_labels,\n",
    "                    #yerr = stds,\n",
    "                    label=method\n",
    "                    )\n",
    "        ax[i_m].set_ylim((.5, 1))   \n",
    "        ax[i_m].set_title(\"PHI {} ch {}\".format(ch_num, method))\n",
    "        \n",
    "        if i_m == n_methods - 1:\n",
    "            ax[i_m].set_xlabel(\"Channel Set\")\n",
    "\n",
    "    #plt.legend(loc=\"upper right\")\n",
    "    fig.text(0, 0.5, 'Mean Decoding Accuracy (across 3-Fold CV)', va='center', rotation='vertical')\n",
    "    fig.tight_layout()"
   ]
  },
  {
   "cell_type": "code",
   "execution_count": 32,
   "metadata": {
    "scrolled": false,
    "slideshow": {
     "slide_type": "subslide"
    }
   },
   "outputs": [
    {
     "data": {
      "image/png": "[encoded data removed]",
      "text/plain": [
       "<Figure size 640x640 with 4 Axes>"
      ]
     },
     "metadata": {
      "needs_background": "light"
     },
     "output_type": "display_data"
    }
   ],
   "source": [
    "plot_a_fly_w_ch(2)"
   ]
  },
  {
   "cell_type": "code",
   "execution_count": 33,
   "metadata": {
    "slideshow": {
     "slide_type": "subslide"
    }
   },
   "outputs": [
    {
     "data": {
      "image/png": "[encoded data removed]",
      "text/plain": [
       "<Figure size 640x640 with 4 Axes>"
      ]
     },
     "metadata": {
      "needs_background": "light"
     },
     "output_type": "display_data"
    }
   ],
   "source": [
    "plot_a_fly_w_ch(3)"
   ]
  },
  {
   "cell_type": "code",
   "execution_count": 34,
   "metadata": {
    "scrolled": false,
    "slideshow": {
     "slide_type": "subslide"
    }
   },
   "outputs": [
    {
     "data": {
      "image/png": "[encoded data removed]",
      "text/plain": [
       "<Figure size 640x640 with 5 Axes>"
      ]
     },
     "metadata": {
      "needs_background": "light"
     },
     "output_type": "display_data"
    }
   ],
   "source": [
    "plot_a_fly_w_ch(4)"
   ]
  },
  {
   "cell_type": "markdown",
   "metadata": {
    "slideshow": {
     "slide_type": "subslide"
    }
   },
   "source": [
    "### AFWC Summarised Results"
   ]
  },
  {
   "cell_type": "code",
   "execution_count": 67,
   "metadata": {},
   "outputs": [
    {
     "data": {
      "image/png": "[encoded data removed]",
      "text/plain": [
       "<Figure size 640x640 with 1 Axes>"
      ]
     },
     "metadata": {
      "needs_background": "light"
     },
     "output_type": "display_data"
    }
   ],
   "source": [
    "plot_summary(a_fly_w_ch)\n",
    "plt.xlabel(\"Mean Decoding Accuracy (across 3-Fold CVs)\")\n",
    "plt.title(\"Decoding by Method (Across-Fly, Within-Channel Group)\")\n",
    "None"
   ]
  },
  {
   "cell_type": "markdown",
   "metadata": {
    "slideshow": {
     "slide_type": "slide"
    }
   },
   "source": [
    "## Across-Trials, Within-Fly, Across-Channel Groups"
   ]
  },
  {
   "cell_type": "markdown",
   "metadata": {},
   "source": [
    "This will give us 1 classification score for each fly (for each method).\n",
    "\n",
    "Each classification set will have `n_trials * n_conds = 16` samples. Each sample will have a multidimensional independent variable, with the number of dimensions equalling the number of channel groups."
   ]
  },
  {
   "cell_type": "code",
   "execution_count": 36,
   "metadata": {
    "slideshow": {
     "slide_type": "skip"
    }
   },
   "outputs": [],
   "source": [
    "# def group_a_ch(d, folds):\n",
    "    \n",
    "#     grouped = d.groupby(\"ch_set\")\n",
    "#     ch_groups = set(d[\"ch_set\"])\n",
    "    \n",
    "#     applied = grouped.apply(lambda x: x.value)\n",
    "    \n",
    "#     xs = np.stack([applied.loc[i] for i in ch_groups], axis=1).astype(float)\n",
    "#     ys = grouped.apply(lambda x: x.i_cond).loc[0].astype(int) # should be same for all\n",
    "    \n",
    "#     model = NearestCentroid()\n",
    "    \n",
    "#     if folds == 0:\n",
    "#         folds = LeaveOneOut()\n",
    "\n",
    "#     scores = cross_val_score(model, xs, ys, cv=folds) # leave one out cross-validation\n",
    "    \n",
    "#     data_dict = {\"score_mean\": scores.mean(),\n",
    "#                  \"score_std\": scores.std(),\n",
    "#                  \"n_samples\": xs.shape[0]\n",
    "#                 }\n",
    "    \n",
    "#     return pd.Series(data_dict)"
   ]
  },
  {
   "cell_type": "code",
   "execution_count": 37,
   "metadata": {
    "slideshow": {
     "slide_type": "skip"
    }
   },
   "outputs": [],
   "source": [
    "# def group_w_fly_a_ch(d):\n",
    "#     return group_a_ch(d, 0)"
   ]
  },
  {
   "cell_type": "code",
   "execution_count": 38,
   "metadata": {
    "scrolled": true,
    "slideshow": {
     "slide_type": "skip"
    }
   },
   "outputs": [],
   "source": [
    "# %%time\n",
    "# w_fly_a_ch = ddata.groupby([\"method\", \"ch_num\", \"i_fly\"]).apply(group_w_fly_a_ch)"
   ]
  },
  {
   "cell_type": "code",
   "execution_count": 39,
   "metadata": {
    "slideshow": {
     "slide_type": "skip"
    }
   },
   "outputs": [],
   "source": [
    "# # SAVE\n",
    "# with pd.HDFStore('../data/processed/decoding.h5') as store:\n",
    "#     store['w_fly_a_ch'] = w_fly_a_ch"
   ]
  },
  {
   "cell_type": "code",
   "execution_count": 40,
   "metadata": {
    "slideshow": {
     "slide_type": "skip"
    }
   },
   "outputs": [],
   "source": [
    "def plot_w_fly_a_ch():\n",
    "\n",
    "    fig = plt.figure(figsize=(12, 4), dpi= 80)\n",
    "    \n",
    "    w = 0.045\n",
    "    #mid_fly = n_flies // 2 # n_flies is global\n",
    "    \n",
    "    i_m = 0\n",
    "    \n",
    "    mid_method = 13 // 2 # total number of methods is 13\n",
    "    \n",
    "    for ch_num in ch_nums:\n",
    "        \n",
    "        methods = methods_ch_nums[ch_num] # methods_ch_nums is global\n",
    "        n_methods = len(methods)\n",
    "    \n",
    "        for i_method, method in enumerate(methods):\n",
    "\n",
    "            d = w_fly_a_ch.loc[method, ch_num]\n",
    "\n",
    "            scores = d.score_mean.values\n",
    "            stds = d.score_std.values\n",
    "            x_pos = list(map(lambda x: x + ((i_m - mid_method) * (w*1.5)), range(n_flies)))\n",
    "\n",
    "\n",
    "            #if i_fly == mid_fly:\n",
    "            #    tick_labels = [\"{} ch {}\".format(ch_num, method) for method in methods]\n",
    "            #else:\n",
    "            #    tick_labels = None\n",
    "\n",
    "            plt.title(\"Decoding by Method by Fly\")\n",
    "            plt.bar(x_pos,\n",
    "                scores,\n",
    "                width = w,\n",
    "                #tick_label = tick_labels,\n",
    "                #color = [colors[r.get(\"ch_num\") - 2] for r in r_fly],\n",
    "                #yerr = stds,\n",
    "                label=\"{}ch-{}\".format(ch_num, method)\n",
    "                )\n",
    "            plt.ylim((0, 1)) \n",
    "            \n",
    "            plt.xlabel(\"Fly\")\n",
    "            plt.ylabel(\"Mean Decoding Accuracy (across LOO CV)\")\n",
    "            \n",
    "            i_m += 1\n",
    "\n",
    "        plt.legend(loc='center left', bbox_to_anchor=(1, 0.5))"
   ]
  },
  {
   "cell_type": "code",
   "execution_count": 41,
   "metadata": {
    "slideshow": {
     "slide_type": "subslide"
    }
   },
   "outputs": [
    {
     "data": {
      "image/png": "[encoded data removed]",
      "text/plain": [
       "<Figure size 960x320 with 1 Axes>"
      ]
     },
     "metadata": {
      "needs_background": "light"
     },
     "output_type": "display_data"
    }
   ],
   "source": [
    "plot_w_fly_a_ch()"
   ]
  },
  {
   "cell_type": "markdown",
   "metadata": {
    "slideshow": {
     "slide_type": "subslide"
    }
   },
   "source": [
    "###  WFAC Summarised Results"
   ]
  },
  {
   "cell_type": "code",
   "execution_count": 42,
   "metadata": {
    "slideshow": {
     "slide_type": "-"
    }
   },
   "outputs": [
    {
     "data": {
      "image/png": "[encoded data removed]",
      "text/plain": [
       "<Figure size 640x640 with 1 Axes>"
      ]
     },
     "metadata": {
      "needs_background": "light"
     },
     "output_type": "display_data"
    }
   ],
   "source": [
    "plot_summary(w_fly_a_ch)\n",
    "plt.xlabel(\"Mean Decoding Accuracy (across LOO CVs)\")\n",
    "plt.title(\"Decoding by Method (Within-Fly, Across-Channel Groups)\")\n",
    "None"
   ]
  },
  {
   "cell_type": "markdown",
   "metadata": {
    "slideshow": {
     "slide_type": "slide"
    }
   },
   "source": [
    "## Across-Trials, Across-Flies, Across-Channel Groups"
   ]
  },
  {
   "cell_type": "markdown",
   "metadata": {},
   "source": [
    "This will give us 1 classification score (for each method).\n",
    "\n",
    "Each classification set will have `n_trials * n_conds = 208` samples. Each sample will have a multidimensional independent variable, with the number of dimensions equalling the number of channel groups."
   ]
  },
  {
   "cell_type": "markdown",
   "metadata": {},
   "source": [
    "> Note that perhaps the between-channel-number sets (i.e. between colours) are not comparable as the number of dimensions for decoding differs quite significantly (~100 for 2ch, ~400 for 3ch and only 12 for 4ch due to time constraints)."
   ]
  },
  {
   "cell_type": "code",
   "execution_count": 43,
   "metadata": {
    "slideshow": {
     "slide_type": "skip"
    }
   },
   "outputs": [],
   "source": [
    "# def group_a_fly_a_ch(d):\n",
    "#     return group_a_ch(d, 3)"
   ]
  },
  {
   "cell_type": "code",
   "execution_count": 44,
   "metadata": {
    "scrolled": true,
    "slideshow": {
     "slide_type": "skip"
    }
   },
   "outputs": [],
   "source": [
    "# %%time\n",
    "# a_fly_a_ch = ddata.groupby([\"method\", \"ch_num\"]).apply(group_a_fly_a_ch)"
   ]
  },
  {
   "cell_type": "code",
   "execution_count": 45,
   "metadata": {
    "slideshow": {
     "slide_type": "skip"
    }
   },
   "outputs": [],
   "source": [
    "# # SAVE\n",
    "# with pd.HDFStore('../data/processed/decoding.h5') as store:\n",
    "#     store['a_fly_a_ch'] = a_fly_a_ch"
   ]
  },
  {
   "cell_type": "code",
   "execution_count": 46,
   "metadata": {
    "slideshow": {
     "slide_type": "skip"
    }
   },
   "outputs": [],
   "source": [
    "def plot_a_fly_a_ch():\n",
    "\n",
    "    fig = plt.figure(figsize=(12, 4), dpi= 80)\n",
    "    \n",
    "    #w = 0.045\n",
    "    #mid_fly = n_flies // 2 # n_flies is global\n",
    "    \n",
    "    i_m = 0\n",
    "        \n",
    "    score_list = []\n",
    "    std_list = []\n",
    "    tick_labels = []\n",
    "    colours = []\n",
    "    \n",
    "    cmap=pylab.get_cmap(\"Set1\")\n",
    "    \n",
    "    for ch_num in ch_nums:\n",
    "        \n",
    "        methods = methods_ch_nums[ch_num] # methods_ch_nums is global\n",
    "        n_methods = len(methods)\n",
    "    \n",
    "        for i_method, method in enumerate(methods):\n",
    "\n",
    "            d = a_fly_a_ch.loc[method, ch_num]\n",
    "\n",
    "            scores = d.score_mean\n",
    "            stds = d.score_std\n",
    "            \n",
    "            if \"corr_coef\" in method:\n",
    "                colours.append(cmap(0))\n",
    "            else:\n",
    "                colours.append(cmap(ch_num))\n",
    "            score_list.append(scores)\n",
    "            std_list.append(stds)\n",
    "            tick_labels.append(\"{}ch-{}\".format(ch_num, method))\n",
    "            \n",
    "    plt.title(\"Decoding by Method\")\n",
    "    order = [1, -0.3] + list(range(2, 13)) # ensure corr_coef is first\n",
    "    plt.bar(order,\n",
    "        score_list,\n",
    "        color=colours,\n",
    "        yerr = std_list,\n",
    "        )\n",
    "    plt.xticks(order, tick_labels, rotation=\"vertical\")\n",
    "    plt.ylim((0.5, 1)) \n",
    "    \n",
    "    plt.ylabel(\"Mean Decoding Accuracy (across 3-Fold CV)\")\n"
   ]
  },
  {
   "cell_type": "code",
   "execution_count": 47,
   "metadata": {
    "scrolled": false,
    "slideshow": {
     "slide_type": "subslide"
    }
   },
   "outputs": [
    {
     "data": {
      "image/png": "[encoded data removed]",
      "text/plain": [
       "<Figure size 960x320 with 1 Axes>"
      ]
     },
     "metadata": {
      "needs_background": "light"
     },
     "output_type": "display_data"
    }
   ],
   "source": [
    "plot_a_fly_a_ch()"
   ]
  },
  {
   "cell_type": "markdown",
   "metadata": {},
   "source": [
    "### AFAC Summarised Results"
   ]
  },
  {
   "cell_type": "markdown",
   "metadata": {
    "slideshow": {
     "slide_type": "subslide"
    }
   },
   "source": [
    "To make the summarised results the same visual layout as the others:"
   ]
  },
  {
   "cell_type": "code",
   "execution_count": 48,
   "metadata": {
    "scrolled": false
   },
   "outputs": [
    {
     "data": {
      "image/png": "[encoded data removed]",
      "text/plain": [
       "<Figure size 640x640 with 1 Axes>"
      ]
     },
     "metadata": {
      "needs_background": "light"
     },
     "output_type": "display_data"
    }
   ],
   "source": [
    "plot_summary(a_fly_a_ch)\n",
    "plt.xlabel(\"Mean Decoding Accuracy (across LOO CVs)\")\n",
    "plt.title(\"Decoding by Method (Across-Fly, Across-Channel Groups)\")\n",
    "None"
   ]
  },
  {
   "cell_type": "markdown",
   "metadata": {},
   "source": [
    "# Summarised Summary Results"
   ]
  },
  {
   "cell_type": "code",
   "execution_count": 49,
   "metadata": {},
   "outputs": [],
   "source": [
    "names = [\"Within-Fly, Per-Channel\", \n",
    "         \"Across-Fly, Per-Channel\",\n",
    "         \"Within-Fly, Multi-Channel\",\n",
    "         \"Across-Fly, Multi-Channel\"]"
   ]
  },
  {
   "cell_type": "code",
   "execution_count": 68,
   "metadata": {},
   "outputs": [],
   "source": [
    "summaries = list(map(summarise, [w_fly_w_ch, a_fly_w_ch, w_fly_a_ch, a_fly_a_ch]))"
   ]
  },
  {
   "cell_type": "code",
   "execution_count": 69,
   "metadata": {},
   "outputs": [],
   "source": [
    "def plot_agg_sum(summaries, names):\n",
    "    \n",
    "    fig = plt.figure(figsize=(8, 15), dpi= 80)\n",
    "    \n",
    "    n_summaries = len(summaries)\n",
    "    \n",
    "    mid_summary = n_summaries // 2\n",
    "    \n",
    "    markers = \".x*d\"\n",
    "    \n",
    "    for i_sum, summary in enumerate(summaries):\n",
    "    \n",
    "        ys = [s[\"i\"] for s in summary]\n",
    "        xs = [s[\"mean\"] for s in summary]\n",
    "        xs_err = [s[\"err\"] for s in summary]\n",
    "        cs = [s[\"color\"] for s in summary]\n",
    "        yticks = [s[\"tick_label\"] for s in summary]\n",
    "        \n",
    "        ys = list(map(lambda x: -(i_sum - mid_summary) * 0.15 + x, ys))\n",
    "\n",
    "        #plt.scatter(ys, xs) # swap to make methods y-axis\n",
    "        #plt.errorbar(ys, xs_order, xerr=ys_err, yerr=None, ecolor=\"grey\", color=cs)\n",
    "\n",
    "        for i, x in enumerate(xs):\n",
    "            plt.errorbar(x, ys[i], \n",
    "                         xerr=xs_err[i], yerr=None, ecolor=\"grey\", color=cs[i], \n",
    "                         marker=markers[i_sum]\n",
    "                        )\n",
    "            \n",
    "        if i_sum == mid_summary:\n",
    "            plt.yticks(ys, yticks)\n",
    "    \n",
    "    f = lambda m: plt.plot([],[],marker=m, color=\"k\", ls=\"none\")[0]\n",
    "    handles = [f(marker) for marker in markers]\n",
    "    \n",
    "    plt.legend(handles, names, loc='center left', bbox_to_anchor=(1, 0.5))\n",
    "    \n",
    "    plt.axvline(0.5, color=\"red\", linestyle=\":\")\n",
    "    plt.xlim((0.3, 1))\n",
    "\n"
   ]
  },
  {
   "cell_type": "code",
   "execution_count": 70,
   "metadata": {},
   "outputs": [
    {
     "data": {
      "image/png": "[encoded data removed]",
      "text/plain": [
       "<Figure size 640x1200 with 1 Axes>"
      ]
     },
     "metadata": {
      "needs_background": "light"
     },
     "output_type": "display_data"
    }
   ],
   "source": [
    "plot_agg_sum(summaries, names)"
   ]
  },
  {
   "cell_type": "code",
   "execution_count": null,
   "metadata": {},
   "outputs": [],
   "source": []
  }
 ],
 "metadata": {
  "kernelspec": {
   "display_name": "Python 3",
   "language": "python",
   "name": "python3"
  },
  "language_info": {
   "codemirror_mode": {
    "name": "ipython",
    "version": 3
   },
   "file_extension": ".py",
   "mimetype": "text/x-python",
   "name": "python",
   "nbconvert_exporter": "python",
   "pygments_lexer": "ipython3",
   "version": "3.6.8"
  },
  "widgets": {
   "application/vnd.jupyter.widget-state+json": {
    "state": {
     "0032db358ceb449097d9156c03f6ba43": {
      "model_module": "@jupyter-widgets/base",
      "model_module_version": "1.1.0",
      "model_name": "LayoutModel",
      "state": {}
     },
     "04ec219c3903412181aabbe58ffc1d1d": {
      "model_module": "@jupyter-widgets/controls",
      "model_module_version": "1.4.0",
      "model_name": "SelectModel",
      "state": {
       "_options_labels": [
        "0",
        "1",
        "2",
        "3",
        "4",
        "5",
        "6",
        "7",
        "8",
        "9",
        "10",
        "11"
       ],
       "description": "ch_set",
       "index": 0,
       "layout": "IPY_MODEL_8d2507962dca458cb2ea5408dbbf5ea0",
       "style": "IPY_MODEL_b45a0169c8724e11a13435ff84ab8277"
      }
     },
     "148f4b2dde6944fa90eefae611bdcaaf": {
      "model_module": "@jupyter-widgets/controls",
      "model_module_version": "1.4.0",
      "model_name": "DescriptionStyleModel",
      "state": {
       "description_width": ""
      }
     },
     "179ac2a7165d487bb91362e36e589e76": {
      "model_module": "@jupyter-widgets/base",
      "model_module_version": "1.1.0",
      "model_name": "LayoutModel",
      "state": {}
     },
     "1adbc55e9f594960accbfee578ed8b5b": {
      "model_module": "@jupyter-widgets/base",
      "model_module_version": "1.1.0",
      "model_name": "LayoutModel",
      "state": {}
     },
     "2a347c3107d544279cf28f6b18a08f73": {
      "model_module": "@jupyter-widgets/output",
      "model_module_version": "1.0.0",
      "model_name": "OutputModel",
      "state": {
       "layout": "IPY_MODEL_e1651b86c80c47e4ad29d84be3724ee0",
       "outputs": [
        {
         "data": {
          "image/png": "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\n",
          "text/plain": "<Figure size 640x320 with 1 Axes>"
         },
         "metadata": {
          "needs_background": "light"
         },
         "output_type": "display_data"
        }
       ]
      }
     },
     "2bb0e09def514b00a89fd083a90626bd": {
      "model_module": "@jupyter-widgets/base",
      "model_module_version": "1.1.0",
      "model_name": "LayoutModel",
      "state": {}
     },
     "3b5a0a87068f407e9d71f3c1e412be44": {
      "model_module": "@jupyter-widgets/controls",
      "model_module_version": "1.4.0",
      "model_name": "SelectModel",
      "state": {
       "_options_labels": [
        "0",
        "1",
        "2",
        "3",
        "4",
        "5",
        "6",
        "7",
        "8",
        "9",
        "10",
        "11",
        "12",
        "13",
        "14",
        "15",
        "16",
        "17",
        "18",
        "19",
        "20",
        "21",
        "22",
        "23",
        "24",
        "25",
        "26",
        "27",
        "28",
        "29",
        "30",
        "31",
        "32",
        "33",
        "34",
        "35",
        "36",
        "37",
        "38",
        "39",
        "40",
        "41",
        "42",
        "43",
        "44",
        "45",
        "46",
        "47",
        "48",
        "49",
        "50",
        "51",
        "52",
        "53",
        "54",
        "55",
        "56",
        "57",
        "58",
        "59",
        "60",
        "61",
        "62",
        "63",
        "64",
        "65",
        "66",
        "67",
        "68",
        "69",
        "70",
        "71",
        "72",
        "73",
        "74",
        "75",
        "76",
        "77",
        "78",
        "79",
        "80",
        "81",
        "82",
        "83",
        "84",
        "85",
        "86",
        "87",
        "88",
        "89",
        "90",
        "91",
        "92",
        "93",
        "94",
        "95",
        "96",
        "97",
        "98",
        "99",
        "100",
        "101",
        "102",
        "103",
        "104",
        "105",
        "106",
        "107",
        "108",
        "109",
        "110",
        "111",
        "112",
        "113",
        "114",
        "115",
        "116",
        "117",
        "118",
        "119",
        "120",
        "121",
        "122",
        "123",
        "124",
        "125",
        "126",
        "127",
        "128",
        "129",
        "130",
        "131",
        "132",
        "133",
        "134",
        "135",
        "136",
        "137",
        "138",
        "139",
        "140",
        "141",
        "142",
        "143",
        "144",
        "145",
        "146",
        "147",
        "148",
        "149",
        "150",
        "151",
        "152",
        "153",
        "154",
        "155",
        "156",
        "157",
        "158",
        "159",
        "160",
        "161",
        "162",
        "163",
        "164",
        "165",
        "166",
        "167",
        "168",
        "169",
        "170",
        "171",
        "172",
        "173",
        "174",
        "175",
        "176",
        "177",
        "178",
        "179",
        "180",
        "181",
        "182",
        "183",
        "184",
        "185",
        "186",
        "187",
        "188",
        "189",
        "190",
        "191",
        "192",
        "193",
        "194",
        "195",
        "196",
        "197",
        "198",
        "199",
        "200",
        "201",
        "202",
        "203",
        "204",
        "205",
        "206",
        "207",
        "208",
        "209",
        "210",
        "211",
        "212",
        "213",
        "214",
        "215",
        "216",
        "217",
        "218",
        "219",
        "220",
        "221",
        "222",
        "223",
        "224",
        "225",
        "226",
        "227",
        "228",
        "229",
        "230",
        "231",
        "232",
        "233",
        "234",
        "235",
        "236",
        "237",
        "238",
        "239",
        "240",
        "241",
        "242",
        "243",
        "244",
        "245",
        "246",
        "247",
        "248",
        "249",
        "250",
        "251",
        "252",
        "253",
        "254",
        "255",
        "256",
        "257",
        "258",
        "259",
        "260",
        "261",
        "262",
        "263",
        "264",
        "265",
        "266",
        "267",
        "268",
        "269",
        "270",
        "271",
        "272",
        "273",
        "274",
        "275",
        "276",
        "277",
        "278",
        "279",
        "280",
        "281",
        "282",
        "283",
        "284",
        "285",
        "286",
        "287",
        "288",
        "289",
        "290",
        "291",
        "292",
        "293",
        "294",
        "295",
        "296",
        "297",
        "298",
        "299",
        "300",
        "301",
        "302",
        "303",
        "304",
        "305",
        "306",
        "307",
        "308",
        "309",
        "310",
        "311",
        "312",
        "313",
        "314",
        "315",
        "316",
        "317",
        "318",
        "319",
        "320",
        "321",
        "322",
        "323",
        "324",
        "325",
        "326",
        "327",
        "328",
        "329",
        "330",
        "331",
        "332",
        "333",
        "334",
        "335",
        "336",
        "337",
        "338",
        "339",
        "340",
        "341",
        "342",
        "343",
        "344",
        "345",
        "346",
        "347",
        "348",
        "349",
        "350",
        "351",
        "352",
        "353",
        "354",
        "355",
        "356",
        "357",
        "358",
        "359",
        "360",
        "361",
        "362",
        "363",
        "364",
        "365",
        "366",
        "367",
        "368",
        "369",
        "370",
        "371",
        "372",
        "373",
        "374",
        "375",
        "376",
        "377",
        "378",
        "379",
        "380",
        "381",
        "382",
        "383",
        "384",
        "385",
        "386",
        "387",
        "388",
        "389",
        "390",
        "391",
        "392",
        "393",
        "394",
        "395",
        "396",
        "397",
        "398",
        "399",
        "400",
        "401",
        "402",
        "403",
        "404",
        "405",
        "406",
        "407",
        "408",
        "409",
        "410",
        "411",
        "412",
        "413",
        "414",
        "415",
        "416",
        "417",
        "418",
        "419",
        "420",
        "421",
        "422",
        "423",
        "424",
        "425",
        "426",
        "427",
        "428",
        "429",
        "430",
        "431",
        "432",
        "433",
        "434",
        "435",
        "436",
        "437",
        "438",
        "439",
        "440",
        "441",
        "442",
        "443",
        "444",
        "445",
        "446",
        "447",
        "448",
        "449",
        "450",
        "451",
        "452",
        "453",
        "454"
       ],
       "description": "ch_set",
       "index": 0,
       "layout": "IPY_MODEL_7b635053954347908c0dd35d6b6dcc7b",
       "style": "IPY_MODEL_ce757c707faf4172abecd71be9f01b9f"
      }
     },
     "42b6b0ce2dae4d3b89f20313df99ddef": {
      "model_module": "@jupyter-widgets/base",
      "model_module_version": "1.1.0",
      "model_name": "LayoutModel",
      "state": {}
     },
     "4f873f707a5f4a60bb8bd247b5ffa777": {
      "model_module": "@jupyter-widgets/controls",
      "model_module_version": "1.4.0",
      "model_name": "DescriptionStyleModel",
      "state": {
       "description_width": ""
      }
     },
     "5c356825222b43bea7a897d7bc18857f": {
      "model_module": "@jupyter-widgets/output",
      "model_module_version": "1.0.0",
      "model_name": "OutputModel",
      "state": {
       "layout": "IPY_MODEL_bb03c81792364840a137480cbc80c59b",
       "outputs": [
        {
         "data": {
          "image/png": "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\n",
          "text/plain": "<Figure size 640x320 with 1 Axes>"
         },
         "metadata": {
          "needs_background": "light"
         },
         "output_type": "display_data"
        }
       ]
      }
     },
     "5f9e8fce76d8454cb1c140cc3cfa4644": {
      "model_module": "@jupyter-widgets/base",
      "model_module_version": "1.1.0",
      "model_name": "LayoutModel",
      "state": {}
     },
     "6985779dd94f4cd2b68192ee8a81bad1": {
      "model_module": "@jupyter-widgets/controls",
      "model_module_version": "1.4.0",
      "model_name": "VBoxModel",
      "state": {
       "_dom_classes": [
        "widget-interact"
       ],
       "children": [
        "IPY_MODEL_ccb45248962a4eedbb5af5bfa6206651",
        "IPY_MODEL_8840631765044c41962eb7866592537a"
       ],
       "layout": "IPY_MODEL_42b6b0ce2dae4d3b89f20313df99ddef"
      }
     },
     "698720ff9f544f6bb8a0a2f62cc8b987": {
      "model_module": "@jupyter-widgets/controls",
      "model_module_version": "1.4.0",
      "model_name": "SelectModel",
      "state": {
       "_options_labels": [
        "0",
        "1",
        "2",
        "3",
        "4",
        "5",
        "6",
        "7",
        "8",
        "9",
        "10",
        "11",
        "12",
        "13",
        "14",
        "15",
        "16",
        "17",
        "18",
        "19",
        "20",
        "21",
        "22",
        "23",
        "24",
        "25",
        "26",
        "27",
        "28",
        "29",
        "30",
        "31",
        "32",
        "33",
        "34",
        "35",
        "36",
        "37",
        "38",
        "39",
        "40",
        "41",
        "42",
        "43",
        "44",
        "45",
        "46",
        "47",
        "48",
        "49",
        "50",
        "51",
        "52",
        "53",
        "54",
        "55",
        "56",
        "57",
        "58",
        "59",
        "60",
        "61",
        "62",
        "63",
        "64",
        "65",
        "66",
        "67",
        "68",
        "69",
        "70",
        "71",
        "72",
        "73",
        "74",
        "75",
        "76",
        "77",
        "78",
        "79",
        "80",
        "81",
        "82",
        "83",
        "84",
        "85",
        "86",
        "87",
        "88",
        "89",
        "90",
        "91",
        "92",
        "93",
        "94",
        "95",
        "96",
        "97",
        "98",
        "99",
        "100",
        "101",
        "102",
        "103",
        "104"
       ],
       "description": "ch_set",
       "index": 0,
       "layout": "IPY_MODEL_78e4bae8ab5f451dbcf7b25f5136bc42",
       "style": "IPY_MODEL_148f4b2dde6944fa90eefae611bdcaaf"
      }
     },
     "78726c2abbe34007a5601347317a74a9": {
      "model_module": "@jupyter-widgets/controls",
      "model_module_version": "1.4.0",
      "model_name": "VBoxModel",
      "state": {
       "_dom_classes": [
        "widget-interact"
       ],
       "children": [
        "IPY_MODEL_3b5a0a87068f407e9d71f3c1e412be44",
        "IPY_MODEL_8d885278b5914eaa81c98d508361af68"
       ],
       "layout": "IPY_MODEL_e68199de43c341d8b80766cb01124f70"
      }
     },
     "78e4bae8ab5f451dbcf7b25f5136bc42": {
      "model_module": "@jupyter-widgets/base",
      "model_module_version": "1.1.0",
      "model_name": "LayoutModel",
      "state": {}
     },
     "79d6742e91bb4284adc7e9d523b19e20": {
      "model_module": "@jupyter-widgets/controls",
      "model_module_version": "1.4.0",
      "model_name": "VBoxModel",
      "state": {
       "_dom_classes": [
        "widget-interact"
       ],
       "children": [
        "IPY_MODEL_bcb683a941df40a3af296dd1231c40a8",
        "IPY_MODEL_cbb6406c217f42fa9fdba954e42df77a"
       ],
       "layout": "IPY_MODEL_eb461e2f5d0748ff9e3e59dc55f11884"
      }
     },
     "7b635053954347908c0dd35d6b6dcc7b": {
      "model_module": "@jupyter-widgets/base",
      "model_module_version": "1.1.0",
      "model_name": "LayoutModel",
      "state": {}
     },
     "7bfd83a06c0548e9add86c3b253613b9": {
      "model_module": "@jupyter-widgets/controls",
      "model_module_version": "1.4.0",
      "model_name": "VBoxModel",
      "state": {
       "_dom_classes": [
        "widget-interact"
       ],
       "children": [
        "IPY_MODEL_bbe18e0cb3ae4b3384b56430fd0159bd",
        "IPY_MODEL_2a347c3107d544279cf28f6b18a08f73"
       ],
       "layout": "IPY_MODEL_b518ee5a39e2409397a8db061e35a2fc"
      }
     },
     "80f2bb57e7ba4da7af468d353723375c": {
      "model_module": "@jupyter-widgets/base",
      "model_module_version": "1.1.0",
      "model_name": "LayoutModel",
      "state": {}
     },
     "82a05c4fdbdf4c648a0fcfa5068dad46": {
      "model_module": "@jupyter-widgets/controls",
      "model_module_version": "1.4.0",
      "model_name": "VBoxModel",
      "state": {
       "_dom_classes": [
        "widget-interact"
       ],
       "children": [
        "IPY_MODEL_698720ff9f544f6bb8a0a2f62cc8b987",
        "IPY_MODEL_d28c3463cccc4eff939bc489b56b4c7d"
       ],
       "layout": "IPY_MODEL_ed8857d84a3e45ce83792e9a298088a8"
      }
     },
     "8840631765044c41962eb7866592537a": {
      "model_module": "@jupyter-widgets/output",
      "model_module_version": "1.0.0",
      "model_name": "OutputModel",
      "state": {
       "layout": "IPY_MODEL_5f9e8fce76d8454cb1c140cc3cfa4644",
       "outputs": [
        {
         "data": {
          "image/png": "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\n",
          "text/plain": "<Figure size 640x320 with 1 Axes>"
         },
         "metadata": {
          "needs_background": "light"
         },
         "output_type": "display_data"
        }
       ]
      }
     },
     "8d2507962dca458cb2ea5408dbbf5ea0": {
      "model_module": "@jupyter-widgets/base",
      "model_module_version": "1.1.0",
      "model_name": "LayoutModel",
      "state": {}
     },
     "8d885278b5914eaa81c98d508361af68": {
      "model_module": "@jupyter-widgets/output",
      "model_module_version": "1.0.0",
      "model_name": "OutputModel",
      "state": {
       "layout": "IPY_MODEL_0032db358ceb449097d9156c03f6ba43",
       "outputs": [
        {
         "data": {
          "image/png": "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\n",
          "text/plain": "<Figure size 640x320 with 1 Axes>"
         },
         "metadata": {
          "needs_background": "light"
         },
         "output_type": "display_data"
        }
       ]
      }
     },
     "8dcbf55b1eb74f46abe56cf03d3d1d31": {
      "model_module": "@jupyter-widgets/controls",
      "model_module_version": "1.4.0",
      "model_name": "VBoxModel",
      "state": {
       "_dom_classes": [
        "widget-interact"
       ],
       "children": [
        "IPY_MODEL_04ec219c3903412181aabbe58ffc1d1d",
        "IPY_MODEL_5c356825222b43bea7a897d7bc18857f"
       ],
       "layout": "IPY_MODEL_a67ac96a46a0417ca5ac52ac5a535ff8"
      }
     },
     "a67ac96a46a0417ca5ac52ac5a535ff8": {
      "model_module": "@jupyter-widgets/base",
      "model_module_version": "1.1.0",
      "model_name": "LayoutModel",
      "state": {}
     },
     "b45a0169c8724e11a13435ff84ab8277": {
      "model_module": "@jupyter-widgets/controls",
      "model_module_version": "1.4.0",
      "model_name": "DescriptionStyleModel",
      "state": {
       "description_width": ""
      }
     },
     "b518ee5a39e2409397a8db061e35a2fc": {
      "model_module": "@jupyter-widgets/base",
      "model_module_version": "1.1.0",
      "model_name": "LayoutModel",
      "state": {}
     },
     "bb03c81792364840a137480cbc80c59b": {
      "model_module": "@jupyter-widgets/base",
      "model_module_version": "1.1.0",
      "model_name": "LayoutModel",
      "state": {}
     },
     "bbe18e0cb3ae4b3384b56430fd0159bd": {
      "model_module": "@jupyter-widgets/controls",
      "model_module_version": "1.4.0",
      "model_name": "SelectModel",
      "state": {
       "_options_labels": [
        "0",
        "1",
        "2",
        "3",
        "4",
        "5",
        "6",
        "7",
        "8",
        "9",
        "10",
        "11"
       ],
       "description": "ch_set",
       "index": 0,
       "layout": "IPY_MODEL_2bb0e09def514b00a89fd083a90626bd",
       "style": "IPY_MODEL_c8c5202bf5ac4981bc23ef8ad2c26d35"
      }
     },
     "bcb683a941df40a3af296dd1231c40a8": {
      "model_module": "@jupyter-widgets/controls",
      "model_module_version": "1.4.0",
      "model_name": "SelectModel",
      "state": {
       "_options_labels": [
        "0",
        "1",
        "2",
        "3",
        "4",
        "5",
        "6",
        "7",
        "8",
        "9",
        "10",
        "11",
        "12",
        "13",
        "14",
        "15",
        "16",
        "17",
        "18",
        "19",
        "20",
        "21",
        "22",
        "23",
        "24",
        "25",
        "26",
        "27",
        "28",
        "29",
        "30",
        "31",
        "32",
        "33",
        "34",
        "35",
        "36",
        "37",
        "38",
        "39",
        "40",
        "41",
        "42",
        "43",
        "44",
        "45",
        "46",
        "47",
        "48",
        "49",
        "50",
        "51",
        "52",
        "53",
        "54",
        "55",
        "56",
        "57",
        "58",
        "59",
        "60",
        "61",
        "62",
        "63",
        "64",
        "65",
        "66",
        "67",
        "68",
        "69",
        "70",
        "71",
        "72",
        "73",
        "74",
        "75",
        "76",
        "77",
        "78",
        "79",
        "80",
        "81",
        "82",
        "83",
        "84",
        "85",
        "86",
        "87",
        "88",
        "89",
        "90",
        "91",
        "92",
        "93",
        "94",
        "95",
        "96",
        "97",
        "98",
        "99",
        "100",
        "101",
        "102",
        "103",
        "104",
        "105",
        "106",
        "107",
        "108",
        "109",
        "110",
        "111",
        "112",
        "113",
        "114",
        "115",
        "116",
        "117",
        "118",
        "119",
        "120",
        "121",
        "122",
        "123",
        "124",
        "125",
        "126",
        "127",
        "128",
        "129",
        "130",
        "131",
        "132",
        "133",
        "134",
        "135",
        "136",
        "137",
        "138",
        "139",
        "140",
        "141",
        "142",
        "143",
        "144",
        "145",
        "146",
        "147",
        "148",
        "149",
        "150",
        "151",
        "152",
        "153",
        "154",
        "155",
        "156",
        "157",
        "158",
        "159",
        "160",
        "161",
        "162",
        "163",
        "164",
        "165",
        "166",
        "167",
        "168",
        "169",
        "170",
        "171",
        "172",
        "173",
        "174",
        "175",
        "176",
        "177",
        "178",
        "179",
        "180",
        "181",
        "182",
        "183",
        "184",
        "185",
        "186",
        "187",
        "188",
        "189",
        "190",
        "191",
        "192",
        "193",
        "194",
        "195",
        "196",
        "197",
        "198",
        "199",
        "200",
        "201",
        "202",
        "203",
        "204",
        "205",
        "206",
        "207",
        "208",
        "209",
        "210",
        "211",
        "212",
        "213",
        "214",
        "215",
        "216",
        "217",
        "218",
        "219",
        "220",
        "221",
        "222",
        "223",
        "224",
        "225",
        "226",
        "227",
        "228",
        "229",
        "230",
        "231",
        "232",
        "233",
        "234",
        "235",
        "236",
        "237",
        "238",
        "239",
        "240",
        "241",
        "242",
        "243",
        "244",
        "245",
        "246",
        "247",
        "248",
        "249",
        "250",
        "251",
        "252",
        "253",
        "254",
        "255",
        "256",
        "257",
        "258",
        "259",
        "260",
        "261",
        "262",
        "263",
        "264",
        "265",
        "266",
        "267",
        "268",
        "269",
        "270",
        "271",
        "272",
        "273",
        "274",
        "275",
        "276",
        "277",
        "278",
        "279",
        "280",
        "281",
        "282",
        "283",
        "284",
        "285",
        "286",
        "287",
        "288",
        "289",
        "290",
        "291",
        "292",
        "293",
        "294",
        "295",
        "296",
        "297",
        "298",
        "299",
        "300",
        "301",
        "302",
        "303",
        "304",
        "305",
        "306",
        "307",
        "308",
        "309",
        "310",
        "311",
        "312",
        "313",
        "314",
        "315",
        "316",
        "317",
        "318",
        "319",
        "320",
        "321",
        "322",
        "323",
        "324",
        "325",
        "326",
        "327",
        "328",
        "329",
        "330",
        "331",
        "332",
        "333",
        "334",
        "335",
        "336",
        "337",
        "338",
        "339",
        "340",
        "341",
        "342",
        "343",
        "344",
        "345",
        "346",
        "347",
        "348",
        "349",
        "350",
        "351",
        "352",
        "353",
        "354",
        "355",
        "356",
        "357",
        "358",
        "359",
        "360",
        "361",
        "362",
        "363",
        "364",
        "365",
        "366",
        "367",
        "368",
        "369",
        "370",
        "371",
        "372",
        "373",
        "374",
        "375",
        "376",
        "377",
        "378",
        "379",
        "380",
        "381",
        "382",
        "383",
        "384",
        "385",
        "386",
        "387",
        "388",
        "389",
        "390",
        "391",
        "392",
        "393",
        "394",
        "395",
        "396",
        "397",
        "398",
        "399",
        "400",
        "401",
        "402",
        "403",
        "404",
        "405",
        "406",
        "407",
        "408",
        "409",
        "410",
        "411",
        "412",
        "413",
        "414",
        "415",
        "416",
        "417",
        "418",
        "419",
        "420",
        "421",
        "422",
        "423",
        "424",
        "425",
        "426",
        "427",
        "428",
        "429",
        "430",
        "431",
        "432",
        "433",
        "434",
        "435",
        "436",
        "437",
        "438",
        "439",
        "440",
        "441",
        "442",
        "443",
        "444",
        "445",
        "446",
        "447",
        "448",
        "449",
        "450",
        "451",
        "452",
        "453",
        "454"
       ],
       "description": "ch_set",
       "index": 0,
       "layout": "IPY_MODEL_d4f402120acf46caaff4f211ef74ecf1",
       "style": "IPY_MODEL_bf4bfcb915094c3581c14dfefab62041"
      }
     },
     "bf4bfcb915094c3581c14dfefab62041": {
      "model_module": "@jupyter-widgets/controls",
      "model_module_version": "1.4.0",
      "model_name": "DescriptionStyleModel",
      "state": {
       "description_width": ""
      }
     },
     "c8c5202bf5ac4981bc23ef8ad2c26d35": {
      "model_module": "@jupyter-widgets/controls",
      "model_module_version": "1.4.0",
      "model_name": "DescriptionStyleModel",
      "state": {
       "description_width": ""
      }
     },
     "cbb6406c217f42fa9fdba954e42df77a": {
      "model_module": "@jupyter-widgets/output",
      "model_module_version": "1.0.0",
      "model_name": "OutputModel",
      "state": {
       "layout": "IPY_MODEL_179ac2a7165d487bb91362e36e589e76",
       "outputs": [
        {
         "data": {
          "image/png": "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\n",
          "text/plain": "<Figure size 640x320 with 1 Axes>"
         },
         "metadata": {
          "needs_background": "light"
         },
         "output_type": "display_data"
        }
       ]
      }
     },
     "ccb45248962a4eedbb5af5bfa6206651": {
      "model_module": "@jupyter-widgets/controls",
      "model_module_version": "1.4.0",
      "model_name": "SelectModel",
      "state": {
       "_options_labels": [
        "0",
        "1",
        "2",
        "3",
        "4",
        "5",
        "6",
        "7",
        "8",
        "9",
        "10",
        "11",
        "12",
        "13",
        "14",
        "15",
        "16",
        "17",
        "18",
        "19",
        "20",
        "21",
        "22",
        "23",
        "24",
        "25",
        "26",
        "27",
        "28",
        "29",
        "30",
        "31",
        "32",
        "33",
        "34",
        "35",
        "36",
        "37",
        "38",
        "39",
        "40",
        "41",
        "42",
        "43",
        "44",
        "45",
        "46",
        "47",
        "48",
        "49",
        "50",
        "51",
        "52",
        "53",
        "54",
        "55",
        "56",
        "57",
        "58",
        "59",
        "60",
        "61",
        "62",
        "63",
        "64",
        "65",
        "66",
        "67",
        "68",
        "69",
        "70",
        "71",
        "72",
        "73",
        "74",
        "75",
        "76",
        "77",
        "78",
        "79",
        "80",
        "81",
        "82",
        "83",
        "84",
        "85",
        "86",
        "87",
        "88",
        "89",
        "90",
        "91",
        "92",
        "93",
        "94",
        "95",
        "96",
        "97",
        "98",
        "99",
        "100",
        "101",
        "102",
        "103",
        "104"
       ],
       "description": "ch_set",
       "index": 0,
       "layout": "IPY_MODEL_80f2bb57e7ba4da7af468d353723375c",
       "style": "IPY_MODEL_4f873f707a5f4a60bb8bd247b5ffa777"
      }
     },
     "ce757c707faf4172abecd71be9f01b9f": {
      "model_module": "@jupyter-widgets/controls",
      "model_module_version": "1.4.0",
      "model_name": "DescriptionStyleModel",
      "state": {
       "description_width": ""
      }
     },
     "d28c3463cccc4eff939bc489b56b4c7d": {
      "model_module": "@jupyter-widgets/output",
      "model_module_version": "1.0.0",
      "model_name": "OutputModel",
      "state": {
       "layout": "IPY_MODEL_1adbc55e9f594960accbfee578ed8b5b",
       "outputs": [
        {
         "data": {
          "image/png": "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\n",
          "text/plain": "<Figure size 640x320 with 1 Axes>"
         },
         "metadata": {
          "needs_background": "light"
         },
         "output_type": "display_data"
        }
       ]
      }
     },
     "d4f402120acf46caaff4f211ef74ecf1": {
      "model_module": "@jupyter-widgets/base",
      "model_module_version": "1.1.0",
      "model_name": "LayoutModel",
      "state": {}
     },
     "e1651b86c80c47e4ad29d84be3724ee0": {
      "model_module": "@jupyter-widgets/base",
      "model_module_version": "1.1.0",
      "model_name": "LayoutModel",
      "state": {}
     },
     "e68199de43c341d8b80766cb01124f70": {
      "model_module": "@jupyter-widgets/base",
      "model_module_version": "1.1.0",
      "model_name": "LayoutModel",
      "state": {}
     },
     "eb461e2f5d0748ff9e3e59dc55f11884": {
      "model_module": "@jupyter-widgets/base",
      "model_module_version": "1.1.0",
      "model_name": "LayoutModel",
      "state": {}
     },
     "ed8857d84a3e45ce83792e9a298088a8": {
      "model_module": "@jupyter-widgets/base",
      "model_module_version": "1.1.0",
      "model_name": "LayoutModel",
      "state": {}
     }
    },
    "version_major": 2,
    "version_minor": 0
   }
  }
 },
 "nbformat": 4,
 "nbformat_minor": 2
}
